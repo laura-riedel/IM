{
 "cells": [
  {
   "cell_type": "code",
   "execution_count": 1,
   "id": "872e1801-fc40-4979-9fa4-08d51ccbab10",
   "metadata": {},
   "outputs": [],
   "source": [
    "# standard modules\n",
    "import importlib\n",
    "\n",
    "# PyTorch modules\n",
    "import torch\n",
    "\n",
    "# import data + model modules\n",
    "import ukbb_data\n",
    "import ukbb_ica_models\n",
    "# in case of changes \n",
    "importlib.reload(ukbb_data)\n",
    "importlib.reload(ukbb_ica_models)\n",
    "\n",
    "# import custom functions\n",
    "import utils\n",
    "# in case of changes\n",
    "importlib.reload(utils)\n",
    "\n",
    "# check: is GPU available?\n",
    "torch.cuda.is_available()"
   ]
  },
  {
   "cell_type": "code",
   "execution_count": 2,
   "id": "6828a89e-bc2d-4da4-abfe-8452a75047db",
   "metadata": {},
   "outputs": [],
   "source": [
    "# prepare data paths\n",
    "ukbb_dir = '/ritter/share/data/UKBB/ukb_data/'\n",
    "\n",
    "# define logging path\n",
    "path = '../tracking/ICA25/KernelSize1DCNN/'"
   ]
  },
  {
   "cell_type": "code",
   "execution_count": null,
   "id": "28f2f7df-990a-4513-a975-485f1ba3aabd",
   "metadata": {},
   "outputs": [],
   "source": [
    "utils.make_reproducible()"
   ]
  },
  {
   "cell_type": "code",
   "execution_count": 7,
   "id": "8f960db4-0082-4554-b0e0-3128c88c31f9",
   "metadata": {},
   "outputs": [
    {
     "name": "stdout",
     "output_type": "stream",
     "text": [
      "\u001b[1m\u001b[37mcuda02                    \u001b[m  Tue Jun 13 15:54:37 2023  \u001b[1m\u001b[30m470.182.03\u001b[m\n",
      "\u001b[36m[0]\u001b[m \u001b[34mNVIDIA GeForce RTX 3090\u001b[m |\u001b[31m 29'C\u001b[m, \u001b[32m  0 %\u001b[m | \u001b[36m\u001b[1m\u001b[33m 4204\u001b[m / \u001b[33m24268\u001b[m MB | \u001b[1m\u001b[30mtomasz\u001b[m(\u001b[33m2873M\u001b[m) \u001b[1m\u001b[30mtjade\u001b[m(\u001b[33m1323M\u001b[m) \u001b[1m\u001b[30mgdm\u001b[m(\u001b[33m4M\u001b[m)\n",
      "\u001b[36m[1]\u001b[m \u001b[34mNVIDIA GeForce RTX 3090\u001b[m |\u001b[31m 49'C\u001b[m, \u001b[32m  2 %\u001b[m | \u001b[36m\u001b[1m\u001b[33m 1913\u001b[m / \u001b[33m24268\u001b[m MB | \u001b[1m\u001b[30mlaurar\u001b[m(\u001b[33m1905M\u001b[m) \u001b[1m\u001b[30mgdm\u001b[m(\u001b[33m4M\u001b[m)\n",
      "\u001b[36m[2]\u001b[m \u001b[34mNVIDIA GeForce RTX 3090\u001b[m |\u001b[1m\u001b[31m 55'C\u001b[m, \u001b[1m\u001b[32m 62 %\u001b[m | \u001b[36m\u001b[1m\u001b[33m11352\u001b[m / \u001b[33m24268\u001b[m MB | \u001b[1m\u001b[30mtjade\u001b[m(\u001b[33m2417M\u001b[m) \u001b[1m\u001b[30mtjade\u001b[m(\u001b[33m8927M\u001b[m) \u001b[1m\u001b[30mgdm\u001b[m(\u001b[33m4M\u001b[m)\n",
      "\u001b[36m[3]\u001b[m \u001b[34mNVIDIA GeForce RTX 3090\u001b[m |\u001b[1m\u001b[31m 65'C\u001b[m, \u001b[1m\u001b[32m 82 %\u001b[m | \u001b[36m\u001b[1m\u001b[33m17271\u001b[m / \u001b[33m24268\u001b[m MB | \u001b[1m\u001b[30mtjade\u001b[m(\u001b[33m17263M\u001b[m) \u001b[1m\u001b[30mgdm\u001b[m(\u001b[33m4M\u001b[m)\n"
     ]
    }
   ],
   "source": [
    "! gpustat"
   ]
  },
  {
   "cell_type": "markdown",
   "id": "ad1695ab-fd4d-4120-aaa9-36eb2d6024f9",
   "metadata": {},
   "source": [
    "# Testing different kernel sizes for the ICA25 simple 1D CNN"
   ]
  },
  {
   "cell_type": "code",
   "execution_count": null,
   "id": "5cbc0465-dbc9-475d-b0a8-28b58a0e2159",
   "metadata": {},
   "outputs": [],
   "source": [
    "def train_kernelsize(log_path, data_path, kernel_size, device):\n",
    "    \"\"\"\n",
    "    Fuction for using the same model, training and testing set-up for testing\n",
    "    different kernel sizes.\n",
    "    Outputs test score and a plot visualising the training progression.\n",
    "    Input:\n",
    "        log_path: path to where logs, checkpoints and data info should be saved\n",
    "        data_path: path to location where data is saved (expectations see utils.DataModule)\n",
    "        kernel_size: kernel size to set on all layers, as int\n",
    "        device: which GPU to run on\n",
    "    Output:\n",
    "        trainer: trained model\n",
    "        datamodule: PyTorch Lightning UKBB DataModule\n",
    "    \"\"\"\n",
    "    # initialise model\n",
    "    simple_CNN = ukbb_ica_models.simple1DCNN(kernel_size=kernel_size)\n",
    "\n",
    "    # initialise logger\n",
    "    logger = utils.logger_init(save_dir=log_path+str(kernel_size)+'/')\n",
    "\n",
    "    # set callbacks\n",
    "    early_stopping = utils.earlystopping_init()\n",
    "\n",
    "    checkpoint = utils.checkpoint_init(save_dir=log_path+str(kernel_size)+'/')\n",
    "\n",
    "    # initialise trainer\n",
    "    trainer = utils.trainer_init(device=device,\n",
    "                                logger=logger,\n",
    "                                callbacks=[early_stopping, checkpoint])\n",
    "\n",
    "    # initialise DataModule\n",
    "    datamodule = ukbb_data.UKBBDataModule(data_path)\n",
    "\n",
    "    # train model\n",
    "    trainer.fit(simple_CNN, datamodule=datamodule)\n",
    "    print('Training complete.')\n",
    "\n",
    "    # save info on which data was used + what the train/val/test split was\n",
    "    utils.save_data_info(path=log_path+str(kernel_size)+'/', datamodule=datamodule)\n",
    "    \n",
    "    return trainer, datamodule\n",
    "\n",
    "def test_kernelsize(trainer, datamodule, kernel_size):\n",
    "    \"\"\"\n",
    "    Fuction for using the same model and testing set-up for testing\n",
    "    different kernel sizes.\n",
    "    Outputs test score and a plot visualising the training progression.\n",
    "    Input:\n",
    "        trainer: the trained model\n",
    "        datamodule: PyTorch Lightning DataModule instance\n",
    "        kernel_size: kernel size to set on all layers, as int\n",
    "    \"\"\"\n",
    "    print(f'\\nTesting model with kernel size {kernel_size}...')\n",
    "    \n",
    "    # test model\n",
    "    trainer.test(ckpt_path='best', datamodule=datamodule)\n",
    "    \n",
    "    # visualise training\n",
    "    print(f'\\nVisualise training of model with kernel size {kernel_size}')    \n",
    "    metrics = utils.get_current_metrics(trainer, show=True)\n",
    "    utils.plot_training(data=metrics, title=f'Training visualisation of the ICA25 1D-CNN with kernel size {kernel_size}')"
   ]
  },
  {
   "cell_type": "markdown",
   "id": "4fd12b63-b38a-4aa5-91e4-1e1a4b11a395",
   "metadata": {},
   "source": [
    "## kernel size = 3"
   ]
  },
  {
   "cell_type": "code",
   "execution_count": null,
   "id": "e4c0f45d-3881-4c38-9d4d-bd2a7d5f68c8",
   "metadata": {},
   "outputs": [],
   "source": [
    "kernelsize_3, kernelsize_3_data = train_kernelsize(path, ukbb_dir, 3, 1)"
   ]
  },
  {
   "cell_type": "code",
   "execution_count": null,
   "id": "84463407-6248-425f-b13d-549e41dda0ef",
   "metadata": {},
   "outputs": [],
   "source": [
    "test_kernelsize(kernelsize_3, kernelsize_3_data, 3)"
   ]
  },
  {
   "cell_type": "markdown",
   "id": "c244f26e-7098-4701-94ae-e58fc0b02fa5",
   "metadata": {},
   "source": [
    "## kernel size = 5"
   ]
  },
  {
   "cell_type": "code",
   "execution_count": null,
   "id": "ad8305ec-b347-4e74-bcf7-bbdda9e8f1ff",
   "metadata": {},
   "outputs": [],
   "source": [
    "kernelsize_5, kernelsize_5_data = train_kernelsize(path, ukbb_dir, 5, 1)"
   ]
  },
  {
   "cell_type": "code",
   "execution_count": null,
   "id": "86371c1b-a799-4785-8b24-e46ee6d5c424",
   "metadata": {},
   "outputs": [],
   "source": [
    "test_kernelsize(kernelsize_5, kernelsize_5_data, 5)"
   ]
  },
  {
   "cell_type": "markdown",
   "id": "37ffdf23-54e7-45a9-81f1-b8902587ed5d",
   "metadata": {},
   "source": [
    "## kernel size = 7"
   ]
  },
  {
   "cell_type": "code",
   "execution_count": null,
   "id": "79d7ff2c-c136-4b16-b5fc-080a74df402b",
   "metadata": {},
   "outputs": [],
   "source": [
    "kernelsize_7, kernelsize_7_data = train_kernelsize(path, ukbb_dir, 7, 1)"
   ]
  },
  {
   "cell_type": "code",
   "execution_count": null,
   "id": "cfe586fc-745d-43bf-a049-635947a215c5",
   "metadata": {},
   "outputs": [],
   "source": [
    "test_kernelsize(kernelsize_7, kernelsize_7_data, 7)"
   ]
  },
  {
   "cell_type": "markdown",
   "id": "62c93b0b-5de4-4e50-843a-4727dd2e34cb",
   "metadata": {},
   "source": [
    "## kernel size = 10"
   ]
  },
  {
   "cell_type": "code",
   "execution_count": null,
   "id": "7821f74b-ae25-4081-83d3-041b439570d9",
   "metadata": {},
   "outputs": [],
   "source": [
    "kernelsize_10, kernelsize_10_data = train_kernelsize(path, ukbb_dir, 10, 1)"
   ]
  },
  {
   "cell_type": "code",
   "execution_count": null,
   "id": "8bc74c41-04a4-4717-8765-e0e563cb864f",
   "metadata": {},
   "outputs": [],
   "source": [
    "test_kernelsize(kernelsize_10, kernelsize_10_data, 10)"
   ]
  },
  {
   "cell_type": "markdown",
   "id": "ffde1c96-b964-4275-b992-e35f9d552a1d",
   "metadata": {},
   "source": [
    "## kernel size = 15"
   ]
  },
  {
   "cell_type": "code",
   "execution_count": null,
   "id": "8316a48d-37ef-4d09-9f17-7fc35809baa2",
   "metadata": {},
   "outputs": [],
   "source": [
    "kernelsize_15, kernelsize_15_data = train_kernelsize(path, ukbb_dir, 15, 1)"
   ]
  },
  {
   "cell_type": "code",
   "execution_count": null,
   "id": "0839bb9f-a160-4115-ae24-8d33799476b2",
   "metadata": {},
   "outputs": [],
   "source": [
    "test_kernelsize(kernelsize_15, kernelsize_15_data, 15)"
   ]
  }
 ],
 "metadata": {
  "kernelspec": {
   "display_name": "Python 3 (ipykernel)",
   "language": "python",
   "name": "python3"
  },
  "language_info": {
   "codemirror_mode": {
    "name": "ipython",
    "version": 3
   },
   "file_extension": ".py",
   "mimetype": "text/x-python",
   "name": "python",
   "nbconvert_exporter": "python",
   "pygments_lexer": "ipython3",
   "version": "3.10.9"
  }
 },
 "nbformat": 4,
 "nbformat_minor": 5
}
