{
 "cells": [
  {
   "cell_type": "code",
   "execution_count": 1,
   "id": "d0b78a94-f56e-42ff-9422-fd03180615c1",
   "metadata": {},
   "outputs": [],
   "source": [
    "# standard modules\n",
    "import numpy as np\n",
    "import pandas as pd\n",
    "import importlib\n",
    "\n",
    "# PyTorch modules\n",
    "import torch\n",
    "import pytorch_lightning as pl\n",
    "from pytorch_lightning.loggers import CSVLogger\n",
    "from pytorch_lightning.callbacks import EarlyStopping, ModelCheckpoint\n",
    "\n",
    "# import data + model modules\n",
    "import ukbb_data\n",
    "import ukbb_ica_models\n",
    "# in case of changes \n",
    "importlib.reload(ukbb_data)\n",
    "importlib.reload(ukbb_ica_models)\n",
    "\n",
    "# import custom functions\n",
    "import utils\n",
    "# in case of changes\n",
    "importlib.reload(utils)\n",
    "\n",
    "# visualisation\n",
    "import matplotlib.pyplot as plt\n",
    "import seaborn as sns"
   ]
  },
  {
   "cell_type": "code",
   "execution_count": 2,
   "id": "1000713b-dd13-4cac-babf-d2e4c035fb31",
   "metadata": {},
   "outputs": [],
   "source": [
    "# prepare data paths\n",
    "ukbb_dir = '/ritter/share/data/UKBB/ukb_data/'"
   ]
  },
  {
   "cell_type": "code",
   "execution_count": 3,
   "id": "823fa411-c1a1-409e-a7d8-e0ab5be5e49c",
   "metadata": {},
   "outputs": [
    {
     "data": {
      "text/plain": [
       "True"
      ]
     },
     "execution_count": 3,
     "metadata": {},
     "output_type": "execute_result"
    }
   ],
   "source": [
    "torch.cuda.is_available()"
   ]
  },
  {
   "cell_type": "markdown",
   "id": "7ebd59b1-4113-4be7-91cf-6dc47a8d69df",
   "metadata": {},
   "source": [
    "# Testing different learning rates for the ICA25 simple 1D CNN"
   ]
  },
  {
   "cell_type": "code",
   "execution_count": null,
   "id": "0a135de1-c19c-4560-aad7-ef5cae23abea",
   "metadata": {},
   "outputs": [],
   "source": [
    "# define learning rates to test \n",
    "lrs = [10e-2, 10e-3, 10e-4, 10e-5, 10e-6]\n",
    "\n",
    "# define logging dirs\n",
    "log_dir = 'ICA25/LearningRates/'\n",
    "\n",
    "# initialise DataModule\n",
    "data = ukbb_data.UKBBDataModule(ukbb_dir)\n",
    "\n",
    "for lr in lrs:\n",
    "    print(f'\\n>>Training model with learning rate {lr}...')\n",
    "    # initialise model\n",
    "    simple_CNN = ukbb_ica_models.simple1DCNN(lr=lr)\n",
    "\n",
    "    # initialise logger\n",
    "    logger = CSVLogger(save_dir=log_dir+str(lr)+'/', name='Logs')\n",
    "\n",
    "    # set callbacks\n",
    "    early_stopping = EarlyStopping(monitor='val_loss')\n",
    "\n",
    "    checkpoint = ModelCheckpoint(dirpath=log_dir+str(lr)+'/Checkpoint/',\n",
    "                                 filename='models-{epoch:02d}-{valid_loss:.2f}',\n",
    "                                 monitor='val_loss',\n",
    "                                 save_top_k=1,\n",
    "                                 mode='min')\n",
    "\n",
    "    # initialise trainer\n",
    "    trainer = pl.Trainer(accelerator='gpu',\n",
    "                         devices=[2],\n",
    "                         max_epochs=500, ## which number would be good?\n",
    "                         logger=logger,\n",
    "                         log_every_n_steps=10,\n",
    "                         callbacks=[early_stopping, checkpoint],\n",
    "                         deterministic=True)\n",
    "\n",
    "    # train model\n",
    "    trainer.fit(simple_CNN, datamodule=data)\n",
    "    print('Training complete.')\n",
    "    print(f'\\nTesting model with learning rate {lr}...')\n",
    "    \n",
    "    # test model\n",
    "    trainer.test(simple_CNN, datamodule=data)\n",
    "    \n",
    "    ### print pic?"
   ]
  },
  {
   "cell_type": "code",
   "execution_count": null,
   "id": "526f2a4d-c844-45a3-a803-5539de7c9993",
   "metadata": {},
   "outputs": [],
   "source": []
  }
 ],
 "metadata": {
  "kernelspec": {
   "display_name": "Python 3 (ipykernel)",
   "language": "python",
   "name": "python3"
  },
  "language_info": {
   "codemirror_mode": {
    "name": "ipython",
    "version": 3
   },
   "file_extension": ".py",
   "mimetype": "text/x-python",
   "name": "python",
   "nbconvert_exporter": "python",
   "pygments_lexer": "ipython3",
   "version": "3.10.9"
  }
 },
 "nbformat": 4,
 "nbformat_minor": 5
}
