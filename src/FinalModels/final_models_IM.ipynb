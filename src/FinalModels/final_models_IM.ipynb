{
 "cells": [
  {
   "cell_type": "code",
   "execution_count": 27,
   "id": "9cb6aaf6-70cd-4506-a40b-eaef194364fd",
   "metadata": {},
   "outputs": [
    {
     "data": {
      "text/plain": [
       "True"
      ]
     },
     "execution_count": 27,
     "metadata": {},
     "output_type": "execute_result"
    }
   ],
   "source": [
    "# standard modules\n",
    "import importlib\n",
    "import yaml\n",
    "import sys\n",
    "import pandas as pd\n",
    "import numpy as np\n",
    "\n",
    "# PyTorch modules\n",
    "import torch\n",
    "\n",
    "# import data + model modules\n",
    "from ukbb_package import ukbb_data\n",
    "from ukbb_package import ukbb_ica_models\n",
    "# in case of changes \n",
    "importlib.reload(ukbb_data)\n",
    "importlib.reload(ukbb_ica_models)\n",
    "\n",
    "# import custom functions\n",
    "from ukbb_package import utils\n",
    "# in case of changes\n",
    "importlib.reload(utils)\n",
    "\n",
    "# check: is GPU available?\n",
    "torch.cuda.is_available()"
   ]
  },
  {
   "cell_type": "code",
   "execution_count": 2,
   "id": "3d3685db-ee6d-428b-a499-882983f4418b",
   "metadata": {},
   "outputs": [],
   "source": [
    "# prepare data path\n",
    "ukbb_dir = '/ritter/share/data/UKBB/ukb_data/'\n",
    "\n",
    "# define logging path\n",
    "path = '../../tracking/FinalModels/'"
   ]
  },
  {
   "cell_type": "code",
   "execution_count": 3,
   "id": "196fdd13-de40-415a-987b-42390650333a",
   "metadata": {},
   "outputs": [],
   "source": [
    "utils.make_reproducible()"
   ]
  },
  {
   "cell_type": "code",
   "execution_count": 4,
   "id": "e573cc19-8cf1-4d58-96a4-eff45ea5d605",
   "metadata": {},
   "outputs": [
    {
     "name": "stdout",
     "output_type": "stream",
     "text": [
      "\u001b[1m\u001b[37mcuda02                    \u001b[m  Mon Dec 11 12:58:01 2023  \u001b[1m\u001b[30m545.23.08\u001b[m\n",
      "\u001b[36m[0]\u001b[m \u001b[34mNVIDIA GeForce RTX 3090\u001b[m |\u001b[31m 32°C\u001b[m, \u001b[32m  0 %\u001b[m | \u001b[36m\u001b[1m\u001b[33m  853\u001b[m / \u001b[33m24576\u001b[m MB | \u001b[1m\u001b[30mduygu\u001b[m(\u001b[33m802M\u001b[m) \u001b[1m\u001b[30mgdm\u001b[m(\u001b[33m4M\u001b[m)\n",
      "\u001b[36m[1]\u001b[m \u001b[34mNVIDIA GeForce RTX 3090\u001b[m |\u001b[31m 35°C\u001b[m, \u001b[32m  1 %\u001b[m | \u001b[36m\u001b[1m\u001b[33m  621\u001b[m / \u001b[33m24576\u001b[m MB | \u001b[1m\u001b[30mmanuel\u001b[m(\u001b[33m602M\u001b[m) \u001b[1m\u001b[30mgdm\u001b[m(\u001b[33m4M\u001b[m)\n",
      "\u001b[36m[2]\u001b[m \u001b[34mNVIDIA GeForce RTX 3090\u001b[m |\u001b[31m 30°C\u001b[m, \u001b[32m  0 %\u001b[m | \u001b[36m\u001b[1m\u001b[33m   14\u001b[m / \u001b[33m24576\u001b[m MB | \u001b[1m\u001b[30mgdm\u001b[m(\u001b[33m4M\u001b[m)\n",
      "\u001b[36m[3]\u001b[m \u001b[34mNVIDIA GeForce RTX 3090\u001b[m |\u001b[31m 32°C\u001b[m, \u001b[32m  0 %\u001b[m | \u001b[36m\u001b[1m\u001b[33m21329\u001b[m / \u001b[33m24576\u001b[m MB | \u001b[1m\u001b[30mmoritz\u001b[m(\u001b[33m21312M\u001b[m) \u001b[1m\u001b[30mgdm\u001b[m(\u001b[33m4M\u001b[m)\n"
     ]
    }
   ],
   "source": [
    "!gpustat"
   ]
  },
  {
   "cell_type": "markdown",
   "id": "b7d0b7f6-39a0-40a3-9a79-d56e4b531f5d",
   "metadata": {},
   "source": [
    "# Training final IM models"
   ]
  },
  {
   "cell_type": "code",
   "execution_count": 5,
   "id": "c4274ef2-ac17-48d3-b64e-02905b9a3154",
   "metadata": {},
   "outputs": [],
   "source": [
    "# load configs\n",
    "with open('config_ICA25_gc.yaml', 'r') as f:\n",
    "    config_ICA25_gc = yaml.safe_load(f)\n",
    "with open('config_ICA100_gc.yaml', 'r') as f:\n",
    "    config_ICA100_gc = yaml.safe_load(f)"
   ]
  },
  {
   "cell_type": "markdown",
   "id": "96c275b9-db4d-4ed4-bcb6-b8dcc99d3fc4",
   "metadata": {},
   "source": [
    "### ICA25"
   ]
  },
  {
   "cell_type": "code",
   "execution_count": 6,
   "id": "a0b8c75d-9965-49d3-8ce6-1a4ca6398d75",
   "metadata": {},
   "outputs": [
    {
     "name": "stderr",
     "output_type": "stream",
     "text": [
      "/home/laurar/anaconda3/envs/cuda02/lib/python3.10/site-packages/pytorch_lightning/utilities/parsing.py:197: UserWarning: Attribute 'activation' is an instance of `nn.Module` and is already saved during checkpointing. It is recommended to ignore them using `self.save_hyperparameters(ignore=['activation'])`.\n",
      "  rank_zero_warn(\n",
      "/home/laurar/anaconda3/envs/cuda02/lib/python3.10/site-packages/pytorch_lightning/utilities/parsing.py:197: UserWarning: Attribute 'loss' is an instance of `nn.Module` and is already saved during checkpointing. It is recommended to ignore them using `self.save_hyperparameters(ignore=['loss'])`.\n",
      "  rank_zero_warn(\n",
      "GPU available: True (cuda), used: True\n",
      "TPU available: False, using: 0 TPU cores\n",
      "IPU available: False, using: 0 IPUs\n",
      "HPU available: False, using: 0 HPUs\n",
      "You are using a CUDA device ('NVIDIA GeForce RTX 3090') that has Tensor Cores. To properly utilize them, you should set `torch.set_float32_matmul_precision('medium' | 'high')` which will trade-off precision for performance. For more details, read https://pytorch.org/docs/stable/generated/torch.set_float32_matmul_precision.html#torch.set_float32_matmul_precision\n",
      "LOCAL_RANK: 0 - CUDA_VISIBLE_DEVICES: [0,1,2,3]\n",
      "\n",
      "  | Name    | Type       | Params\n",
      "---------------------------------------\n",
      "0 | act     | ReLU       | 0     \n",
      "1 | loss    | MSELoss    | 0     \n",
      "2 | maxpool | MaxPool1d  | 0     \n",
      "3 | encoder | Sequential | 57.8 K\n",
      "4 | decoder | Sequential | 15.2 K\n",
      "---------------------------------------\n",
      "73.0 K    Trainable params\n",
      "0         Non-trainable params\n",
      "73.0 K    Total params\n",
      "0.292     Total estimated model params size (MB)\n"
     ]
    },
    {
     "data": {
      "application/vnd.jupyter.widget-view+json": {
       "model_id": "",
       "version_major": 2,
       "version_minor": 0
      },
      "text/plain": [
       "Sanity Checking: 0it [00:00, ?it/s]"
      ]
     },
     "metadata": {},
     "output_type": "display_data"
    },
    {
     "name": "stderr",
     "output_type": "stream",
     "text": [
      "/home/laurar/anaconda3/envs/cuda02/lib/python3.10/site-packages/pytorch_lightning/trainer/connectors/data_connector.py:430: PossibleUserWarning: The dataloader, val_dataloader, does not have many workers which may be a bottleneck. Consider increasing the value of the `num_workers` argument` (try 40 which is the number of cpus on this machine) in the `DataLoader` init to improve performance.\n",
      "  rank_zero_warn(\n",
      "/home/laurar/anaconda3/envs/cuda02/lib/python3.10/site-packages/pytorch_lightning/trainer/connectors/data_connector.py:430: PossibleUserWarning: The dataloader, train_dataloader, does not have many workers which may be a bottleneck. Consider increasing the value of the `num_workers` argument` (try 40 which is the number of cpus on this machine) in the `DataLoader` init to improve performance.\n",
      "  rank_zero_warn(\n"
     ]
    },
    {
     "data": {
      "application/vnd.jupyter.widget-view+json": {
       "model_id": "43dad3a3fad3400890d0f3861efc16fd",
       "version_major": 2,
       "version_minor": 0
      },
      "text/plain": [
       "Training: 0it [00:00, ?it/s]"
      ]
     },
     "metadata": {},
     "output_type": "display_data"
    },
    {
     "data": {
      "application/vnd.jupyter.widget-view+json": {
       "model_id": "",
       "version_major": 2,
       "version_minor": 0
      },
      "text/plain": [
       "Validation: 0it [00:00, ?it/s]"
      ]
     },
     "metadata": {},
     "output_type": "display_data"
    },
    {
     "data": {
      "application/vnd.jupyter.widget-view+json": {
       "model_id": "",
       "version_major": 2,
       "version_minor": 0
      },
      "text/plain": [
       "Validation: 0it [00:00, ?it/s]"
      ]
     },
     "metadata": {},
     "output_type": "display_data"
    },
    {
     "data": {
      "application/vnd.jupyter.widget-view+json": {
       "model_id": "",
       "version_major": 2,
       "version_minor": 0
      },
      "text/plain": [
       "Validation: 0it [00:00, ?it/s]"
      ]
     },
     "metadata": {},
     "output_type": "display_data"
    },
    {
     "data": {
      "application/vnd.jupyter.widget-view+json": {
       "model_id": "",
       "version_major": 2,
       "version_minor": 0
      },
      "text/plain": [
       "Validation: 0it [00:00, ?it/s]"
      ]
     },
     "metadata": {},
     "output_type": "display_data"
    },
    {
     "data": {
      "application/vnd.jupyter.widget-view+json": {
       "model_id": "",
       "version_major": 2,
       "version_minor": 0
      },
      "text/plain": [
       "Validation: 0it [00:00, ?it/s]"
      ]
     },
     "metadata": {},
     "output_type": "display_data"
    },
    {
     "data": {
      "application/vnd.jupyter.widget-view+json": {
       "model_id": "",
       "version_major": 2,
       "version_minor": 0
      },
      "text/plain": [
       "Validation: 0it [00:00, ?it/s]"
      ]
     },
     "metadata": {},
     "output_type": "display_data"
    },
    {
     "data": {
      "application/vnd.jupyter.widget-view+json": {
       "model_id": "",
       "version_major": 2,
       "version_minor": 0
      },
      "text/plain": [
       "Validation: 0it [00:00, ?it/s]"
      ]
     },
     "metadata": {},
     "output_type": "display_data"
    },
    {
     "data": {
      "application/vnd.jupyter.widget-view+json": {
       "model_id": "",
       "version_major": 2,
       "version_minor": 0
      },
      "text/plain": [
       "Validation: 0it [00:00, ?it/s]"
      ]
     },
     "metadata": {},
     "output_type": "display_data"
    },
    {
     "data": {
      "application/vnd.jupyter.widget-view+json": {
       "model_id": "",
       "version_major": 2,
       "version_minor": 0
      },
      "text/plain": [
       "Validation: 0it [00:00, ?it/s]"
      ]
     },
     "metadata": {},
     "output_type": "display_data"
    },
    {
     "data": {
      "application/vnd.jupyter.widget-view+json": {
       "model_id": "",
       "version_major": 2,
       "version_minor": 0
      },
      "text/plain": [
       "Validation: 0it [00:00, ?it/s]"
      ]
     },
     "metadata": {},
     "output_type": "display_data"
    },
    {
     "data": {
      "application/vnd.jupyter.widget-view+json": {
       "model_id": "",
       "version_major": 2,
       "version_minor": 0
      },
      "text/plain": [
       "Validation: 0it [00:00, ?it/s]"
      ]
     },
     "metadata": {},
     "output_type": "display_data"
    },
    {
     "data": {
      "application/vnd.jupyter.widget-view+json": {
       "model_id": "",
       "version_major": 2,
       "version_minor": 0
      },
      "text/plain": [
       "Validation: 0it [00:00, ?it/s]"
      ]
     },
     "metadata": {},
     "output_type": "display_data"
    },
    {
     "data": {
      "application/vnd.jupyter.widget-view+json": {
       "model_id": "",
       "version_major": 2,
       "version_minor": 0
      },
      "text/plain": [
       "Validation: 0it [00:00, ?it/s]"
      ]
     },
     "metadata": {},
     "output_type": "display_data"
    },
    {
     "data": {
      "application/vnd.jupyter.widget-view+json": {
       "model_id": "",
       "version_major": 2,
       "version_minor": 0
      },
      "text/plain": [
       "Validation: 0it [00:00, ?it/s]"
      ]
     },
     "metadata": {},
     "output_type": "display_data"
    },
    {
     "data": {
      "application/vnd.jupyter.widget-view+json": {
       "model_id": "",
       "version_major": 2,
       "version_minor": 0
      },
      "text/plain": [
       "Validation: 0it [00:00, ?it/s]"
      ]
     },
     "metadata": {},
     "output_type": "display_data"
    },
    {
     "data": {
      "application/vnd.jupyter.widget-view+json": {
       "model_id": "",
       "version_major": 2,
       "version_minor": 0
      },
      "text/plain": [
       "Validation: 0it [00:00, ?it/s]"
      ]
     },
     "metadata": {},
     "output_type": "display_data"
    },
    {
     "data": {
      "application/vnd.jupyter.widget-view+json": {
       "model_id": "",
       "version_major": 2,
       "version_minor": 0
      },
      "text/plain": [
       "Validation: 0it [00:00, ?it/s]"
      ]
     },
     "metadata": {},
     "output_type": "display_data"
    },
    {
     "data": {
      "application/vnd.jupyter.widget-view+json": {
       "model_id": "",
       "version_major": 2,
       "version_minor": 0
      },
      "text/plain": [
       "Validation: 0it [00:00, ?it/s]"
      ]
     },
     "metadata": {},
     "output_type": "display_data"
    },
    {
     "data": {
      "application/vnd.jupyter.widget-view+json": {
       "model_id": "",
       "version_major": 2,
       "version_minor": 0
      },
      "text/plain": [
       "Validation: 0it [00:00, ?it/s]"
      ]
     },
     "metadata": {},
     "output_type": "display_data"
    },
    {
     "data": {
      "application/vnd.jupyter.widget-view+json": {
       "model_id": "",
       "version_major": 2,
       "version_minor": 0
      },
      "text/plain": [
       "Validation: 0it [00:00, ?it/s]"
      ]
     },
     "metadata": {},
     "output_type": "display_data"
    },
    {
     "data": {
      "application/vnd.jupyter.widget-view+json": {
       "model_id": "",
       "version_major": 2,
       "version_minor": 0
      },
      "text/plain": [
       "Validation: 0it [00:00, ?it/s]"
      ]
     },
     "metadata": {},
     "output_type": "display_data"
    },
    {
     "data": {
      "application/vnd.jupyter.widget-view+json": {
       "model_id": "",
       "version_major": 2,
       "version_minor": 0
      },
      "text/plain": [
       "Validation: 0it [00:00, ?it/s]"
      ]
     },
     "metadata": {},
     "output_type": "display_data"
    },
    {
     "data": {
      "application/vnd.jupyter.widget-view+json": {
       "model_id": "",
       "version_major": 2,
       "version_minor": 0
      },
      "text/plain": [
       "Validation: 0it [00:00, ?it/s]"
      ]
     },
     "metadata": {},
     "output_type": "display_data"
    },
    {
     "data": {
      "application/vnd.jupyter.widget-view+json": {
       "model_id": "",
       "version_major": 2,
       "version_minor": 0
      },
      "text/plain": [
       "Validation: 0it [00:00, ?it/s]"
      ]
     },
     "metadata": {},
     "output_type": "display_data"
    },
    {
     "data": {
      "application/vnd.jupyter.widget-view+json": {
       "model_id": "",
       "version_major": 2,
       "version_minor": 0
      },
      "text/plain": [
       "Validation: 0it [00:00, ?it/s]"
      ]
     },
     "metadata": {},
     "output_type": "display_data"
    },
    {
     "data": {
      "application/vnd.jupyter.widget-view+json": {
       "model_id": "",
       "version_major": 2,
       "version_minor": 0
      },
      "text/plain": [
       "Validation: 0it [00:00, ?it/s]"
      ]
     },
     "metadata": {},
     "output_type": "display_data"
    },
    {
     "data": {
      "application/vnd.jupyter.widget-view+json": {
       "model_id": "",
       "version_major": 2,
       "version_minor": 0
      },
      "text/plain": [
       "Validation: 0it [00:00, ?it/s]"
      ]
     },
     "metadata": {},
     "output_type": "display_data"
    },
    {
     "data": {
      "application/vnd.jupyter.widget-view+json": {
       "model_id": "",
       "version_major": 2,
       "version_minor": 0
      },
      "text/plain": [
       "Validation: 0it [00:00, ?it/s]"
      ]
     },
     "metadata": {},
     "output_type": "display_data"
    },
    {
     "data": {
      "application/vnd.jupyter.widget-view+json": {
       "model_id": "",
       "version_major": 2,
       "version_minor": 0
      },
      "text/plain": [
       "Validation: 0it [00:00, ?it/s]"
      ]
     },
     "metadata": {},
     "output_type": "display_data"
    },
    {
     "data": {
      "application/vnd.jupyter.widget-view+json": {
       "model_id": "",
       "version_major": 2,
       "version_minor": 0
      },
      "text/plain": [
       "Validation: 0it [00:00, ?it/s]"
      ]
     },
     "metadata": {},
     "output_type": "display_data"
    },
    {
     "data": {
      "application/vnd.jupyter.widget-view+json": {
       "model_id": "",
       "version_major": 2,
       "version_minor": 0
      },
      "text/plain": [
       "Validation: 0it [00:00, ?it/s]"
      ]
     },
     "metadata": {},
     "output_type": "display_data"
    },
    {
     "data": {
      "application/vnd.jupyter.widget-view+json": {
       "model_id": "",
       "version_major": 2,
       "version_minor": 0
      },
      "text/plain": [
       "Validation: 0it [00:00, ?it/s]"
      ]
     },
     "metadata": {},
     "output_type": "display_data"
    },
    {
     "data": {
      "application/vnd.jupyter.widget-view+json": {
       "model_id": "",
       "version_major": 2,
       "version_minor": 0
      },
      "text/plain": [
       "Validation: 0it [00:00, ?it/s]"
      ]
     },
     "metadata": {},
     "output_type": "display_data"
    },
    {
     "data": {
      "application/vnd.jupyter.widget-view+json": {
       "model_id": "",
       "version_major": 2,
       "version_minor": 0
      },
      "text/plain": [
       "Validation: 0it [00:00, ?it/s]"
      ]
     },
     "metadata": {},
     "output_type": "display_data"
    },
    {
     "data": {
      "application/vnd.jupyter.widget-view+json": {
       "model_id": "",
       "version_major": 2,
       "version_minor": 0
      },
      "text/plain": [
       "Validation: 0it [00:00, ?it/s]"
      ]
     },
     "metadata": {},
     "output_type": "display_data"
    },
    {
     "data": {
      "application/vnd.jupyter.widget-view+json": {
       "model_id": "",
       "version_major": 2,
       "version_minor": 0
      },
      "text/plain": [
       "Validation: 0it [00:00, ?it/s]"
      ]
     },
     "metadata": {},
     "output_type": "display_data"
    },
    {
     "data": {
      "application/vnd.jupyter.widget-view+json": {
       "model_id": "",
       "version_major": 2,
       "version_minor": 0
      },
      "text/plain": [
       "Validation: 0it [00:00, ?it/s]"
      ]
     },
     "metadata": {},
     "output_type": "display_data"
    },
    {
     "data": {
      "application/vnd.jupyter.widget-view+json": {
       "model_id": "",
       "version_major": 2,
       "version_minor": 0
      },
      "text/plain": [
       "Validation: 0it [00:00, ?it/s]"
      ]
     },
     "metadata": {},
     "output_type": "display_data"
    },
    {
     "data": {
      "application/vnd.jupyter.widget-view+json": {
       "model_id": "",
       "version_major": 2,
       "version_minor": 0
      },
      "text/plain": [
       "Validation: 0it [00:00, ?it/s]"
      ]
     },
     "metadata": {},
     "output_type": "display_data"
    },
    {
     "data": {
      "application/vnd.jupyter.widget-view+json": {
       "model_id": "",
       "version_major": 2,
       "version_minor": 0
      },
      "text/plain": [
       "Validation: 0it [00:00, ?it/s]"
      ]
     },
     "metadata": {},
     "output_type": "display_data"
    },
    {
     "data": {
      "application/vnd.jupyter.widget-view+json": {
       "model_id": "",
       "version_major": 2,
       "version_minor": 0
      },
      "text/plain": [
       "Validation: 0it [00:00, ?it/s]"
      ]
     },
     "metadata": {},
     "output_type": "display_data"
    },
    {
     "data": {
      "application/vnd.jupyter.widget-view+json": {
       "model_id": "",
       "version_major": 2,
       "version_minor": 0
      },
      "text/plain": [
       "Validation: 0it [00:00, ?it/s]"
      ]
     },
     "metadata": {},
     "output_type": "display_data"
    },
    {
     "data": {
      "application/vnd.jupyter.widget-view+json": {
       "model_id": "",
       "version_major": 2,
       "version_minor": 0
      },
      "text/plain": [
       "Validation: 0it [00:00, ?it/s]"
      ]
     },
     "metadata": {},
     "output_type": "display_data"
    },
    {
     "data": {
      "application/vnd.jupyter.widget-view+json": {
       "model_id": "",
       "version_major": 2,
       "version_minor": 0
      },
      "text/plain": [
       "Validation: 0it [00:00, ?it/s]"
      ]
     },
     "metadata": {},
     "output_type": "display_data"
    },
    {
     "data": {
      "application/vnd.jupyter.widget-view+json": {
       "model_id": "",
       "version_major": 2,
       "version_minor": 0
      },
      "text/plain": [
       "Validation: 0it [00:00, ?it/s]"
      ]
     },
     "metadata": {},
     "output_type": "display_data"
    },
    {
     "data": {
      "application/vnd.jupyter.widget-view+json": {
       "model_id": "",
       "version_major": 2,
       "version_minor": 0
      },
      "text/plain": [
       "Validation: 0it [00:00, ?it/s]"
      ]
     },
     "metadata": {},
     "output_type": "display_data"
    },
    {
     "data": {
      "application/vnd.jupyter.widget-view+json": {
       "model_id": "ebf6b3c45d404f199bb06bf36b00c7e6",
       "version_major": 2,
       "version_minor": 0
      },
      "text/plain": [
       "Validation: 0it [00:00, ?it/s]"
      ]
     },
     "metadata": {},
     "output_type": "display_data"
    },
    {
     "data": {
      "application/vnd.jupyter.widget-view+json": {
       "model_id": "d2de3389d56e42cb9401dc1251c1adbd",
       "version_major": 2,
       "version_minor": 0
      },
      "text/plain": [
       "Validation: 0it [00:00, ?it/s]"
      ]
     },
     "metadata": {},
     "output_type": "display_data"
    },
    {
     "data": {
      "application/vnd.jupyter.widget-view+json": {
       "model_id": "1975f19ec7a74b3ca338f460841ecf7a",
       "version_major": 2,
       "version_minor": 0
      },
      "text/plain": [
       "Validation: 0it [00:00, ?it/s]"
      ]
     },
     "metadata": {},
     "output_type": "display_data"
    },
    {
     "data": {
      "application/vnd.jupyter.widget-view+json": {
       "model_id": "32f74c8a38a141d9a0318deca38cf92d",
       "version_major": 2,
       "version_minor": 0
      },
      "text/plain": [
       "Validation: 0it [00:00, ?it/s]"
      ]
     },
     "metadata": {},
     "output_type": "display_data"
    },
    {
     "data": {
      "application/vnd.jupyter.widget-view+json": {
       "model_id": "0a28987060624bbb93723c0e3f5685e2",
       "version_major": 2,
       "version_minor": 0
      },
      "text/plain": [
       "Validation: 0it [00:00, ?it/s]"
      ]
     },
     "metadata": {},
     "output_type": "display_data"
    },
    {
     "data": {
      "application/vnd.jupyter.widget-view+json": {
       "model_id": "452ff7463048414c9a39c8eccbab6672",
       "version_major": 2,
       "version_minor": 0
      },
      "text/plain": [
       "Validation: 0it [00:00, ?it/s]"
      ]
     },
     "metadata": {},
     "output_type": "display_data"
    },
    {
     "data": {
      "application/vnd.jupyter.widget-view+json": {
       "model_id": "bae85092e0634c05b6ed6935b97a86d1",
       "version_major": 2,
       "version_minor": 0
      },
      "text/plain": [
       "Validation: 0it [00:00, ?it/s]"
      ]
     },
     "metadata": {},
     "output_type": "display_data"
    },
    {
     "data": {
      "application/vnd.jupyter.widget-view+json": {
       "model_id": "22fdfb99e2634e9fbe7038cbb6a32435",
       "version_major": 2,
       "version_minor": 0
      },
      "text/plain": [
       "Validation: 0it [00:00, ?it/s]"
      ]
     },
     "metadata": {},
     "output_type": "display_data"
    },
    {
     "data": {
      "application/vnd.jupyter.widget-view+json": {
       "model_id": "2e4ab96554d04e5d923c4163a507819b",
       "version_major": 2,
       "version_minor": 0
      },
      "text/plain": [
       "Validation: 0it [00:00, ?it/s]"
      ]
     },
     "metadata": {},
     "output_type": "display_data"
    },
    {
     "data": {
      "application/vnd.jupyter.widget-view+json": {
       "model_id": "aa30339dbf8b41e0bc476adf3c63f340",
       "version_major": 2,
       "version_minor": 0
      },
      "text/plain": [
       "Validation: 0it [00:00, ?it/s]"
      ]
     },
     "metadata": {},
     "output_type": "display_data"
    },
    {
     "data": {
      "application/vnd.jupyter.widget-view+json": {
       "model_id": "ca040cdc8b5f45999d691993d9b6882e",
       "version_major": 2,
       "version_minor": 0
      },
      "text/plain": [
       "Validation: 0it [00:00, ?it/s]"
      ]
     },
     "metadata": {},
     "output_type": "display_data"
    },
    {
     "data": {
      "application/vnd.jupyter.widget-view+json": {
       "model_id": "365e6ad8704f4f04a1adcfec578c0fa4",
       "version_major": 2,
       "version_minor": 0
      },
      "text/plain": [
       "Validation: 0it [00:00, ?it/s]"
      ]
     },
     "metadata": {},
     "output_type": "display_data"
    },
    {
     "data": {
      "application/vnd.jupyter.widget-view+json": {
       "model_id": "9e59e85714104366869ed10bed7db3c4",
       "version_major": 2,
       "version_minor": 0
      },
      "text/plain": [
       "Validation: 0it [00:00, ?it/s]"
      ]
     },
     "metadata": {},
     "output_type": "display_data"
    },
    {
     "data": {
      "application/vnd.jupyter.widget-view+json": {
       "model_id": "0de1a47809fc452eb89077bb56c2a90a",
       "version_major": 2,
       "version_minor": 0
      },
      "text/plain": [
       "Validation: 0it [00:00, ?it/s]"
      ]
     },
     "metadata": {},
     "output_type": "display_data"
    },
    {
     "data": {
      "application/vnd.jupyter.widget-view+json": {
       "model_id": "89a32df1949f4f9d9f2e7df794ab9d6d",
       "version_major": 2,
       "version_minor": 0
      },
      "text/plain": [
       "Validation: 0it [00:00, ?it/s]"
      ]
     },
     "metadata": {},
     "output_type": "display_data"
    },
    {
     "data": {
      "application/vnd.jupyter.widget-view+json": {
       "model_id": "1601871ccf7f4315909e1f123d651c54",
       "version_major": 2,
       "version_minor": 0
      },
      "text/plain": [
       "Validation: 0it [00:00, ?it/s]"
      ]
     },
     "metadata": {},
     "output_type": "display_data"
    },
    {
     "data": {
      "application/vnd.jupyter.widget-view+json": {
       "model_id": "1139565af4184222a82f86096769d226",
       "version_major": 2,
       "version_minor": 0
      },
      "text/plain": [
       "Validation: 0it [00:00, ?it/s]"
      ]
     },
     "metadata": {},
     "output_type": "display_data"
    },
    {
     "data": {
      "application/vnd.jupyter.widget-view+json": {
       "model_id": "53b471dc4c6b4beea25e9b2f637973c9",
       "version_major": 2,
       "version_minor": 0
      },
      "text/plain": [
       "Validation: 0it [00:00, ?it/s]"
      ]
     },
     "metadata": {},
     "output_type": "display_data"
    },
    {
     "data": {
      "application/vnd.jupyter.widget-view+json": {
       "model_id": "7173a7af2b5a44a98ceeaae82d0fdf4f",
       "version_major": 2,
       "version_minor": 0
      },
      "text/plain": [
       "Validation: 0it [00:00, ?it/s]"
      ]
     },
     "metadata": {},
     "output_type": "display_data"
    },
    {
     "data": {
      "application/vnd.jupyter.widget-view+json": {
       "model_id": "7bcd012a7dfa484b8c2cb8a83cd864b7",
       "version_major": 2,
       "version_minor": 0
      },
      "text/plain": [
       "Validation: 0it [00:00, ?it/s]"
      ]
     },
     "metadata": {},
     "output_type": "display_data"
    },
    {
     "data": {
      "application/vnd.jupyter.widget-view+json": {
       "model_id": "a436c8bb42a9434a8c8eef50fb738710",
       "version_major": 2,
       "version_minor": 0
      },
      "text/plain": [
       "Validation: 0it [00:00, ?it/s]"
      ]
     },
     "metadata": {},
     "output_type": "display_data"
    },
    {
     "data": {
      "application/vnd.jupyter.widget-view+json": {
       "model_id": "181954438566440b826ce88ac07723e9",
       "version_major": 2,
       "version_minor": 0
      },
      "text/plain": [
       "Validation: 0it [00:00, ?it/s]"
      ]
     },
     "metadata": {},
     "output_type": "display_data"
    },
    {
     "data": {
      "application/vnd.jupyter.widget-view+json": {
       "model_id": "165d0a4fd2284657a20efd96552fc647",
       "version_major": 2,
       "version_minor": 0
      },
      "text/plain": [
       "Validation: 0it [00:00, ?it/s]"
      ]
     },
     "metadata": {},
     "output_type": "display_data"
    },
    {
     "data": {
      "application/vnd.jupyter.widget-view+json": {
       "model_id": "eaf47a6434b44cb4826a12338f17fda1",
       "version_major": 2,
       "version_minor": 0
      },
      "text/plain": [
       "Validation: 0it [00:00, ?it/s]"
      ]
     },
     "metadata": {},
     "output_type": "display_data"
    },
    {
     "data": {
      "application/vnd.jupyter.widget-view+json": {
       "model_id": "9d5ced7ea53c4b7f88dd814bb6c42f84",
       "version_major": 2,
       "version_minor": 0
      },
      "text/plain": [
       "Validation: 0it [00:00, ?it/s]"
      ]
     },
     "metadata": {},
     "output_type": "display_data"
    },
    {
     "data": {
      "application/vnd.jupyter.widget-view+json": {
       "model_id": "bb5955dbe33b4b5f8e907d406c841498",
       "version_major": 2,
       "version_minor": 0
      },
      "text/plain": [
       "Validation: 0it [00:00, ?it/s]"
      ]
     },
     "metadata": {},
     "output_type": "display_data"
    },
    {
     "data": {
      "application/vnd.jupyter.widget-view+json": {
       "model_id": "cfbee705ea234923a1345185fd470721",
       "version_major": 2,
       "version_minor": 0
      },
      "text/plain": [
       "Validation: 0it [00:00, ?it/s]"
      ]
     },
     "metadata": {},
     "output_type": "display_data"
    },
    {
     "data": {
      "application/vnd.jupyter.widget-view+json": {
       "model_id": "9556f16295834edd9444decad74a2836",
       "version_major": 2,
       "version_minor": 0
      },
      "text/plain": [
       "Validation: 0it [00:00, ?it/s]"
      ]
     },
     "metadata": {},
     "output_type": "display_data"
    },
    {
     "data": {
      "application/vnd.jupyter.widget-view+json": {
       "model_id": "e4ae27eb0c0345d7a0cbaa5788ffdfcf",
       "version_major": 2,
       "version_minor": 0
      },
      "text/plain": [
       "Validation: 0it [00:00, ?it/s]"
      ]
     },
     "metadata": {},
     "output_type": "display_data"
    },
    {
     "data": {
      "application/vnd.jupyter.widget-view+json": {
       "model_id": "eaa555ad505d4a778584096a40e81f9f",
       "version_major": 2,
       "version_minor": 0
      },
      "text/plain": [
       "Validation: 0it [00:00, ?it/s]"
      ]
     },
     "metadata": {},
     "output_type": "display_data"
    },
    {
     "data": {
      "application/vnd.jupyter.widget-view+json": {
       "model_id": "fd3cbca633fb42d4a93cf349375b1f0f",
       "version_major": 2,
       "version_minor": 0
      },
      "text/plain": [
       "Validation: 0it [00:00, ?it/s]"
      ]
     },
     "metadata": {},
     "output_type": "display_data"
    },
    {
     "data": {
      "application/vnd.jupyter.widget-view+json": {
       "model_id": "baf5823c9fe94b54a5f583eb0c47b25d",
       "version_major": 2,
       "version_minor": 0
      },
      "text/plain": [
       "Validation: 0it [00:00, ?it/s]"
      ]
     },
     "metadata": {},
     "output_type": "display_data"
    },
    {
     "data": {
      "application/vnd.jupyter.widget-view+json": {
       "model_id": "8c2ea55ff4b646e6af2be3e64f42d433",
       "version_major": 2,
       "version_minor": 0
      },
      "text/plain": [
       "Validation: 0it [00:00, ?it/s]"
      ]
     },
     "metadata": {},
     "output_type": "display_data"
    },
    {
     "data": {
      "application/vnd.jupyter.widget-view+json": {
       "model_id": "93342cf2771e4c52835285121dbddb03",
       "version_major": 2,
       "version_minor": 0
      },
      "text/plain": [
       "Validation: 0it [00:00, ?it/s]"
      ]
     },
     "metadata": {},
     "output_type": "display_data"
    },
    {
     "data": {
      "application/vnd.jupyter.widget-view+json": {
       "model_id": "4585c8df89714c5ba2707ab79411c559",
       "version_major": 2,
       "version_minor": 0
      },
      "text/plain": [
       "Validation: 0it [00:00, ?it/s]"
      ]
     },
     "metadata": {},
     "output_type": "display_data"
    },
    {
     "data": {
      "application/vnd.jupyter.widget-view+json": {
       "model_id": "e1478179360e413eaf73b7a337f632db",
       "version_major": 2,
       "version_minor": 0
      },
      "text/plain": [
       "Validation: 0it [00:00, ?it/s]"
      ]
     },
     "metadata": {},
     "output_type": "display_data"
    },
    {
     "data": {
      "application/vnd.jupyter.widget-view+json": {
       "model_id": "86c4dd9d6196448eba71a10d4fc064cc",
       "version_major": 2,
       "version_minor": 0
      },
      "text/plain": [
       "Validation: 0it [00:00, ?it/s]"
      ]
     },
     "metadata": {},
     "output_type": "display_data"
    },
    {
     "data": {
      "application/vnd.jupyter.widget-view+json": {
       "model_id": "3fd715b149fd43f297cc8c82f825caf9",
       "version_major": 2,
       "version_minor": 0
      },
      "text/plain": [
       "Validation: 0it [00:00, ?it/s]"
      ]
     },
     "metadata": {},
     "output_type": "display_data"
    },
    {
     "data": {
      "application/vnd.jupyter.widget-view+json": {
       "model_id": "74535b97aff84b759a61078c239f9924",
       "version_major": 2,
       "version_minor": 0
      },
      "text/plain": [
       "Validation: 0it [00:00, ?it/s]"
      ]
     },
     "metadata": {},
     "output_type": "display_data"
    },
    {
     "data": {
      "application/vnd.jupyter.widget-view+json": {
       "model_id": "b71fcc503d0a4d46af5444c464406d87",
       "version_major": 2,
       "version_minor": 0
      },
      "text/plain": [
       "Validation: 0it [00:00, ?it/s]"
      ]
     },
     "metadata": {},
     "output_type": "display_data"
    },
    {
     "data": {
      "application/vnd.jupyter.widget-view+json": {
       "model_id": "5f08e06a38a14234ab68ee5d757db7db",
       "version_major": 2,
       "version_minor": 0
      },
      "text/plain": [
       "Validation: 0it [00:00, ?it/s]"
      ]
     },
     "metadata": {},
     "output_type": "display_data"
    },
    {
     "data": {
      "application/vnd.jupyter.widget-view+json": {
       "model_id": "4856818f712a46029b98e869dcd452e3",
       "version_major": 2,
       "version_minor": 0
      },
      "text/plain": [
       "Validation: 0it [00:00, ?it/s]"
      ]
     },
     "metadata": {},
     "output_type": "display_data"
    },
    {
     "data": {
      "application/vnd.jupyter.widget-view+json": {
       "model_id": "b6a7983e7fd3466188858372e4ada4b8",
       "version_major": 2,
       "version_minor": 0
      },
      "text/plain": [
       "Validation: 0it [00:00, ?it/s]"
      ]
     },
     "metadata": {},
     "output_type": "display_data"
    },
    {
     "data": {
      "application/vnd.jupyter.widget-view+json": {
       "model_id": "3c5ac07c53424d0383a89907cfa85b1b",
       "version_major": 2,
       "version_minor": 0
      },
      "text/plain": [
       "Validation: 0it [00:00, ?it/s]"
      ]
     },
     "metadata": {},
     "output_type": "display_data"
    },
    {
     "data": {
      "application/vnd.jupyter.widget-view+json": {
       "model_id": "d95d053a0a1d45d79edbf18fc17bb25c",
       "version_major": 2,
       "version_minor": 0
      },
      "text/plain": [
       "Validation: 0it [00:00, ?it/s]"
      ]
     },
     "metadata": {},
     "output_type": "display_data"
    },
    {
     "data": {
      "application/vnd.jupyter.widget-view+json": {
       "model_id": "6543b44df4384bd6b824c821c881b1f6",
       "version_major": 2,
       "version_minor": 0
      },
      "text/plain": [
       "Validation: 0it [00:00, ?it/s]"
      ]
     },
     "metadata": {},
     "output_type": "display_data"
    },
    {
     "data": {
      "application/vnd.jupyter.widget-view+json": {
       "model_id": "1b7f74cfd9e4431f83ac5429a692fbbe",
       "version_major": 2,
       "version_minor": 0
      },
      "text/plain": [
       "Validation: 0it [00:00, ?it/s]"
      ]
     },
     "metadata": {},
     "output_type": "display_data"
    },
    {
     "data": {
      "application/vnd.jupyter.widget-view+json": {
       "model_id": "ebd6d704f7384bb8909925115088754a",
       "version_major": 2,
       "version_minor": 0
      },
      "text/plain": [
       "Validation: 0it [00:00, ?it/s]"
      ]
     },
     "metadata": {},
     "output_type": "display_data"
    },
    {
     "data": {
      "application/vnd.jupyter.widget-view+json": {
       "model_id": "4fb3e3c19fe94c1c96fda4271bb8b678",
       "version_major": 2,
       "version_minor": 0
      },
      "text/plain": [
       "Validation: 0it [00:00, ?it/s]"
      ]
     },
     "metadata": {},
     "output_type": "display_data"
    },
    {
     "data": {
      "application/vnd.jupyter.widget-view+json": {
       "model_id": "25bfa32f40334978a4a4609a6e3cec81",
       "version_major": 2,
       "version_minor": 0
      },
      "text/plain": [
       "Validation: 0it [00:00, ?it/s]"
      ]
     },
     "metadata": {},
     "output_type": "display_data"
    },
    {
     "data": {
      "application/vnd.jupyter.widget-view+json": {
       "model_id": "87b95343820a44ba9111f41ac10cc27c",
       "version_major": 2,
       "version_minor": 0
      },
      "text/plain": [
       "Validation: 0it [00:00, ?it/s]"
      ]
     },
     "metadata": {},
     "output_type": "display_data"
    },
    {
     "data": {
      "application/vnd.jupyter.widget-view+json": {
       "model_id": "f4996172aef747678d78951b59012ff0",
       "version_major": 2,
       "version_minor": 0
      },
      "text/plain": [
       "Validation: 0it [00:00, ?it/s]"
      ]
     },
     "metadata": {},
     "output_type": "display_data"
    },
    {
     "data": {
      "application/vnd.jupyter.widget-view+json": {
       "model_id": "e87fece76c054db2b49aec828142cdf2",
       "version_major": 2,
       "version_minor": 0
      },
      "text/plain": [
       "Validation: 0it [00:00, ?it/s]"
      ]
     },
     "metadata": {},
     "output_type": "display_data"
    },
    {
     "data": {
      "application/vnd.jupyter.widget-view+json": {
       "model_id": "894247fa8db84e78b2b4835f3abdf691",
       "version_major": 2,
       "version_minor": 0
      },
      "text/plain": [
       "Validation: 0it [00:00, ?it/s]"
      ]
     },
     "metadata": {},
     "output_type": "display_data"
    },
    {
     "data": {
      "application/vnd.jupyter.widget-view+json": {
       "model_id": "ce49716e21cb49dc9350349e6fce8e06",
       "version_major": 2,
       "version_minor": 0
      },
      "text/plain": [
       "Validation: 0it [00:00, ?it/s]"
      ]
     },
     "metadata": {},
     "output_type": "display_data"
    },
    {
     "data": {
      "application/vnd.jupyter.widget-view+json": {
       "model_id": "b32e2114e0b349b8b14242fecbd8cab2",
       "version_major": 2,
       "version_minor": 0
      },
      "text/plain": [
       "Validation: 0it [00:00, ?it/s]"
      ]
     },
     "metadata": {},
     "output_type": "display_data"
    },
    {
     "data": {
      "application/vnd.jupyter.widget-view+json": {
       "model_id": "5782c6cfaf3f4a47bfc592308608073a",
       "version_major": 2,
       "version_minor": 0
      },
      "text/plain": [
       "Validation: 0it [00:00, ?it/s]"
      ]
     },
     "metadata": {},
     "output_type": "display_data"
    },
    {
     "data": {
      "application/vnd.jupyter.widget-view+json": {
       "model_id": "b68805f8806944b4b1d8c1b2d6c8d218",
       "version_major": 2,
       "version_minor": 0
      },
      "text/plain": [
       "Validation: 0it [00:00, ?it/s]"
      ]
     },
     "metadata": {},
     "output_type": "display_data"
    },
    {
     "name": "stdout",
     "output_type": "stream",
     "text": [
      "Training complete.\n",
      "CPU times: user 1h 15min 22s, sys: 1min 54s, total: 1h 17min 17s\n",
      "Wall time: 1h 43min 13s\n"
     ]
    }
   ],
   "source": [
    "%%time\n",
    "ICA25_gc, ICA25_gc_model, ICA25_gc_data = utils.train_model(path, ukbb_dir, config_ICA25_gc, 2)"
   ]
  },
  {
   "cell_type": "code",
   "execution_count": 7,
   "id": "166c6e27-d151-4369-8ec7-44664400bf9c",
   "metadata": {},
   "outputs": [
    {
     "name": "stderr",
     "output_type": "stream",
     "text": [
      "You are using a CUDA device ('NVIDIA GeForce RTX 3090') that has Tensor Cores. To properly utilize them, you should set `torch.set_float32_matmul_precision('medium' | 'high')` which will trade-off precision for performance. For more details, read https://pytorch.org/docs/stable/generated/torch.set_float32_matmul_precision.html#torch.set_float32_matmul_precision\n"
     ]
    },
    {
     "name": "stdout",
     "output_type": "stream",
     "text": [
      "\n",
      "Testing model \"ICA25_gc\" (data subset)...\n"
     ]
    },
    {
     "name": "stderr",
     "output_type": "stream",
     "text": [
      "Restoring states from the checkpoint path at /home/laurar/IM/tracking/FinalModels/FinalModels_IM/ICA25_gc/Checkpoint/models-epoch=88-val_loss=39.58.ckpt\n",
      "LOCAL_RANK: 0 - CUDA_VISIBLE_DEVICES: [0,1,2,3]\n",
      "Loaded model weights from the checkpoint at /home/laurar/IM/tracking/FinalModels/FinalModels_IM/ICA25_gc/Checkpoint/models-epoch=88-val_loss=39.58.ckpt\n",
      "/home/laurar/anaconda3/envs/cuda02/lib/python3.10/site-packages/pytorch_lightning/trainer/connectors/data_connector.py:430: PossibleUserWarning: The dataloader, test_dataloader, does not have many workers which may be a bottleneck. Consider increasing the value of the `num_workers` argument` (try 40 which is the number of cpus on this machine) in the `DataLoader` init to improve performance.\n",
      "  rank_zero_warn(\n"
     ]
    },
    {
     "data": {
      "application/vnd.jupyter.widget-view+json": {
       "model_id": "329308e85ab04f819fce8466e215a0aa",
       "version_major": 2,
       "version_minor": 0
      },
      "text/plain": [
       "Testing: 0it [00:00, ?it/s]"
      ]
     },
     "metadata": {},
     "output_type": "display_data"
    },
    {
     "name": "stdout",
     "output_type": "stream",
     "text": [
      "────────────────────────────────────────────────────────────────────────────────────────────────────────────────────────\n",
      "       Test metric             DataLoader 0\n",
      "────────────────────────────────────────────────────────────────────────────────────────────────────────────────────────\n",
      "        test_loss           44.501277923583984\n",
      "        test_mae             5.429544448852539\n",
      "────────────────────────────────────────────────────────────────────────────────────────────────────────────────────────\n",
      "\n",
      "Visualise training of model \"ICA25_gc\" (data subset)...\n"
     ]
    },
    {
     "data": {
      "text/html": [
       "<div>\n",
       "<style scoped>\n",
       "    .dataframe tbody tr th:only-of-type {\n",
       "        vertical-align: middle;\n",
       "    }\n",
       "\n",
       "    .dataframe tbody tr th {\n",
       "        vertical-align: top;\n",
       "    }\n",
       "\n",
       "    .dataframe thead th {\n",
       "        text-align: right;\n",
       "    }\n",
       "</style>\n",
       "<table border=\"1\" class=\"dataframe\">\n",
       "  <thead>\n",
       "    <tr style=\"text-align: right;\">\n",
       "      <th></th>\n",
       "      <th>step</th>\n",
       "      <th>train_loss</th>\n",
       "      <th>val_loss</th>\n",
       "      <th>val_mae</th>\n",
       "      <th>best_val_loss</th>\n",
       "      <th>test_loss</th>\n",
       "      <th>test_mae</th>\n",
       "    </tr>\n",
       "    <tr>\n",
       "      <th>epoch</th>\n",
       "      <th></th>\n",
       "      <th></th>\n",
       "      <th></th>\n",
       "      <th></th>\n",
       "      <th></th>\n",
       "      <th></th>\n",
       "      <th></th>\n",
       "    </tr>\n",
       "  </thead>\n",
       "  <tbody>\n",
       "    <tr>\n",
       "      <th>0</th>\n",
       "      <td>9</td>\n",
       "      <td>3540.361328</td>\n",
       "      <td>NaN</td>\n",
       "      <td>NaN</td>\n",
       "      <td>NaN</td>\n",
       "      <td>NaN</td>\n",
       "      <td>NaN</td>\n",
       "    </tr>\n",
       "    <tr>\n",
       "      <th>0</th>\n",
       "      <td>19</td>\n",
       "      <td>3173.584229</td>\n",
       "      <td>NaN</td>\n",
       "      <td>NaN</td>\n",
       "      <td>NaN</td>\n",
       "      <td>NaN</td>\n",
       "      <td>NaN</td>\n",
       "    </tr>\n",
       "    <tr>\n",
       "      <th>0</th>\n",
       "      <td>29</td>\n",
       "      <td>2947.821289</td>\n",
       "      <td>NaN</td>\n",
       "      <td>NaN</td>\n",
       "      <td>NaN</td>\n",
       "      <td>NaN</td>\n",
       "      <td>NaN</td>\n",
       "    </tr>\n",
       "    <tr>\n",
       "      <th>0</th>\n",
       "      <td>36</td>\n",
       "      <td>NaN</td>\n",
       "      <td>2741.716064</td>\n",
       "      <td>51.821869</td>\n",
       "      <td>2758.525146</td>\n",
       "      <td>NaN</td>\n",
       "      <td>NaN</td>\n",
       "    </tr>\n",
       "    <tr>\n",
       "      <th>1</th>\n",
       "      <td>39</td>\n",
       "      <td>2581.714844</td>\n",
       "      <td>NaN</td>\n",
       "      <td>NaN</td>\n",
       "      <td>NaN</td>\n",
       "      <td>NaN</td>\n",
       "      <td>NaN</td>\n",
       "    </tr>\n",
       "  </tbody>\n",
       "</table>\n",
       "</div>"
      ],
      "text/plain": [
       "       step   train_loss     val_loss    val_mae  best_val_loss  test_loss  \\\n",
       "epoch                                                                        \n",
       "0         9  3540.361328          NaN        NaN            NaN        NaN   \n",
       "0        19  3173.584229          NaN        NaN            NaN        NaN   \n",
       "0        29  2947.821289          NaN        NaN            NaN        NaN   \n",
       "0        36          NaN  2741.716064  51.821869    2758.525146        NaN   \n",
       "1        39  2581.714844          NaN        NaN            NaN        NaN   \n",
       "\n",
       "       test_mae  \n",
       "epoch            \n",
       "0           NaN  \n",
       "0           NaN  \n",
       "0           NaN  \n",
       "0           NaN  \n",
       "1           NaN  "
      ]
     },
     "metadata": {},
     "output_type": "display_data"
    },
    {
     "data": {
      "image/png": "[encoded data removed]",
      "text/plain": [
       "<Figure size 616.125x500 with 1 Axes>"
      ]
     },
     "metadata": {},
     "output_type": "display_data"
    }
   ],
   "source": [
    "utils.test_model(ICA25_gc, ICA25_gc_data, config_ICA25_gc)"
   ]
  },
  {
   "cell_type": "code",
   "execution_count": 8,
   "id": "8799431f-ccdf-47ad-ad40-ff3908168f33",
   "metadata": {},
   "outputs": [
    {
     "name": "stderr",
     "output_type": "stream",
     "text": [
      "You are using a CUDA device ('NVIDIA GeForce RTX 3090') that has Tensor Cores. To properly utilize them, you should set `torch.set_float32_matmul_precision('medium' | 'high')` which will trade-off precision for performance. For more details, read https://pytorch.org/docs/stable/generated/torch.set_float32_matmul_precision.html#torch.set_float32_matmul_precision\n",
      "LOCAL_RANK: 0 - CUDA_VISIBLE_DEVICES: [0,1,2,3]\n",
      "/home/laurar/anaconda3/envs/cuda02/lib/python3.10/site-packages/pytorch_lightning/trainer/connectors/data_connector.py:430: PossibleUserWarning: The dataloader, predict_dataloader, does not have many workers which may be a bottleneck. Consider increasing the value of the `num_workers` argument` (try 40 which is the number of cpus on this machine) in the `DataLoader` init to improve performance.\n",
      "  rank_zero_warn(\n"
     ]
    },
    {
     "data": {
      "application/vnd.jupyter.widget-view+json": {
       "model_id": "798f72a1616144938248aa19aa75d8fa",
       "version_major": 2,
       "version_minor": 0
      },
      "text/plain": [
       "Predicting: 0it [00:00, ?it/s]"
      ]
     },
     "metadata": {},
     "output_type": "display_data"
    }
   ],
   "source": [
    "ICA25_gc_preds = utils.predict_w_model(ICA25_gc, ICA25_gc_model, ICA25_gc_data, path+'FinalModels_IM/ICA25_gc/')"
   ]
  },
  {
   "cell_type": "markdown",
   "id": "26ee2094-4cb7-4084-be3f-8e16263d3776",
   "metadata": {},
   "source": [
    "### ICA100"
   ]
  },
  {
   "cell_type": "code",
   "execution_count": 9,
   "id": "09fe1a67-9202-4ab2-a576-de80014f7b9f",
   "metadata": {},
   "outputs": [
    {
     "name": "stderr",
     "output_type": "stream",
     "text": [
      "/home/laurar/anaconda3/envs/cuda02/lib/python3.10/site-packages/pytorch_lightning/utilities/parsing.py:197: UserWarning: Attribute 'activation' is an instance of `nn.Module` and is already saved during checkpointing. It is recommended to ignore them using `self.save_hyperparameters(ignore=['activation'])`.\n",
      "  rank_zero_warn(\n",
      "/home/laurar/anaconda3/envs/cuda02/lib/python3.10/site-packages/pytorch_lightning/utilities/parsing.py:197: UserWarning: Attribute 'loss' is an instance of `nn.Module` and is already saved during checkpointing. It is recommended to ignore them using `self.save_hyperparameters(ignore=['loss'])`.\n",
      "  rank_zero_warn(\n",
      "GPU available: True (cuda), used: True\n",
      "TPU available: False, using: 0 TPU cores\n",
      "IPU available: False, using: 0 IPUs\n",
      "HPU available: False, using: 0 HPUs\n",
      "You are using a CUDA device ('NVIDIA GeForce RTX 3090') that has Tensor Cores. To properly utilize them, you should set `torch.set_float32_matmul_precision('medium' | 'high')` which will trade-off precision for performance. For more details, read https://pytorch.org/docs/stable/generated/torch.set_float32_matmul_precision.html#torch.set_float32_matmul_precision\n",
      "LOCAL_RANK: 0 - CUDA_VISIBLE_DEVICES: [0,1,2,3]\n",
      "\n",
      "  | Name    | Type       | Params\n",
      "---------------------------------------\n",
      "0 | act     | ReLU       | 0     \n",
      "1 | loss    | MSELoss    | 0     \n",
      "2 | maxpool | MaxPool1d  | 0     \n",
      "3 | encoder | Sequential | 359 K \n",
      "4 | decoder | Sequential | 24.1 K\n",
      "---------------------------------------\n",
      "383 K     Trainable params\n",
      "0         Non-trainable params\n",
      "383 K     Total params\n",
      "1.534     Total estimated model params size (MB)\n"
     ]
    },
    {
     "data": {
      "application/vnd.jupyter.widget-view+json": {
       "model_id": "",
       "version_major": 2,
       "version_minor": 0
      },
      "text/plain": [
       "Sanity Checking: 0it [00:00, ?it/s]"
      ]
     },
     "metadata": {},
     "output_type": "display_data"
    },
    {
     "name": "stderr",
     "output_type": "stream",
     "text": [
      "/home/laurar/anaconda3/envs/cuda02/lib/python3.10/site-packages/pytorch_lightning/trainer/connectors/data_connector.py:430: PossibleUserWarning: The dataloader, val_dataloader, does not have many workers which may be a bottleneck. Consider increasing the value of the `num_workers` argument` (try 40 which is the number of cpus on this machine) in the `DataLoader` init to improve performance.\n",
      "  rank_zero_warn(\n",
      "/home/laurar/anaconda3/envs/cuda02/lib/python3.10/site-packages/pytorch_lightning/trainer/connectors/data_connector.py:430: PossibleUserWarning: The dataloader, train_dataloader, does not have many workers which may be a bottleneck. Consider increasing the value of the `num_workers` argument` (try 40 which is the number of cpus on this machine) in the `DataLoader` init to improve performance.\n",
      "  rank_zero_warn(\n"
     ]
    },
    {
     "data": {
      "application/vnd.jupyter.widget-view+json": {
       "model_id": "559d8eaaff1f420b908d82c6612f51a0",
       "version_major": 2,
       "version_minor": 0
      },
      "text/plain": [
       "Training: 0it [00:00, ?it/s]"
      ]
     },
     "metadata": {},
     "output_type": "display_data"
    },
    {
     "data": {
      "application/vnd.jupyter.widget-view+json": {
       "model_id": "",
       "version_major": 2,
       "version_minor": 0
      },
      "text/plain": [
       "Validation: 0it [00:00, ?it/s]"
      ]
     },
     "metadata": {},
     "output_type": "display_data"
    },
    {
     "data": {
      "application/vnd.jupyter.widget-view+json": {
       "model_id": "",
       "version_major": 2,
       "version_minor": 0
      },
      "text/plain": [
       "Validation: 0it [00:00, ?it/s]"
      ]
     },
     "metadata": {},
     "output_type": "display_data"
    },
    {
     "data": {
      "application/vnd.jupyter.widget-view+json": {
       "model_id": "",
       "version_major": 2,
       "version_minor": 0
      },
      "text/plain": [
       "Validation: 0it [00:00, ?it/s]"
      ]
     },
     "metadata": {},
     "output_type": "display_data"
    },
    {
     "data": {
      "application/vnd.jupyter.widget-view+json": {
       "model_id": "",
       "version_major": 2,
       "version_minor": 0
      },
      "text/plain": [
       "Validation: 0it [00:00, ?it/s]"
      ]
     },
     "metadata": {},
     "output_type": "display_data"
    },
    {
     "data": {
      "application/vnd.jupyter.widget-view+json": {
       "model_id": "",
       "version_major": 2,
       "version_minor": 0
      },
      "text/plain": [
       "Validation: 0it [00:00, ?it/s]"
      ]
     },
     "metadata": {},
     "output_type": "display_data"
    },
    {
     "data": {
      "application/vnd.jupyter.widget-view+json": {
       "model_id": "",
       "version_major": 2,
       "version_minor": 0
      },
      "text/plain": [
       "Validation: 0it [00:00, ?it/s]"
      ]
     },
     "metadata": {},
     "output_type": "display_data"
    },
    {
     "data": {
      "application/vnd.jupyter.widget-view+json": {
       "model_id": "",
       "version_major": 2,
       "version_minor": 0
      },
      "text/plain": [
       "Validation: 0it [00:00, ?it/s]"
      ]
     },
     "metadata": {},
     "output_type": "display_data"
    },
    {
     "data": {
      "application/vnd.jupyter.widget-view+json": {
       "model_id": "",
       "version_major": 2,
       "version_minor": 0
      },
      "text/plain": [
       "Validation: 0it [00:00, ?it/s]"
      ]
     },
     "metadata": {},
     "output_type": "display_data"
    },
    {
     "data": {
      "application/vnd.jupyter.widget-view+json": {
       "model_id": "",
       "version_major": 2,
       "version_minor": 0
      },
      "text/plain": [
       "Validation: 0it [00:00, ?it/s]"
      ]
     },
     "metadata": {},
     "output_type": "display_data"
    },
    {
     "data": {
      "application/vnd.jupyter.widget-view+json": {
       "model_id": "",
       "version_major": 2,
       "version_minor": 0
      },
      "text/plain": [
       "Validation: 0it [00:00, ?it/s]"
      ]
     },
     "metadata": {},
     "output_type": "display_data"
    },
    {
     "data": {
      "application/vnd.jupyter.widget-view+json": {
       "model_id": "",
       "version_major": 2,
       "version_minor": 0
      },
      "text/plain": [
       "Validation: 0it [00:00, ?it/s]"
      ]
     },
     "metadata": {},
     "output_type": "display_data"
    },
    {
     "data": {
      "application/vnd.jupyter.widget-view+json": {
       "model_id": "",
       "version_major": 2,
       "version_minor": 0
      },
      "text/plain": [
       "Validation: 0it [00:00, ?it/s]"
      ]
     },
     "metadata": {},
     "output_type": "display_data"
    },
    {
     "data": {
      "application/vnd.jupyter.widget-view+json": {
       "model_id": "",
       "version_major": 2,
       "version_minor": 0
      },
      "text/plain": [
       "Validation: 0it [00:00, ?it/s]"
      ]
     },
     "metadata": {},
     "output_type": "display_data"
    },
    {
     "data": {
      "application/vnd.jupyter.widget-view+json": {
       "model_id": "",
       "version_major": 2,
       "version_minor": 0
      },
      "text/plain": [
       "Validation: 0it [00:00, ?it/s]"
      ]
     },
     "metadata": {},
     "output_type": "display_data"
    },
    {
     "data": {
      "application/vnd.jupyter.widget-view+json": {
       "model_id": "",
       "version_major": 2,
       "version_minor": 0
      },
      "text/plain": [
       "Validation: 0it [00:00, ?it/s]"
      ]
     },
     "metadata": {},
     "output_type": "display_data"
    },
    {
     "data": {
      "application/vnd.jupyter.widget-view+json": {
       "model_id": "",
       "version_major": 2,
       "version_minor": 0
      },
      "text/plain": [
       "Validation: 0it [00:00, ?it/s]"
      ]
     },
     "metadata": {},
     "output_type": "display_data"
    },
    {
     "data": {
      "application/vnd.jupyter.widget-view+json": {
       "model_id": "",
       "version_major": 2,
       "version_minor": 0
      },
      "text/plain": [
       "Validation: 0it [00:00, ?it/s]"
      ]
     },
     "metadata": {},
     "output_type": "display_data"
    },
    {
     "data": {
      "application/vnd.jupyter.widget-view+json": {
       "model_id": "",
       "version_major": 2,
       "version_minor": 0
      },
      "text/plain": [
       "Validation: 0it [00:00, ?it/s]"
      ]
     },
     "metadata": {},
     "output_type": "display_data"
    },
    {
     "data": {
      "application/vnd.jupyter.widget-view+json": {
       "model_id": "",
       "version_major": 2,
       "version_minor": 0
      },
      "text/plain": [
       "Validation: 0it [00:00, ?it/s]"
      ]
     },
     "metadata": {},
     "output_type": "display_data"
    },
    {
     "data": {
      "application/vnd.jupyter.widget-view+json": {
       "model_id": "",
       "version_major": 2,
       "version_minor": 0
      },
      "text/plain": [
       "Validation: 0it [00:00, ?it/s]"
      ]
     },
     "metadata": {},
     "output_type": "display_data"
    },
    {
     "data": {
      "application/vnd.jupyter.widget-view+json": {
       "model_id": "",
       "version_major": 2,
       "version_minor": 0
      },
      "text/plain": [
       "Validation: 0it [00:00, ?it/s]"
      ]
     },
     "metadata": {},
     "output_type": "display_data"
    },
    {
     "name": "stdout",
     "output_type": "stream",
     "text": [
      "Training complete.\n",
      "CPU times: user 33min 17s, sys: 1min 2s, total: 34min 20s\n",
      "Wall time: 1h 21min 24s\n"
     ]
    }
   ],
   "source": [
    "%%time\n",
    "ICA100_gc, ICA100_gc_model, ICA100_gc_data = utils.train_model(path, ukbb_dir, config_ICA100_gc, 2)"
   ]
  },
  {
   "cell_type": "code",
   "execution_count": 10,
   "id": "c954be4a-23a3-47ef-b738-694dc521cecf",
   "metadata": {},
   "outputs": [
    {
     "name": "stderr",
     "output_type": "stream",
     "text": [
      "You are using a CUDA device ('NVIDIA GeForce RTX 3090') that has Tensor Cores. To properly utilize them, you should set `torch.set_float32_matmul_precision('medium' | 'high')` which will trade-off precision for performance. For more details, read https://pytorch.org/docs/stable/generated/torch.set_float32_matmul_precision.html#torch.set_float32_matmul_precision\n"
     ]
    },
    {
     "name": "stdout",
     "output_type": "stream",
     "text": [
      "\n",
      "Testing model \"ICA100_gc\" (data subset)...\n"
     ]
    },
    {
     "name": "stderr",
     "output_type": "stream",
     "text": [
      "Restoring states from the checkpoint path at /home/laurar/IM/tracking/FinalModels/FinalModels_IM/ICA100_gc/Checkpoint/models-epoch=05-val_loss=34.15.ckpt\n",
      "LOCAL_RANK: 0 - CUDA_VISIBLE_DEVICES: [0,1,2,3]\n",
      "Loaded model weights from the checkpoint at /home/laurar/IM/tracking/FinalModels/FinalModels_IM/ICA100_gc/Checkpoint/models-epoch=05-val_loss=34.15.ckpt\n",
      "/home/laurar/anaconda3/envs/cuda02/lib/python3.10/site-packages/pytorch_lightning/trainer/connectors/data_connector.py:430: PossibleUserWarning: The dataloader, test_dataloader, does not have many workers which may be a bottleneck. Consider increasing the value of the `num_workers` argument` (try 40 which is the number of cpus on this machine) in the `DataLoader` init to improve performance.\n",
      "  rank_zero_warn(\n"
     ]
    },
    {
     "data": {
      "application/vnd.jupyter.widget-view+json": {
       "model_id": "9422478ff47941ce9ad3c3110f37c442",
       "version_major": 2,
       "version_minor": 0
      },
      "text/plain": [
       "Testing: 0it [00:00, ?it/s]"
      ]
     },
     "metadata": {},
     "output_type": "display_data"
    },
    {
     "name": "stdout",
     "output_type": "stream",
     "text": [
      "────────────────────────────────────────────────────────────────────────────────────────────────────────────────────────\n",
      "       Test metric             DataLoader 0\n",
      "────────────────────────────────────────────────────────────────────────────────────────────────────────────────────────\n",
      "        test_loss            37.79407501220703\n",
      "        test_mae             5.090448379516602\n",
      "────────────────────────────────────────────────────────────────────────────────────────────────────────────────────────\n",
      "\n",
      "Visualise training of model \"ICA100_gc\" (data subset)...\n"
     ]
    },
    {
     "data": {
      "text/html": [
       "<div>\n",
       "<style scoped>\n",
       "    .dataframe tbody tr th:only-of-type {\n",
       "        vertical-align: middle;\n",
       "    }\n",
       "\n",
       "    .dataframe tbody tr th {\n",
       "        vertical-align: top;\n",
       "    }\n",
       "\n",
       "    .dataframe thead th {\n",
       "        text-align: right;\n",
       "    }\n",
       "</style>\n",
       "<table border=\"1\" class=\"dataframe\">\n",
       "  <thead>\n",
       "    <tr style=\"text-align: right;\">\n",
       "      <th></th>\n",
       "      <th>step</th>\n",
       "      <th>train_loss</th>\n",
       "      <th>val_loss</th>\n",
       "      <th>val_mae</th>\n",
       "      <th>best_val_loss</th>\n",
       "      <th>test_loss</th>\n",
       "      <th>test_mae</th>\n",
       "    </tr>\n",
       "    <tr>\n",
       "      <th>epoch</th>\n",
       "      <th></th>\n",
       "      <th></th>\n",
       "      <th></th>\n",
       "      <th></th>\n",
       "      <th></th>\n",
       "      <th></th>\n",
       "      <th></th>\n",
       "    </tr>\n",
       "  </thead>\n",
       "  <tbody>\n",
       "    <tr>\n",
       "      <th>0</th>\n",
       "      <td>9</td>\n",
       "      <td>2041.588135</td>\n",
       "      <td>NaN</td>\n",
       "      <td>NaN</td>\n",
       "      <td>NaN</td>\n",
       "      <td>NaN</td>\n",
       "      <td>NaN</td>\n",
       "    </tr>\n",
       "    <tr>\n",
       "      <th>0</th>\n",
       "      <td>19</td>\n",
       "      <td>773.080994</td>\n",
       "      <td>NaN</td>\n",
       "      <td>NaN</td>\n",
       "      <td>NaN</td>\n",
       "      <td>NaN</td>\n",
       "      <td>NaN</td>\n",
       "    </tr>\n",
       "    <tr>\n",
       "      <th>0</th>\n",
       "      <td>29</td>\n",
       "      <td>231.647034</td>\n",
       "      <td>NaN</td>\n",
       "      <td>NaN</td>\n",
       "      <td>NaN</td>\n",
       "      <td>NaN</td>\n",
       "      <td>NaN</td>\n",
       "    </tr>\n",
       "    <tr>\n",
       "      <th>0</th>\n",
       "      <td>36</td>\n",
       "      <td>NaN</td>\n",
       "      <td>59.636806</td>\n",
       "      <td>6.38673</td>\n",
       "      <td>61.474792</td>\n",
       "      <td>NaN</td>\n",
       "      <td>NaN</td>\n",
       "    </tr>\n",
       "    <tr>\n",
       "      <th>1</th>\n",
       "      <td>39</td>\n",
       "      <td>50.090866</td>\n",
       "      <td>NaN</td>\n",
       "      <td>NaN</td>\n",
       "      <td>NaN</td>\n",
       "      <td>NaN</td>\n",
       "      <td>NaN</td>\n",
       "    </tr>\n",
       "  </tbody>\n",
       "</table>\n",
       "</div>"
      ],
      "text/plain": [
       "       step   train_loss   val_loss  val_mae  best_val_loss  test_loss  \\\n",
       "epoch                                                                    \n",
       "0         9  2041.588135        NaN      NaN            NaN        NaN   \n",
       "0        19   773.080994        NaN      NaN            NaN        NaN   \n",
       "0        29   231.647034        NaN      NaN            NaN        NaN   \n",
       "0        36          NaN  59.636806  6.38673      61.474792        NaN   \n",
       "1        39    50.090866        NaN      NaN            NaN        NaN   \n",
       "\n",
       "       test_mae  \n",
       "epoch            \n",
       "0           NaN  \n",
       "0           NaN  \n",
       "0           NaN  \n",
       "0           NaN  \n",
       "1           NaN  "
      ]
     },
     "metadata": {},
     "output_type": "display_data"
    },
    {
     "data": {
      "image/png": "[encoded data removed]",
      "text/plain": [
       "<Figure size 616.125x500 with 1 Axes>"
      ]
     },
     "metadata": {},
     "output_type": "display_data"
    }
   ],
   "source": [
    "utils.test_model(ICA100_gc, ICA100_gc_data, config_ICA100_gc)"
   ]
  },
  {
   "cell_type": "code",
   "execution_count": 11,
   "id": "c9d174a7-d65b-4ccc-817b-fae1a0ba9919",
   "metadata": {},
   "outputs": [
    {
     "name": "stderr",
     "output_type": "stream",
     "text": [
      "You are using a CUDA device ('NVIDIA GeForce RTX 3090') that has Tensor Cores. To properly utilize them, you should set `torch.set_float32_matmul_precision('medium' | 'high')` which will trade-off precision for performance. For more details, read https://pytorch.org/docs/stable/generated/torch.set_float32_matmul_precision.html#torch.set_float32_matmul_precision\n",
      "LOCAL_RANK: 0 - CUDA_VISIBLE_DEVICES: [0,1,2,3]\n",
      "/home/laurar/anaconda3/envs/cuda02/lib/python3.10/site-packages/pytorch_lightning/trainer/connectors/data_connector.py:430: PossibleUserWarning: The dataloader, predict_dataloader, does not have many workers which may be a bottleneck. Consider increasing the value of the `num_workers` argument` (try 40 which is the number of cpus on this machine) in the `DataLoader` init to improve performance.\n",
      "  rank_zero_warn(\n"
     ]
    },
    {
     "data": {
      "application/vnd.jupyter.widget-view+json": {
       "model_id": "25090835e3ab44f69a3f951b643dcfeb",
       "version_major": 2,
       "version_minor": 0
      },
      "text/plain": [
       "Predicting: 0it [00:00, ?it/s]"
      ]
     },
     "metadata": {},
     "output_type": "display_data"
    }
   ],
   "source": [
    "ICA100_gc_preds = utils.predict_w_model(ICA100_gc, ICA100_gc_model, ICA100_gc_data, path+'FinalModels_IM/ICA100_gc/')"
   ]
  },
  {
   "cell_type": "markdown",
   "id": "13e1114f-3571-4816-ac8f-ab02ed34296e",
   "metadata": {},
   "source": [
    "# Load trained models from checkpoint"
   ]
  },
  {
   "cell_type": "code",
   "execution_count": 33,
   "id": "4e95ae89-e947-4606-9d12-e2e3bdac99cb",
   "metadata": {},
   "outputs": [
    {
     "name": "stderr",
     "output_type": "stream",
     "text": [
      "/home/laurar/anaconda3/envs/cuda02/lib/python3.10/site-packages/pytorch_lightning/utilities/parsing.py:197: UserWarning: Attribute 'activation' is an instance of `nn.Module` and is already saved during checkpointing. It is recommended to ignore them using `self.save_hyperparameters(ignore=['activation'])`.\n",
      "  rank_zero_warn(\n",
      "/home/laurar/anaconda3/envs/cuda02/lib/python3.10/site-packages/pytorch_lightning/utilities/parsing.py:197: UserWarning: Attribute 'loss' is an instance of `nn.Module` and is already saved during checkpointing. It is recommended to ignore them using `self.save_hyperparameters(ignore=['loss'])`.\n",
      "  rank_zero_warn(\n"
     ]
    }
   ],
   "source": [
    "# ica25gc = ukbb_ica_models.variable1DCNN.load_from_checkpoint(path+'FinalModels_IM/ICA25_gc/Checkpoint/models-epoch=88-val_loss=39.57.ckpt')\n",
    "# ica100gc = ukbb_ica_models.variable1DCNN.load_from_checkpoint(path+'FinalModels_IM/ICA100_gc/Checkpoint/models-epoch=05-val_loss=34.09.ckpt')"
   ]
  },
  {
   "cell_type": "markdown",
   "id": "1b315c69-96fa-4e9d-aca7-c4b8b7ec4781",
   "metadata": {},
   "source": [
    "# Get (additional) data information"
   ]
  },
  {
   "cell_type": "code",
   "execution_count": 13,
   "id": "11899b78-a0b2-4c95-b670-dee4b8a77f37",
   "metadata": {},
   "outputs": [
    {
     "name": "stdout",
     "output_type": "stream",
     "text": [
      "Items in model 1 train_idx idx: 4721\n",
      "Items in model 2 train_idx idx: 4721\n",
      "Shared amount of train_idx idx: 4721\n",
      "\n",
      "Items in model 1 val_idx idx: 590\n",
      "Items in model 2 val_idx idx: 590\n",
      "Shared amount of val_idx idx: 590\n",
      "\n",
      "Items in model 1 test_idx idx: 591\n",
      "Items in model 2 test_idx idx: 591\n",
      "Shared amount of test_idx idx: 591\n",
      "\n"
     ]
    }
   ],
   "source": [
    "# are the data splits the same for both models?\n",
    "for info_type in ['train_idx', 'val_idx', 'test_idx']:\n",
    "    model_1_id = set()\n",
    "    model_2_id = set()\n",
    "    for model in ['FinalModels_IM/ICA25_gc/', 'FinalModels_IM/ICA100_gc/']: \n",
    "        train_id = utils.load_datainfo(path+model, info_type)\n",
    "        if model == 'FinalModels_IM/ICA25_gc/':\n",
    "            model_1_id = set(train_id)\n",
    "        else:\n",
    "            model_2_id = set(train_id)\n",
    "    print(f'Items in model 1 {info_type} idx: {len(model_1_id)}')\n",
    "    print(f'Items in model 2 {info_type} idx: {len(model_2_id)}')\n",
    "    print(f'Shared amount of {info_type} idx: {len(model_1_id.intersection(model_2_id))}\\n')"
   ]
  },
  {
   "cell_type": "markdown",
   "id": "dc4ea67e-c066-4afc-a27f-fdb3274f81e5",
   "metadata": {},
   "source": [
    "Since the train/val/test splits are identical for both the trained ICA25 and ICA100 models it is sufficient to only load the data information from one and use it for the investigation of both models."
   ]
  },
  {
   "cell_type": "code",
   "execution_count": 28,
   "id": "83f5c27c-da22-4805-a666-7539156ec021",
   "metadata": {},
   "outputs": [
    {
     "data": {
      "text/html": [
       "<div>\n",
       "<style scoped>\n",
       "    .dataframe tbody tr th:only-of-type {\n",
       "        vertical-align: middle;\n",
       "    }\n",
       "\n",
       "    .dataframe tbody tr th {\n",
       "        vertical-align: top;\n",
       "    }\n",
       "\n",
       "    .dataframe thead th {\n",
       "        text-align: right;\n",
       "    }\n",
       "</style>\n",
       "<table border=\"1\" class=\"dataframe\">\n",
       "  <thead>\n",
       "    <tr style=\"text-align: right;\">\n",
       "      <th></th>\n",
       "      <th>eid</th>\n",
       "      <th>age</th>\n",
       "      <th>rfmri_ica25_ts</th>\n",
       "      <th>split</th>\n",
       "      <th>bmi</th>\n",
       "      <th>digit substitution</th>\n",
       "      <th>education</th>\n",
       "      <th>fluid intelligence</th>\n",
       "      <th>grip</th>\n",
       "      <th>depressive episode</th>\n",
       "      <th>...</th>\n",
       "      <th>weekly beer</th>\n",
       "      <th>genetic pc 1</th>\n",
       "      <th>genetic pc 2</th>\n",
       "      <th>genetic pc 3</th>\n",
       "      <th>batch_nb_ICA25</th>\n",
       "      <th>predicted_age_ICA25</th>\n",
       "      <th>batch_nb_ICA100</th>\n",
       "      <th>predicted_age_ICA100</th>\n",
       "      <th>bag_ICA25</th>\n",
       "      <th>bag_ICA100</th>\n",
       "    </tr>\n",
       "  </thead>\n",
       "  <tbody>\n",
       "    <tr>\n",
       "      <th>0</th>\n",
       "      <td>1000014</td>\n",
       "      <td>61</td>\n",
       "      <td>/ritter/share/data/UKBB/ukb_data/bids/sub-1000...</td>\n",
       "      <td>train</td>\n",
       "      <td>23.4720</td>\n",
       "      <td>16.0</td>\n",
       "      <td>10.0</td>\n",
       "      <td>8.0</td>\n",
       "      <td>18.0</td>\n",
       "      <td>NaN</td>\n",
       "      <td>...</td>\n",
       "      <td>0.0</td>\n",
       "      <td>-9.69796</td>\n",
       "      <td>4.38910</td>\n",
       "      <td>-1.121000</td>\n",
       "      <td>NaN</td>\n",
       "      <td>NaN</td>\n",
       "      <td>NaN</td>\n",
       "      <td>NaN</td>\n",
       "      <td>NaN</td>\n",
       "      <td>NaN</td>\n",
       "    </tr>\n",
       "    <tr>\n",
       "      <th>1</th>\n",
       "      <td>1000023</td>\n",
       "      <td>66</td>\n",
       "      <td>/ritter/share/data/UKBB/ukb_data/bids/sub-1000...</td>\n",
       "      <td>train</td>\n",
       "      <td>30.7894</td>\n",
       "      <td>NaN</td>\n",
       "      <td>7.0</td>\n",
       "      <td>4.0</td>\n",
       "      <td>16.0</td>\n",
       "      <td>NaN</td>\n",
       "      <td>...</td>\n",
       "      <td>3.0</td>\n",
       "      <td>-13.23580</td>\n",
       "      <td>3.27728</td>\n",
       "      <td>-2.250050</td>\n",
       "      <td>NaN</td>\n",
       "      <td>NaN</td>\n",
       "      <td>NaN</td>\n",
       "      <td>NaN</td>\n",
       "      <td>NaN</td>\n",
       "      <td>NaN</td>\n",
       "    </tr>\n",
       "    <tr>\n",
       "      <th>2</th>\n",
       "      <td>1000030</td>\n",
       "      <td>65</td>\n",
       "      <td>/ritter/share/data/UKBB/ukb_data/bids/sub-1000...</td>\n",
       "      <td>train</td>\n",
       "      <td>21.2569</td>\n",
       "      <td>NaN</td>\n",
       "      <td>20.0</td>\n",
       "      <td>8.0</td>\n",
       "      <td>18.0</td>\n",
       "      <td>1.0</td>\n",
       "      <td>...</td>\n",
       "      <td>NaN</td>\n",
       "      <td>-10.69070</td>\n",
       "      <td>4.10909</td>\n",
       "      <td>-0.344172</td>\n",
       "      <td>NaN</td>\n",
       "      <td>NaN</td>\n",
       "      <td>NaN</td>\n",
       "      <td>NaN</td>\n",
       "      <td>NaN</td>\n",
       "      <td>NaN</td>\n",
       "    </tr>\n",
       "    <tr>\n",
       "      <th>3</th>\n",
       "      <td>1000041</td>\n",
       "      <td>61</td>\n",
       "      <td>/ritter/share/data/UKBB/ukb_data/bids/sub-1000...</td>\n",
       "      <td>train</td>\n",
       "      <td>22.7013</td>\n",
       "      <td>23.0</td>\n",
       "      <td>15.0</td>\n",
       "      <td>3.0</td>\n",
       "      <td>38.0</td>\n",
       "      <td>0.0</td>\n",
       "      <td>...</td>\n",
       "      <td>16.0</td>\n",
       "      <td>-13.54560</td>\n",
       "      <td>4.86490</td>\n",
       "      <td>-0.990955</td>\n",
       "      <td>NaN</td>\n",
       "      <td>NaN</td>\n",
       "      <td>NaN</td>\n",
       "      <td>NaN</td>\n",
       "      <td>NaN</td>\n",
       "      <td>NaN</td>\n",
       "    </tr>\n",
       "    <tr>\n",
       "      <th>4</th>\n",
       "      <td>1000059</td>\n",
       "      <td>68</td>\n",
       "      <td>/ritter/share/data/UKBB/ukb_data/bids/sub-1000...</td>\n",
       "      <td>val</td>\n",
       "      <td>NaN</td>\n",
       "      <td>22.0</td>\n",
       "      <td>20.0</td>\n",
       "      <td>7.0</td>\n",
       "      <td>NaN</td>\n",
       "      <td>0.0</td>\n",
       "      <td>...</td>\n",
       "      <td>NaN</td>\n",
       "      <td>-11.27560</td>\n",
       "      <td>4.80936</td>\n",
       "      <td>-1.093500</td>\n",
       "      <td>4.0</td>\n",
       "      <td>62.582386</td>\n",
       "      <td>4.0</td>\n",
       "      <td>59.116524</td>\n",
       "      <td>-5.417614</td>\n",
       "      <td>-8.883476</td>\n",
       "    </tr>\n",
       "    <tr>\n",
       "      <th>...</th>\n",
       "      <td>...</td>\n",
       "      <td>...</td>\n",
       "      <td>...</td>\n",
       "      <td>...</td>\n",
       "      <td>...</td>\n",
       "      <td>...</td>\n",
       "      <td>...</td>\n",
       "      <td>...</td>\n",
       "      <td>...</td>\n",
       "      <td>...</td>\n",
       "      <td>...</td>\n",
       "      <td>...</td>\n",
       "      <td>...</td>\n",
       "      <td>...</td>\n",
       "      <td>...</td>\n",
       "      <td>...</td>\n",
       "      <td>...</td>\n",
       "      <td>...</td>\n",
       "      <td>...</td>\n",
       "      <td>...</td>\n",
       "      <td>...</td>\n",
       "    </tr>\n",
       "    <tr>\n",
       "      <th>5897</th>\n",
       "      <td>1449303</td>\n",
       "      <td>60</td>\n",
       "      <td>/ritter/share/data/UKBB/ukb_data/bids/sub-1449...</td>\n",
       "      <td>train</td>\n",
       "      <td>30.7923</td>\n",
       "      <td>17.0</td>\n",
       "      <td>13.0</td>\n",
       "      <td>7.0</td>\n",
       "      <td>27.0</td>\n",
       "      <td>0.0</td>\n",
       "      <td>...</td>\n",
       "      <td>0.0</td>\n",
       "      <td>-12.29960</td>\n",
       "      <td>3.90043</td>\n",
       "      <td>-0.868765</td>\n",
       "      <td>NaN</td>\n",
       "      <td>NaN</td>\n",
       "      <td>NaN</td>\n",
       "      <td>NaN</td>\n",
       "      <td>NaN</td>\n",
       "      <td>NaN</td>\n",
       "    </tr>\n",
       "    <tr>\n",
       "      <th>5898</th>\n",
       "      <td>1449311</td>\n",
       "      <td>69</td>\n",
       "      <td>/ritter/share/data/UKBB/ukb_data/bids/sub-1449...</td>\n",
       "      <td>test</td>\n",
       "      <td>27.6795</td>\n",
       "      <td>25.0</td>\n",
       "      <td>20.0</td>\n",
       "      <td>6.0</td>\n",
       "      <td>28.0</td>\n",
       "      <td>0.0</td>\n",
       "      <td>...</td>\n",
       "      <td>0.0</td>\n",
       "      <td>-15.04290</td>\n",
       "      <td>3.40042</td>\n",
       "      <td>-1.784880</td>\n",
       "      <td>8.0</td>\n",
       "      <td>60.454479</td>\n",
       "      <td>0.0</td>\n",
       "      <td>62.996925</td>\n",
       "      <td>-8.545521</td>\n",
       "      <td>-6.003075</td>\n",
       "    </tr>\n",
       "    <tr>\n",
       "      <th>5899</th>\n",
       "      <td>1449335</td>\n",
       "      <td>61</td>\n",
       "      <td>/ritter/share/data/UKBB/ukb_data/bids/sub-1449...</td>\n",
       "      <td>train</td>\n",
       "      <td>28.5582</td>\n",
       "      <td>20.0</td>\n",
       "      <td>19.0</td>\n",
       "      <td>8.0</td>\n",
       "      <td>46.0</td>\n",
       "      <td>0.0</td>\n",
       "      <td>...</td>\n",
       "      <td>2.0</td>\n",
       "      <td>-10.48620</td>\n",
       "      <td>1.69986</td>\n",
       "      <td>-2.722550</td>\n",
       "      <td>NaN</td>\n",
       "      <td>NaN</td>\n",
       "      <td>NaN</td>\n",
       "      <td>NaN</td>\n",
       "      <td>NaN</td>\n",
       "      <td>NaN</td>\n",
       "    </tr>\n",
       "    <tr>\n",
       "      <th>5900</th>\n",
       "      <td>1449344</td>\n",
       "      <td>62</td>\n",
       "      <td>/ritter/share/data/UKBB/ukb_data/bids/sub-1449...</td>\n",
       "      <td>test</td>\n",
       "      <td>19.8645</td>\n",
       "      <td>22.0</td>\n",
       "      <td>20.0</td>\n",
       "      <td>6.0</td>\n",
       "      <td>30.0</td>\n",
       "      <td>0.0</td>\n",
       "      <td>...</td>\n",
       "      <td>NaN</td>\n",
       "      <td>-14.75190</td>\n",
       "      <td>4.25077</td>\n",
       "      <td>-3.152400</td>\n",
       "      <td>4.0</td>\n",
       "      <td>61.184891</td>\n",
       "      <td>2.0</td>\n",
       "      <td>55.179634</td>\n",
       "      <td>-0.815109</td>\n",
       "      <td>-6.820366</td>\n",
       "    </tr>\n",
       "    <tr>\n",
       "      <th>5901</th>\n",
       "      <td>1449356</td>\n",
       "      <td>52</td>\n",
       "      <td>/ritter/share/data/UKBB/ukb_data/bids/sub-1449...</td>\n",
       "      <td>train</td>\n",
       "      <td>33.1680</td>\n",
       "      <td>15.0</td>\n",
       "      <td>10.0</td>\n",
       "      <td>3.0</td>\n",
       "      <td>30.0</td>\n",
       "      <td>0.0</td>\n",
       "      <td>...</td>\n",
       "      <td>0.0</td>\n",
       "      <td>-13.38490</td>\n",
       "      <td>4.56366</td>\n",
       "      <td>0.462483</td>\n",
       "      <td>NaN</td>\n",
       "      <td>NaN</td>\n",
       "      <td>NaN</td>\n",
       "      <td>NaN</td>\n",
       "      <td>NaN</td>\n",
       "      <td>NaN</td>\n",
       "    </tr>\n",
       "  </tbody>\n",
       "</table>\n",
       "<p>5902 rows × 24 columns</p>\n",
       "</div>"
      ],
      "text/plain": [
       "          eid  age                                     rfmri_ica25_ts  split  \\\n",
       "0     1000014   61  /ritter/share/data/UKBB/ukb_data/bids/sub-1000...  train   \n",
       "1     1000023   66  /ritter/share/data/UKBB/ukb_data/bids/sub-1000...  train   \n",
       "2     1000030   65  /ritter/share/data/UKBB/ukb_data/bids/sub-1000...  train   \n",
       "3     1000041   61  /ritter/share/data/UKBB/ukb_data/bids/sub-1000...  train   \n",
       "4     1000059   68  /ritter/share/data/UKBB/ukb_data/bids/sub-1000...    val   \n",
       "...       ...  ...                                                ...    ...   \n",
       "5897  1449303   60  /ritter/share/data/UKBB/ukb_data/bids/sub-1449...  train   \n",
       "5898  1449311   69  /ritter/share/data/UKBB/ukb_data/bids/sub-1449...   test   \n",
       "5899  1449335   61  /ritter/share/data/UKBB/ukb_data/bids/sub-1449...  train   \n",
       "5900  1449344   62  /ritter/share/data/UKBB/ukb_data/bids/sub-1449...   test   \n",
       "5901  1449356   52  /ritter/share/data/UKBB/ukb_data/bids/sub-1449...  train   \n",
       "\n",
       "          bmi  digit substitution  education  fluid intelligence  grip  \\\n",
       "0     23.4720                16.0       10.0                 8.0  18.0   \n",
       "1     30.7894                 NaN        7.0                 4.0  16.0   \n",
       "2     21.2569                 NaN       20.0                 8.0  18.0   \n",
       "3     22.7013                23.0       15.0                 3.0  38.0   \n",
       "4         NaN                22.0       20.0                 7.0   NaN   \n",
       "...       ...                 ...        ...                 ...   ...   \n",
       "5897  30.7923                17.0       13.0                 7.0  27.0   \n",
       "5898  27.6795                25.0       20.0                 6.0  28.0   \n",
       "5899  28.5582                20.0       19.0                 8.0  46.0   \n",
       "5900  19.8645                22.0       20.0                 6.0  30.0   \n",
       "5901  33.1680                15.0       10.0                 3.0  30.0   \n",
       "\n",
       "      depressive episode  ...  weekly beer  genetic pc 1  genetic pc 2  \\\n",
       "0                    NaN  ...          0.0      -9.69796       4.38910   \n",
       "1                    NaN  ...          3.0     -13.23580       3.27728   \n",
       "2                    1.0  ...          NaN     -10.69070       4.10909   \n",
       "3                    0.0  ...         16.0     -13.54560       4.86490   \n",
       "4                    0.0  ...          NaN     -11.27560       4.80936   \n",
       "...                  ...  ...          ...           ...           ...   \n",
       "5897                 0.0  ...          0.0     -12.29960       3.90043   \n",
       "5898                 0.0  ...          0.0     -15.04290       3.40042   \n",
       "5899                 0.0  ...          2.0     -10.48620       1.69986   \n",
       "5900                 0.0  ...          NaN     -14.75190       4.25077   \n",
       "5901                 0.0  ...          0.0     -13.38490       4.56366   \n",
       "\n",
       "      genetic pc 3  batch_nb_ICA25  predicted_age_ICA25  batch_nb_ICA100  \\\n",
       "0        -1.121000             NaN                  NaN              NaN   \n",
       "1        -2.250050             NaN                  NaN              NaN   \n",
       "2        -0.344172             NaN                  NaN              NaN   \n",
       "3        -0.990955             NaN                  NaN              NaN   \n",
       "4        -1.093500             4.0            62.582386              4.0   \n",
       "...            ...             ...                  ...              ...   \n",
       "5897     -0.868765             NaN                  NaN              NaN   \n",
       "5898     -1.784880             8.0            60.454479              0.0   \n",
       "5899     -2.722550             NaN                  NaN              NaN   \n",
       "5900     -3.152400             4.0            61.184891              2.0   \n",
       "5901      0.462483             NaN                  NaN              NaN   \n",
       "\n",
       "      predicted_age_ICA100  bag_ICA25  bag_ICA100  \n",
       "0                      NaN        NaN         NaN  \n",
       "1                      NaN        NaN         NaN  \n",
       "2                      NaN        NaN         NaN  \n",
       "3                      NaN        NaN         NaN  \n",
       "4                59.116524  -5.417614   -8.883476  \n",
       "...                    ...        ...         ...  \n",
       "5897                   NaN        NaN         NaN  \n",
       "5898             62.996925  -8.545521   -6.003075  \n",
       "5899                   NaN        NaN         NaN  \n",
       "5900             55.179634  -0.815109   -6.820366  \n",
       "5901                   NaN        NaN         NaN  \n",
       "\n",
       "[5902 rows x 24 columns]"
      ]
     },
     "execution_count": 28,
     "metadata": {},
     "output_type": "execute_result"
    }
   ],
   "source": [
    "data_overview = utils.get_metadata(path+'FinalModels_IM/ICA25_gc/', ukbb_dir, index=False)\n",
    "# load predictions\n",
    "ICA25_gc_preds = pd.read_csv(path+'FinalModels_IM/ICA25_gc/data_info/predictions.csv')\n",
    "ICA100_gc_preds = pd.read_csv(path+'FinalModels_IM/ICA100_gc/data_info/predictions.csv')\n",
    "# add predictions to overview\n",
    "data_overview = data_overview.merge(ICA25_gc_preds, how='left', on='eid')\n",
    "data_overview = data_overview.merge(ICA100_gc_preds, how='left', on='eid', suffixes=('_ICA25', '_ICA100'))\n",
    "data_overview = utils.calculate_bag(data_overview)\n",
    "data_overview"
   ]
  },
  {
   "cell_type": "markdown",
   "id": "4d460549-3cae-400d-8fb9-24cf0226ff47",
   "metadata": {},
   "source": [
    "# Visualise data"
   ]
  },
  {
   "cell_type": "code",
   "execution_count": 19,
   "id": "98989ea7-6e7f-4eb4-b7a0-b282c36a2cbb",
   "metadata": {},
   "outputs": [],
   "source": [
    "import matplotlib.pyplot as plt"
   ]
  },
  {
   "cell_type": "code",
   "execution_count": 20,
   "id": "42cce085-8847-45e6-8e7e-9a32820963a9",
   "metadata": {},
   "outputs": [],
   "source": [
    "# set fig path\n",
    "fig_path = '../../figures/IM'\n",
    "# subset data splits\n",
    "train_overview = data_overview[data_overview['split']=='train']\n",
    "val_overview = data_overview[data_overview['split']=='val']\n",
    "test_overview = data_overview[data_overview['split']=='test']\n",
    "valtest_overview = data_overview[data_overview['split']!='train']"
   ]
  },
  {
   "cell_type": "markdown",
   "id": "9fefb07c-1c4b-49ed-93ae-0fa2406ea188",
   "metadata": {},
   "source": [
    "## Age distribution in full data subset vs. training vs. val/test data"
   ]
  },
  {
   "cell_type": "code",
   "execution_count": 21,
   "id": "95adf547-c007-4c77-9d42-394fab133bf4",
   "metadata": {},
   "outputs": [
    {
     "data": {
      "image/png": "[encoded data removed]",
      "text/plain": [
       "<Figure size 640x480 with 1 Axes>"
      ]
     },
     "metadata": {},
     "output_type": "display_data"
    }
   ],
   "source": [
    "plt.hist(data_overview['age'], bins=35, histtype='step', label='full')\n",
    "plt.hist(train_overview['age'], bins=35, histtype='step', label='train')\n",
    "plt.hist(val_overview['age'], bins=35, histtype='step', label='val')\n",
    "plt.hist(test_overview['age'], bins=35, histtype='step', label='test')\n",
    "plt.hist(valtest_overview['age'], bins=35, histtype='step', label='val/test')\n",
    "plt.title('Age distribution in different data subsets')\n",
    "plt.xlabel('Age')\n",
    "plt.ylabel('Count')\n",
    "plt.legend()\n",
    "# plt.savefig(fig_path+'age_distribution.pdf')\n",
    "plt.show()"
   ]
  },
  {
   "cell_type": "markdown",
   "id": "7d5d9816-0cd2-4698-8179-05c3bdcc68f7",
   "metadata": {},
   "source": [
    "## Brain age gaps"
   ]
  },
  {
   "cell_type": "code",
   "execution_count": 24,
   "id": "f6627b90-e9d2-47ff-b555-a2fdc1fb8b0a",
   "metadata": {},
   "outputs": [
    {
     "data": {
      "image/png": "[encoded data removed]",
      "text/plain": [
       "<Figure size 640x480 with 1 Axes>"
      ]
     },
     "metadata": {},
     "output_type": "display_data"
    }
   ],
   "source": [
    "plt.scatter(data_overview['age'], data_overview['predicted_age_ICA25'])\n",
    "plt.xlabel('True age')\n",
    "plt.ylabel('Predicted age')\n",
    "plt.show()"
   ]
  },
  {
   "cell_type": "code",
   "execution_count": 25,
   "id": "8cd2ae9d-031a-498d-9ec1-efb74201d681",
   "metadata": {},
   "outputs": [
    {
     "data": {
      "image/png": "[encoded data removed]",
      "text/plain": [
       "<Figure size 640x480 with 1 Axes>"
      ]
     },
     "metadata": {},
     "output_type": "display_data"
    }
   ],
   "source": [
    "plt.scatter(data_overview['age'], data_overview['predicted_age_ICA100'])\n",
    "plt.xlabel('True age')\n",
    "plt.ylabel('Predicted age')\n",
    "plt.show()"
   ]
  },
  {
   "cell_type": "code",
   "execution_count": 29,
   "id": "6a630145-4566-4157-b073-02db669767a8",
   "metadata": {},
   "outputs": [
    {
     "data": {
      "image/png": "[encoded data removed]",
      "text/plain": [
       "<Figure size 640x480 with 1 Axes>"
      ]
     },
     "metadata": {},
     "output_type": "display_data"
    }
   ],
   "source": [
    "plt.scatter(data_overview['age'], data_overview['bag_ICA25'])\n",
    "plt.xlabel('True age')\n",
    "plt.ylabel('BAG')\n",
    "plt.show()"
   ]
  },
  {
   "cell_type": "code",
   "execution_count": 31,
   "id": "33332593-38f8-459e-9fa8-fc353e51a048",
   "metadata": {},
   "outputs": [
    {
     "data": {
      "text/plain": [
       "63.41714672992206"
      ]
     },
     "execution_count": 31,
     "metadata": {},
     "output_type": "execute_result"
    }
   ],
   "source": [
    "np.mean(data_overview['age'])"
   ]
  },
  {
   "cell_type": "code",
   "execution_count": 35,
   "id": "96cf7f9f-6354-4236-8d86-b2cd34391f9c",
   "metadata": {},
   "outputs": [],
   "source": [
    "import seaborn as sns"
   ]
  },
  {
   "cell_type": "code",
   "execution_count": 40,
   "id": "aa406ce1-4276-4f40-a189-d0a0282aead3",
   "metadata": {},
   "outputs": [
    {
     "data": {
      "text/html": [
       "<div>\n",
       "<style scoped>\n",
       "    .dataframe tbody tr th:only-of-type {\n",
       "        vertical-align: middle;\n",
       "    }\n",
       "\n",
       "    .dataframe tbody tr th {\n",
       "        vertical-align: top;\n",
       "    }\n",
       "\n",
       "    .dataframe thead th {\n",
       "        text-align: right;\n",
       "    }\n",
       "</style>\n",
       "<table border=\"1\" class=\"dataframe\">\n",
       "  <thead>\n",
       "    <tr style=\"text-align: right;\">\n",
       "      <th></th>\n",
       "      <th>eid</th>\n",
       "      <th>age</th>\n",
       "      <th>bmi</th>\n",
       "      <th>digit substitution</th>\n",
       "      <th>education</th>\n",
       "      <th>fluid intelligence</th>\n",
       "      <th>grip</th>\n",
       "      <th>depressive episode</th>\n",
       "      <th>all depression</th>\n",
       "      <th>recurrent depressive disorder</th>\n",
       "      <th>...</th>\n",
       "      <th>weekly beer</th>\n",
       "      <th>genetic pc 1</th>\n",
       "      <th>genetic pc 2</th>\n",
       "      <th>genetic pc 3</th>\n",
       "      <th>batch_nb_ICA25</th>\n",
       "      <th>predicted_age_ICA25</th>\n",
       "      <th>batch_nb_ICA100</th>\n",
       "      <th>predicted_age_ICA100</th>\n",
       "      <th>bag_ICA25</th>\n",
       "      <th>bag_ICA100</th>\n",
       "    </tr>\n",
       "  </thead>\n",
       "  <tbody>\n",
       "    <tr>\n",
       "      <th>4</th>\n",
       "      <td>1000059</td>\n",
       "      <td>68</td>\n",
       "      <td>NaN</td>\n",
       "      <td>22.0</td>\n",
       "      <td>20.0</td>\n",
       "      <td>7.0</td>\n",
       "      <td>NaN</td>\n",
       "      <td>0.0</td>\n",
       "      <td>0.0</td>\n",
       "      <td>0.0</td>\n",
       "      <td>...</td>\n",
       "      <td>NaN</td>\n",
       "      <td>-11.2756</td>\n",
       "      <td>4.809360</td>\n",
       "      <td>-1.093500</td>\n",
       "      <td>4.0</td>\n",
       "      <td>62.582386</td>\n",
       "      <td>4.0</td>\n",
       "      <td>59.116524</td>\n",
       "      <td>-5.417614</td>\n",
       "      <td>-8.883476</td>\n",
       "    </tr>\n",
       "    <tr>\n",
       "      <th>6</th>\n",
       "      <td>1000077</td>\n",
       "      <td>58</td>\n",
       "      <td>33.4834</td>\n",
       "      <td>18.0</td>\n",
       "      <td>19.0</td>\n",
       "      <td>3.0</td>\n",
       "      <td>48.0</td>\n",
       "      <td>NaN</td>\n",
       "      <td>NaN</td>\n",
       "      <td>NaN</td>\n",
       "      <td>...</td>\n",
       "      <td>12.0</td>\n",
       "      <td>-15.5557</td>\n",
       "      <td>3.185920</td>\n",
       "      <td>0.260200</td>\n",
       "      <td>6.0</td>\n",
       "      <td>67.262032</td>\n",
       "      <td>5.0</td>\n",
       "      <td>67.376526</td>\n",
       "      <td>9.262032</td>\n",
       "      <td>9.376526</td>\n",
       "    </tr>\n",
       "    <tr>\n",
       "      <th>25</th>\n",
       "      <td>1000264</td>\n",
       "      <td>61</td>\n",
       "      <td>35.5510</td>\n",
       "      <td>23.0</td>\n",
       "      <td>20.0</td>\n",
       "      <td>5.0</td>\n",
       "      <td>29.0</td>\n",
       "      <td>0.0</td>\n",
       "      <td>0.0</td>\n",
       "      <td>0.0</td>\n",
       "      <td>...</td>\n",
       "      <td>NaN</td>\n",
       "      <td>-11.4145</td>\n",
       "      <td>1.330610</td>\n",
       "      <td>1.182250</td>\n",
       "      <td>4.0</td>\n",
       "      <td>63.577496</td>\n",
       "      <td>2.0</td>\n",
       "      <td>61.633591</td>\n",
       "      <td>2.577496</td>\n",
       "      <td>0.633591</td>\n",
       "    </tr>\n",
       "    <tr>\n",
       "      <th>30</th>\n",
       "      <td>1000322</td>\n",
       "      <td>66</td>\n",
       "      <td>23.2550</td>\n",
       "      <td>NaN</td>\n",
       "      <td>7.0</td>\n",
       "      <td>6.0</td>\n",
       "      <td>22.0</td>\n",
       "      <td>0.0</td>\n",
       "      <td>0.0</td>\n",
       "      <td>0.0</td>\n",
       "      <td>...</td>\n",
       "      <td>0.0</td>\n",
       "      <td>-14.4092</td>\n",
       "      <td>0.637092</td>\n",
       "      <td>-3.417730</td>\n",
       "      <td>0.0</td>\n",
       "      <td>66.740280</td>\n",
       "      <td>8.0</td>\n",
       "      <td>61.846359</td>\n",
       "      <td>0.740280</td>\n",
       "      <td>-4.153641</td>\n",
       "    </tr>\n",
       "    <tr>\n",
       "      <th>32</th>\n",
       "      <td>1000345</td>\n",
       "      <td>51</td>\n",
       "      <td>25.5121</td>\n",
       "      <td>NaN</td>\n",
       "      <td>20.0</td>\n",
       "      <td>7.0</td>\n",
       "      <td>26.0</td>\n",
       "      <td>0.0</td>\n",
       "      <td>0.0</td>\n",
       "      <td>0.0</td>\n",
       "      <td>...</td>\n",
       "      <td>0.0</td>\n",
       "      <td>-11.0039</td>\n",
       "      <td>3.870650</td>\n",
       "      <td>-1.934020</td>\n",
       "      <td>4.0</td>\n",
       "      <td>60.626373</td>\n",
       "      <td>6.0</td>\n",
       "      <td>62.746887</td>\n",
       "      <td>9.626373</td>\n",
       "      <td>11.746887</td>\n",
       "    </tr>\n",
       "    <tr>\n",
       "      <th>...</th>\n",
       "      <td>...</td>\n",
       "      <td>...</td>\n",
       "      <td>...</td>\n",
       "      <td>...</td>\n",
       "      <td>...</td>\n",
       "      <td>...</td>\n",
       "      <td>...</td>\n",
       "      <td>...</td>\n",
       "      <td>...</td>\n",
       "      <td>...</td>\n",
       "      <td>...</td>\n",
       "      <td>...</td>\n",
       "      <td>...</td>\n",
       "      <td>...</td>\n",
       "      <td>...</td>\n",
       "      <td>...</td>\n",
       "      <td>...</td>\n",
       "      <td>...</td>\n",
       "      <td>...</td>\n",
       "      <td>...</td>\n",
       "      <td>...</td>\n",
       "    </tr>\n",
       "    <tr>\n",
       "      <th>5893</th>\n",
       "      <td>1449262</td>\n",
       "      <td>75</td>\n",
       "      <td>NaN</td>\n",
       "      <td>16.0</td>\n",
       "      <td>20.0</td>\n",
       "      <td>5.0</td>\n",
       "      <td>NaN</td>\n",
       "      <td>0.0</td>\n",
       "      <td>0.0</td>\n",
       "      <td>0.0</td>\n",
       "      <td>...</td>\n",
       "      <td>3.0</td>\n",
       "      <td>-11.7924</td>\n",
       "      <td>4.238750</td>\n",
       "      <td>-1.656870</td>\n",
       "      <td>8.0</td>\n",
       "      <td>62.954884</td>\n",
       "      <td>4.0</td>\n",
       "      <td>67.461243</td>\n",
       "      <td>-12.045116</td>\n",
       "      <td>-7.538757</td>\n",
       "    </tr>\n",
       "    <tr>\n",
       "      <th>5895</th>\n",
       "      <td>1449286</td>\n",
       "      <td>63</td>\n",
       "      <td>24.1878</td>\n",
       "      <td>24.0</td>\n",
       "      <td>20.0</td>\n",
       "      <td>11.0</td>\n",
       "      <td>50.0</td>\n",
       "      <td>0.0</td>\n",
       "      <td>0.0</td>\n",
       "      <td>0.0</td>\n",
       "      <td>...</td>\n",
       "      <td>1.0</td>\n",
       "      <td>-10.4546</td>\n",
       "      <td>1.666730</td>\n",
       "      <td>-0.060729</td>\n",
       "      <td>0.0</td>\n",
       "      <td>65.900841</td>\n",
       "      <td>5.0</td>\n",
       "      <td>67.069603</td>\n",
       "      <td>2.900841</td>\n",
       "      <td>4.069603</td>\n",
       "    </tr>\n",
       "    <tr>\n",
       "      <th>5896</th>\n",
       "      <td>1449295</td>\n",
       "      <td>73</td>\n",
       "      <td>23.5030</td>\n",
       "      <td>15.0</td>\n",
       "      <td>20.0</td>\n",
       "      <td>9.0</td>\n",
       "      <td>28.0</td>\n",
       "      <td>1.0</td>\n",
       "      <td>1.0</td>\n",
       "      <td>NaN</td>\n",
       "      <td>...</td>\n",
       "      <td>NaN</td>\n",
       "      <td>-10.8239</td>\n",
       "      <td>2.680000</td>\n",
       "      <td>-1.546490</td>\n",
       "      <td>8.0</td>\n",
       "      <td>67.733994</td>\n",
       "      <td>4.0</td>\n",
       "      <td>69.854507</td>\n",
       "      <td>-5.266006</td>\n",
       "      <td>-3.145493</td>\n",
       "    </tr>\n",
       "    <tr>\n",
       "      <th>5898</th>\n",
       "      <td>1449311</td>\n",
       "      <td>69</td>\n",
       "      <td>27.6795</td>\n",
       "      <td>25.0</td>\n",
       "      <td>20.0</td>\n",
       "      <td>6.0</td>\n",
       "      <td>28.0</td>\n",
       "      <td>0.0</td>\n",
       "      <td>0.0</td>\n",
       "      <td>0.0</td>\n",
       "      <td>...</td>\n",
       "      <td>0.0</td>\n",
       "      <td>-15.0429</td>\n",
       "      <td>3.400420</td>\n",
       "      <td>-1.784880</td>\n",
       "      <td>8.0</td>\n",
       "      <td>60.454479</td>\n",
       "      <td>0.0</td>\n",
       "      <td>62.996925</td>\n",
       "      <td>-8.545521</td>\n",
       "      <td>-6.003075</td>\n",
       "    </tr>\n",
       "    <tr>\n",
       "      <th>5900</th>\n",
       "      <td>1449344</td>\n",
       "      <td>62</td>\n",
       "      <td>19.8645</td>\n",
       "      <td>22.0</td>\n",
       "      <td>20.0</td>\n",
       "      <td>6.0</td>\n",
       "      <td>30.0</td>\n",
       "      <td>0.0</td>\n",
       "      <td>0.0</td>\n",
       "      <td>0.0</td>\n",
       "      <td>...</td>\n",
       "      <td>NaN</td>\n",
       "      <td>-14.7519</td>\n",
       "      <td>4.250770</td>\n",
       "      <td>-3.152400</td>\n",
       "      <td>4.0</td>\n",
       "      <td>61.184891</td>\n",
       "      <td>2.0</td>\n",
       "      <td>55.179634</td>\n",
       "      <td>-0.815109</td>\n",
       "      <td>-6.820366</td>\n",
       "    </tr>\n",
       "  </tbody>\n",
       "</table>\n",
       "<p>1181 rows × 22 columns</p>\n",
       "</div>"
      ],
      "text/plain": [
       "          eid  age      bmi  digit substitution  education  \\\n",
       "4     1000059   68      NaN                22.0       20.0   \n",
       "6     1000077   58  33.4834                18.0       19.0   \n",
       "25    1000264   61  35.5510                23.0       20.0   \n",
       "30    1000322   66  23.2550                 NaN        7.0   \n",
       "32    1000345   51  25.5121                 NaN       20.0   \n",
       "...       ...  ...      ...                 ...        ...   \n",
       "5893  1449262   75      NaN                16.0       20.0   \n",
       "5895  1449286   63  24.1878                24.0       20.0   \n",
       "5896  1449295   73  23.5030                15.0       20.0   \n",
       "5898  1449311   69  27.6795                25.0       20.0   \n",
       "5900  1449344   62  19.8645                22.0       20.0   \n",
       "\n",
       "      fluid intelligence  grip  depressive episode  all depression  \\\n",
       "4                    7.0   NaN                 0.0             0.0   \n",
       "6                    3.0  48.0                 NaN             NaN   \n",
       "25                   5.0  29.0                 0.0             0.0   \n",
       "30                   6.0  22.0                 0.0             0.0   \n",
       "32                   7.0  26.0                 0.0             0.0   \n",
       "...                  ...   ...                 ...             ...   \n",
       "5893                 5.0   NaN                 0.0             0.0   \n",
       "5895                11.0  50.0                 0.0             0.0   \n",
       "5896                 9.0  28.0                 1.0             1.0   \n",
       "5898                 6.0  28.0                 0.0             0.0   \n",
       "5900                 6.0  30.0                 0.0             0.0   \n",
       "\n",
       "      recurrent depressive disorder  ...  weekly beer  genetic pc 1  \\\n",
       "4                               0.0  ...          NaN      -11.2756   \n",
       "6                               NaN  ...         12.0      -15.5557   \n",
       "25                              0.0  ...          NaN      -11.4145   \n",
       "30                              0.0  ...          0.0      -14.4092   \n",
       "32                              0.0  ...          0.0      -11.0039   \n",
       "...                             ...  ...          ...           ...   \n",
       "5893                            0.0  ...          3.0      -11.7924   \n",
       "5895                            0.0  ...          1.0      -10.4546   \n",
       "5896                            NaN  ...          NaN      -10.8239   \n",
       "5898                            0.0  ...          0.0      -15.0429   \n",
       "5900                            0.0  ...          NaN      -14.7519   \n",
       "\n",
       "      genetic pc 2  genetic pc 3  batch_nb_ICA25  predicted_age_ICA25  \\\n",
       "4         4.809360     -1.093500             4.0            62.582386   \n",
       "6         3.185920      0.260200             6.0            67.262032   \n",
       "25        1.330610      1.182250             4.0            63.577496   \n",
       "30        0.637092     -3.417730             0.0            66.740280   \n",
       "32        3.870650     -1.934020             4.0            60.626373   \n",
       "...            ...           ...             ...                  ...   \n",
       "5893      4.238750     -1.656870             8.0            62.954884   \n",
       "5895      1.666730     -0.060729             0.0            65.900841   \n",
       "5896      2.680000     -1.546490             8.0            67.733994   \n",
       "5898      3.400420     -1.784880             8.0            60.454479   \n",
       "5900      4.250770     -3.152400             4.0            61.184891   \n",
       "\n",
       "      batch_nb_ICA100  predicted_age_ICA100  bag_ICA25  bag_ICA100  \n",
       "4                 4.0             59.116524  -5.417614   -8.883476  \n",
       "6                 5.0             67.376526   9.262032    9.376526  \n",
       "25                2.0             61.633591   2.577496    0.633591  \n",
       "30                8.0             61.846359   0.740280   -4.153641  \n",
       "32                6.0             62.746887   9.626373   11.746887  \n",
       "...               ...                   ...        ...         ...  \n",
       "5893              4.0             67.461243 -12.045116   -7.538757  \n",
       "5895              5.0             67.069603   2.900841    4.069603  \n",
       "5896              4.0             69.854507  -5.266006   -3.145493  \n",
       "5898              0.0             62.996925  -8.545521   -6.003075  \n",
       "5900              2.0             55.179634  -0.815109   -6.820366  \n",
       "\n",
       "[1181 rows x 22 columns]"
      ]
     },
     "execution_count": 40,
     "metadata": {},
     "output_type": "execute_result"
    }
   ],
   "source": [
    "preds_overview = data_overview[data_overview['split'] != 'train']"
   ]
  },
  {
   "cell_type": "code",
   "execution_count": 42,
   "id": "3db330db-0dd7-4cde-aeef-9631b29f87e6",
   "metadata": {},
   "outputs": [
    {
     "data": {
      "text/plain": [
       "<Axes: >"
      ]
     },
     "execution_count": 42,
     "metadata": {},
     "output_type": "execute_result"
    },
    {
     "data": {
      "image/png": "[encoded data removed]",
      "text/plain": [
       "<Figure size 640x480 with 2 Axes>"
      ]
     },
     "metadata": {},
     "output_type": "display_data"
    }
   ],
   "source": [
    "sns.heatmap(preds_overview.loc[:, ~preds_overview.columns.isin(['rfmri_ica25_ts','split','eid'])])"
   ]
  },
  {
   "cell_type": "code",
   "execution_count": null,
   "id": "5e60e5e5-2728-417f-9998-7d86a6a889ad",
   "metadata": {},
   "outputs": [],
   "source": []
  },
  {
   "cell_type": "code",
   "execution_count": null,
   "id": "be4078c4-7d61-467f-929b-79c81e074f93",
   "metadata": {},
   "outputs": [],
   "source": []
  },
  {
   "cell_type": "markdown",
   "id": "8d002102-5612-401a-9953-5d88e90c712a",
   "metadata": {},
   "source": [
    "# TEST"
   ]
  },
  {
   "cell_type": "markdown",
   "id": "b7bd865a-38fb-475e-a0bf-4e3f7d33b9f8",
   "metadata": {},
   "source": [
    "## no randomness"
   ]
  },
  {
   "cell_type": "code",
   "execution_count": 6,
   "id": "7fb4af67-b9c5-44a5-8bc6-1bcffedebe48",
   "metadata": {},
   "outputs": [],
   "source": [
    "path = '../../tracking/FinalModels/TEST/'"
   ]
  },
  {
   "cell_type": "code",
   "execution_count": 7,
   "id": "24023770-c79c-469b-afad-3e884745e2ad",
   "metadata": {},
   "outputs": [
    {
     "name": "stderr",
     "output_type": "stream",
     "text": [
      "/home/laurar/anaconda3/envs/cuda02/lib/python3.10/site-packages/pytorch_lightning/utilities/parsing.py:197: UserWarning: Attribute 'activation' is an instance of `nn.Module` and is already saved during checkpointing. It is recommended to ignore them using `self.save_hyperparameters(ignore=['activation'])`.\n",
      "  rank_zero_warn(\n",
      "/home/laurar/anaconda3/envs/cuda02/lib/python3.10/site-packages/pytorch_lightning/utilities/parsing.py:197: UserWarning: Attribute 'loss' is an instance of `nn.Module` and is already saved during checkpointing. It is recommended to ignore them using `self.save_hyperparameters(ignore=['loss'])`.\n",
      "  rank_zero_warn(\n",
      "GPU available: True (cuda), used: True\n",
      "TPU available: False, using: 0 TPU cores\n",
      "IPU available: False, using: 0 IPUs\n",
      "HPU available: False, using: 0 HPUs\n",
      "You are using a CUDA device ('NVIDIA GeForce RTX 3090') that has Tensor Cores. To properly utilize them, you should set `torch.set_float32_matmul_precision('medium' | 'high')` which will trade-off precision for performance. For more details, read https://pytorch.org/docs/stable/generated/torch.set_float32_matmul_precision.html#torch.set_float32_matmul_precision\n",
      "LOCAL_RANK: 0 - CUDA_VISIBLE_DEVICES: [0,1,2,3]\n",
      "\n",
      "  | Name    | Type       | Params\n",
      "---------------------------------------\n",
      "0 | act     | ReLU       | 0     \n",
      "1 | loss    | MSELoss    | 0     \n",
      "2 | maxpool | MaxPool1d  | 0     \n",
      "3 | encoder | Sequential | 57.8 K\n",
      "4 | decoder | Sequential | 15.2 K\n",
      "---------------------------------------\n",
      "73.0 K    Trainable params\n",
      "0         Non-trainable params\n",
      "73.0 K    Total params\n",
      "0.292     Total estimated model params size (MB)\n"
     ]
    },
    {
     "data": {
      "application/vnd.jupyter.widget-view+json": {
       "model_id": "",
       "version_major": 2,
       "version_minor": 0
      },
      "text/plain": [
       "Sanity Checking: 0it [00:00, ?it/s]"
      ]
     },
     "metadata": {},
     "output_type": "display_data"
    },
    {
     "name": "stderr",
     "output_type": "stream",
     "text": [
      "/home/laurar/anaconda3/envs/cuda02/lib/python3.10/site-packages/pytorch_lightning/trainer/connectors/data_connector.py:430: PossibleUserWarning: The dataloader, val_dataloader, does not have many workers which may be a bottleneck. Consider increasing the value of the `num_workers` argument` (try 40 which is the number of cpus on this machine) in the `DataLoader` init to improve performance.\n",
      "  rank_zero_warn(\n",
      "/home/laurar/anaconda3/envs/cuda02/lib/python3.10/site-packages/pytorch_lightning/trainer/connectors/data_connector.py:430: PossibleUserWarning: The dataloader, train_dataloader, does not have many workers which may be a bottleneck. Consider increasing the value of the `num_workers` argument` (try 40 which is the number of cpus on this machine) in the `DataLoader` init to improve performance.\n",
      "  rank_zero_warn(\n"
     ]
    },
    {
     "data": {
      "application/vnd.jupyter.widget-view+json": {
       "model_id": "e4580eb2f4734233bf42d06bbe1a2bc1",
       "version_major": 2,
       "version_minor": 0
      },
      "text/plain": [
       "Training: 0it [00:00, ?it/s]"
      ]
     },
     "metadata": {},
     "output_type": "display_data"
    },
    {
     "data": {
      "application/vnd.jupyter.widget-view+json": {
       "model_id": "",
       "version_major": 2,
       "version_minor": 0
      },
      "text/plain": [
       "Validation: 0it [00:00, ?it/s]"
      ]
     },
     "metadata": {},
     "output_type": "display_data"
    },
    {
     "data": {
      "application/vnd.jupyter.widget-view+json": {
       "model_id": "",
       "version_major": 2,
       "version_minor": 0
      },
      "text/plain": [
       "Validation: 0it [00:00, ?it/s]"
      ]
     },
     "metadata": {},
     "output_type": "display_data"
    },
    {
     "data": {
      "application/vnd.jupyter.widget-view+json": {
       "model_id": "",
       "version_major": 2,
       "version_minor": 0
      },
      "text/plain": [
       "Validation: 0it [00:00, ?it/s]"
      ]
     },
     "metadata": {},
     "output_type": "display_data"
    },
    {
     "name": "stderr",
     "output_type": "stream",
     "text": [
      "`Trainer.fit` stopped: `max_epochs=3` reached.\n"
     ]
    },
    {
     "name": "stdout",
     "output_type": "stream",
     "text": [
      "Training complete.\n"
     ]
    }
   ],
   "source": [
    "ICA25_gc, ICA25_gc_model, ICA25_gc_data = utils.train_model(path, ukbb_dir, config_ICA25_gc, 2)"
   ]
  },
  {
   "cell_type": "code",
   "execution_count": 8,
   "id": "2b99e147-da72-4bf5-876a-3fc3be9ec29d",
   "metadata": {},
   "outputs": [
    {
     "name": "stderr",
     "output_type": "stream",
     "text": [
      "You are using a CUDA device ('NVIDIA GeForce RTX 3090') that has Tensor Cores. To properly utilize them, you should set `torch.set_float32_matmul_precision('medium' | 'high')` which will trade-off precision for performance. For more details, read https://pytorch.org/docs/stable/generated/torch.set_float32_matmul_precision.html#torch.set_float32_matmul_precision\n",
      "Restoring states from the checkpoint path at /home/laurar/IM/tracking/FinalModels/TEST/Checkpoint/models-epoch=02-val_loss=982.92.ckpt\n",
      "LOCAL_RANK: 0 - CUDA_VISIBLE_DEVICES: [0,1,2,3]\n"
     ]
    },
    {
     "name": "stdout",
     "output_type": "stream",
     "text": [
      "\n",
      "Testing model \"ICA25_gc\" (data subset)...\n"
     ]
    },
    {
     "name": "stderr",
     "output_type": "stream",
     "text": [
      "Loaded model weights from the checkpoint at /home/laurar/IM/tracking/FinalModels/TEST/Checkpoint/models-epoch=02-val_loss=982.92.ckpt\n",
      "/home/laurar/anaconda3/envs/cuda02/lib/python3.10/site-packages/pytorch_lightning/trainer/connectors/data_connector.py:430: PossibleUserWarning: The dataloader, test_dataloader, does not have many workers which may be a bottleneck. Consider increasing the value of the `num_workers` argument` (try 40 which is the number of cpus on this machine) in the `DataLoader` init to improve performance.\n",
      "  rank_zero_warn(\n"
     ]
    },
    {
     "data": {
      "application/vnd.jupyter.widget-view+json": {
       "model_id": "5aa61d408acf44d9a9888c731301e9d5",
       "version_major": 2,
       "version_minor": 0
      },
      "text/plain": [
       "Testing: 0it [00:00, ?it/s]"
      ]
     },
     "metadata": {},
     "output_type": "display_data"
    },
    {
     "name": "stdout",
     "output_type": "stream",
     "text": [
      "────────────────────────────────────────────────────────────────────────────────────────────────────────────────────────\n",
      "       Test metric             DataLoader 0\n",
      "────────────────────────────────────────────────────────────────────────────────────────────────────────────────────────\n",
      "        test_loss           1008.6583251953125\n",
      "        test_mae            30.845712661743164\n",
      "────────────────────────────────────────────────────────────────────────────────────────────────────────────────────────\n",
      "\n",
      "Visualise training of model \"ICA25_gc\" (data subset)...\n"
     ]
    },
    {
     "data": {
      "text/html": [
       "<div>\n",
       "<style scoped>\n",
       "    .dataframe tbody tr th:only-of-type {\n",
       "        vertical-align: middle;\n",
       "    }\n",
       "\n",
       "    .dataframe tbody tr th {\n",
       "        vertical-align: top;\n",
       "    }\n",
       "\n",
       "    .dataframe thead th {\n",
       "        text-align: right;\n",
       "    }\n",
       "</style>\n",
       "<table border=\"1\" class=\"dataframe\">\n",
       "  <thead>\n",
       "    <tr style=\"text-align: right;\">\n",
       "      <th></th>\n",
       "      <th>step</th>\n",
       "      <th>train_loss</th>\n",
       "      <th>val_loss</th>\n",
       "      <th>val_mae</th>\n",
       "      <th>best_val_loss</th>\n",
       "      <th>test_loss</th>\n",
       "      <th>test_mae</th>\n",
       "    </tr>\n",
       "    <tr>\n",
       "      <th>epoch</th>\n",
       "      <th></th>\n",
       "      <th></th>\n",
       "      <th></th>\n",
       "      <th></th>\n",
       "      <th></th>\n",
       "      <th></th>\n",
       "      <th></th>\n",
       "    </tr>\n",
       "  </thead>\n",
       "  <tbody>\n",
       "    <tr>\n",
       "      <th>0</th>\n",
       "      <td>9</td>\n",
       "      <td>3617.407715</td>\n",
       "      <td>NaN</td>\n",
       "      <td>NaN</td>\n",
       "      <td>NaN</td>\n",
       "      <td>NaN</td>\n",
       "      <td>NaN</td>\n",
       "    </tr>\n",
       "    <tr>\n",
       "      <th>0</th>\n",
       "      <td>19</td>\n",
       "      <td>3242.587891</td>\n",
       "      <td>NaN</td>\n",
       "      <td>NaN</td>\n",
       "      <td>NaN</td>\n",
       "      <td>NaN</td>\n",
       "      <td>NaN</td>\n",
       "    </tr>\n",
       "    <tr>\n",
       "      <th>0</th>\n",
       "      <td>29</td>\n",
       "      <td>2679.204834</td>\n",
       "      <td>NaN</td>\n",
       "      <td>NaN</td>\n",
       "      <td>NaN</td>\n",
       "      <td>NaN</td>\n",
       "      <td>NaN</td>\n",
       "    </tr>\n",
       "    <tr>\n",
       "      <th>0</th>\n",
       "      <td>36</td>\n",
       "      <td>NaN</td>\n",
       "      <td>2863.054199</td>\n",
       "      <td>52.914448</td>\n",
       "      <td>2864.225098</td>\n",
       "      <td>NaN</td>\n",
       "      <td>NaN</td>\n",
       "    </tr>\n",
       "    <tr>\n",
       "      <th>1</th>\n",
       "      <td>39</td>\n",
       "      <td>2551.168457</td>\n",
       "      <td>NaN</td>\n",
       "      <td>NaN</td>\n",
       "      <td>NaN</td>\n",
       "      <td>NaN</td>\n",
       "      <td>NaN</td>\n",
       "    </tr>\n",
       "  </tbody>\n",
       "</table>\n",
       "</div>"
      ],
      "text/plain": [
       "       step   train_loss     val_loss    val_mae  best_val_loss  test_loss  \\\n",
       "epoch                                                                        \n",
       "0         9  3617.407715          NaN        NaN            NaN        NaN   \n",
       "0        19  3242.587891          NaN        NaN            NaN        NaN   \n",
       "0        29  2679.204834          NaN        NaN            NaN        NaN   \n",
       "0        36          NaN  2863.054199  52.914448    2864.225098        NaN   \n",
       "1        39  2551.168457          NaN        NaN            NaN        NaN   \n",
       "\n",
       "       test_mae  \n",
       "epoch            \n",
       "0           NaN  \n",
       "0           NaN  \n",
       "0           NaN  \n",
       "0           NaN  \n",
       "1           NaN  "
      ]
     },
     "metadata": {},
     "output_type": "display_data"
    },
    {
     "data": {
      "image/png": "[encoded data removed]",
      "text/plain": [
       "<Figure size 616.125x500 with 1 Axes>"
      ]
     },
     "metadata": {},
     "output_type": "display_data"
    }
   ],
   "source": [
    "utils.test_model(ICA25_gc, ICA25_gc_data, config_ICA25_gc)"
   ]
  },
  {
   "cell_type": "code",
   "execution_count": 9,
   "id": "2f0244c4-10b9-4316-8c37-fe61d04e13e1",
   "metadata": {},
   "outputs": [
    {
     "name": "stderr",
     "output_type": "stream",
     "text": [
      "You are using a CUDA device ('NVIDIA GeForce RTX 3090') that has Tensor Cores. To properly utilize them, you should set `torch.set_float32_matmul_precision('medium' | 'high')` which will trade-off precision for performance. For more details, read https://pytorch.org/docs/stable/generated/torch.set_float32_matmul_precision.html#torch.set_float32_matmul_precision\n",
      "LOCAL_RANK: 0 - CUDA_VISIBLE_DEVICES: [0,1,2,3]\n",
      "/home/laurar/anaconda3/envs/cuda02/lib/python3.10/site-packages/pytorch_lightning/trainer/connectors/data_connector.py:430: PossibleUserWarning: The dataloader, predict_dataloader, does not have many workers which may be a bottleneck. Consider increasing the value of the `num_workers` argument` (try 40 which is the number of cpus on this machine) in the `DataLoader` init to improve performance.\n",
      "  rank_zero_warn(\n"
     ]
    },
    {
     "data": {
      "application/vnd.jupyter.widget-view+json": {
       "model_id": "40fe222bac8d49dba46b74980110b299",
       "version_major": 2,
       "version_minor": 0
      },
      "text/plain": [
       "Predicting: 0it [00:00, ?it/s]"
      ]
     },
     "metadata": {},
     "output_type": "display_data"
    }
   ],
   "source": [
    "ICA25_gc_preds = utils.predict_w_model(ICA25_gc, ICA25_gc_model, ICA25_gc_data, path)"
   ]
  },
  {
   "cell_type": "code",
   "execution_count": 10,
   "id": "a4ee5d5a-2501-4dc1-945b-58798f1c0081",
   "metadata": {},
   "outputs": [
    {
     "name": "stdout",
     "output_type": "stream",
     "text": [
      "len train ids: 4721\n",
      "len val ids: 590\n",
      "len test ids: 591\n",
      "intersection train/val: set()\n",
      "intersection train/test: set()\n",
      "intersection val/test: set()\n"
     ]
    }
   ],
   "source": [
    "data_overview = utils.load_datainfo(path, 'overview')\n",
    "train_idx = utils.load_datainfo(path, 'train_idx')\n",
    "val_idx = utils.load_datainfo(path, 'val_idx')\n",
    "test_idx = utils.load_datainfo(path, 'test_idx')\n",
    "\n",
    "train_ids = set(train_idx)\n",
    "print('len train ids:',len(train_ids))\n",
    "val_ids = set(val_idx)\n",
    "print('len val ids:',len(val_ids))\n",
    "test_ids = set(test_idx)\n",
    "print('len test ids:',len(test_ids))\n",
    "\n",
    "print('intersection train/val:', train_ids.intersection(val_ids))\n",
    "print('intersection train/test:', train_ids.intersection(test_ids))\n",
    "print('intersection val/test:', val_ids.intersection(test_ids))"
   ]
  },
  {
   "cell_type": "code",
   "execution_count": 11,
   "id": "f38ae11a-b397-494b-92ac-8563c366ad5f",
   "metadata": {},
   "outputs": [
    {
     "data": {
      "text/html": [
       "<div>\n",
       "<style scoped>\n",
       "    .dataframe tbody tr th:only-of-type {\n",
       "        vertical-align: middle;\n",
       "    }\n",
       "\n",
       "    .dataframe tbody tr th {\n",
       "        vertical-align: top;\n",
       "    }\n",
       "\n",
       "    .dataframe thead th {\n",
       "        text-align: right;\n",
       "    }\n",
       "</style>\n",
       "<table border=\"1\" class=\"dataframe\">\n",
       "  <thead>\n",
       "    <tr style=\"text-align: right;\">\n",
       "      <th></th>\n",
       "      <th>eid</th>\n",
       "      <th>age</th>\n",
       "      <th>rfmri_ica25_ts</th>\n",
       "      <th>split</th>\n",
       "      <th>bmi</th>\n",
       "      <th>digit substitution</th>\n",
       "      <th>education</th>\n",
       "      <th>fluid intelligence</th>\n",
       "      <th>grip</th>\n",
       "      <th>depressive episode</th>\n",
       "      <th>all depression</th>\n",
       "      <th>recurrent depressive disorder</th>\n",
       "      <th>multiple sclerosis</th>\n",
       "      <th>sex</th>\n",
       "      <th>weekly beer</th>\n",
       "      <th>genetic pc 1</th>\n",
       "      <th>genetic pc 2</th>\n",
       "      <th>genetic pc 3</th>\n",
       "      <th>batch_nb</th>\n",
       "      <th>predicted_age</th>\n",
       "    </tr>\n",
       "  </thead>\n",
       "  <tbody>\n",
       "    <tr>\n",
       "      <th>0</th>\n",
       "      <td>1000014</td>\n",
       "      <td>61</td>\n",
       "      <td>/ritter/share/data/UKBB/ukb_data/bids/sub-1000...</td>\n",
       "      <td>train</td>\n",
       "      <td>23.4720</td>\n",
       "      <td>16.0</td>\n",
       "      <td>10.0</td>\n",
       "      <td>8.0</td>\n",
       "      <td>18.0</td>\n",
       "      <td>NaN</td>\n",
       "      <td>NaN</td>\n",
       "      <td>NaN</td>\n",
       "      <td>NaN</td>\n",
       "      <td>0</td>\n",
       "      <td>0.0</td>\n",
       "      <td>-9.69796</td>\n",
       "      <td>4.38910</td>\n",
       "      <td>-1.121000</td>\n",
       "      <td>NaN</td>\n",
       "      <td>NaN</td>\n",
       "    </tr>\n",
       "    <tr>\n",
       "      <th>1</th>\n",
       "      <td>1000023</td>\n",
       "      <td>66</td>\n",
       "      <td>/ritter/share/data/UKBB/ukb_data/bids/sub-1000...</td>\n",
       "      <td>train</td>\n",
       "      <td>30.7894</td>\n",
       "      <td>NaN</td>\n",
       "      <td>7.0</td>\n",
       "      <td>4.0</td>\n",
       "      <td>16.0</td>\n",
       "      <td>NaN</td>\n",
       "      <td>NaN</td>\n",
       "      <td>NaN</td>\n",
       "      <td>0.0</td>\n",
       "      <td>1</td>\n",
       "      <td>3.0</td>\n",
       "      <td>-13.23580</td>\n",
       "      <td>3.27728</td>\n",
       "      <td>-2.250050</td>\n",
       "      <td>NaN</td>\n",
       "      <td>NaN</td>\n",
       "    </tr>\n",
       "    <tr>\n",
       "      <th>2</th>\n",
       "      <td>1000030</td>\n",
       "      <td>65</td>\n",
       "      <td>/ritter/share/data/UKBB/ukb_data/bids/sub-1000...</td>\n",
       "      <td>train</td>\n",
       "      <td>21.2569</td>\n",
       "      <td>NaN</td>\n",
       "      <td>20.0</td>\n",
       "      <td>8.0</td>\n",
       "      <td>18.0</td>\n",
       "      <td>1.0</td>\n",
       "      <td>1.0</td>\n",
       "      <td>1.0</td>\n",
       "      <td>0.0</td>\n",
       "      <td>0</td>\n",
       "      <td>NaN</td>\n",
       "      <td>-10.69070</td>\n",
       "      <td>4.10909</td>\n",
       "      <td>-0.344172</td>\n",
       "      <td>NaN</td>\n",
       "      <td>NaN</td>\n",
       "    </tr>\n",
       "    <tr>\n",
       "      <th>3</th>\n",
       "      <td>1000041</td>\n",
       "      <td>61</td>\n",
       "      <td>/ritter/share/data/UKBB/ukb_data/bids/sub-1000...</td>\n",
       "      <td>train</td>\n",
       "      <td>22.7013</td>\n",
       "      <td>23.0</td>\n",
       "      <td>15.0</td>\n",
       "      <td>3.0</td>\n",
       "      <td>38.0</td>\n",
       "      <td>0.0</td>\n",
       "      <td>0.0</td>\n",
       "      <td>0.0</td>\n",
       "      <td>0.0</td>\n",
       "      <td>1</td>\n",
       "      <td>16.0</td>\n",
       "      <td>-13.54560</td>\n",
       "      <td>4.86490</td>\n",
       "      <td>-0.990955</td>\n",
       "      <td>NaN</td>\n",
       "      <td>NaN</td>\n",
       "    </tr>\n",
       "    <tr>\n",
       "      <th>4</th>\n",
       "      <td>1000059</td>\n",
       "      <td>68</td>\n",
       "      <td>/ritter/share/data/UKBB/ukb_data/bids/sub-1000...</td>\n",
       "      <td>train</td>\n",
       "      <td>NaN</td>\n",
       "      <td>22.0</td>\n",
       "      <td>20.0</td>\n",
       "      <td>7.0</td>\n",
       "      <td>NaN</td>\n",
       "      <td>0.0</td>\n",
       "      <td>0.0</td>\n",
       "      <td>0.0</td>\n",
       "      <td>NaN</td>\n",
       "      <td>0</td>\n",
       "      <td>NaN</td>\n",
       "      <td>-11.27560</td>\n",
       "      <td>4.80936</td>\n",
       "      <td>-1.093500</td>\n",
       "      <td>NaN</td>\n",
       "      <td>NaN</td>\n",
       "    </tr>\n",
       "    <tr>\n",
       "      <th>...</th>\n",
       "      <td>...</td>\n",
       "      <td>...</td>\n",
       "      <td>...</td>\n",
       "      <td>...</td>\n",
       "      <td>...</td>\n",
       "      <td>...</td>\n",
       "      <td>...</td>\n",
       "      <td>...</td>\n",
       "      <td>...</td>\n",
       "      <td>...</td>\n",
       "      <td>...</td>\n",
       "      <td>...</td>\n",
       "      <td>...</td>\n",
       "      <td>...</td>\n",
       "      <td>...</td>\n",
       "      <td>...</td>\n",
       "      <td>...</td>\n",
       "      <td>...</td>\n",
       "      <td>...</td>\n",
       "      <td>...</td>\n",
       "    </tr>\n",
       "    <tr>\n",
       "      <th>5897</th>\n",
       "      <td>1449303</td>\n",
       "      <td>60</td>\n",
       "      <td>/ritter/share/data/UKBB/ukb_data/bids/sub-1449...</td>\n",
       "      <td>test</td>\n",
       "      <td>30.7923</td>\n",
       "      <td>17.0</td>\n",
       "      <td>13.0</td>\n",
       "      <td>7.0</td>\n",
       "      <td>27.0</td>\n",
       "      <td>0.0</td>\n",
       "      <td>0.0</td>\n",
       "      <td>0.0</td>\n",
       "      <td>1.0</td>\n",
       "      <td>0</td>\n",
       "      <td>0.0</td>\n",
       "      <td>-12.29960</td>\n",
       "      <td>3.90043</td>\n",
       "      <td>-0.868765</td>\n",
       "      <td>2.0</td>\n",
       "      <td>34.952896</td>\n",
       "    </tr>\n",
       "    <tr>\n",
       "      <th>5898</th>\n",
       "      <td>1449311</td>\n",
       "      <td>69</td>\n",
       "      <td>/ritter/share/data/UKBB/ukb_data/bids/sub-1449...</td>\n",
       "      <td>test</td>\n",
       "      <td>27.6795</td>\n",
       "      <td>25.0</td>\n",
       "      <td>20.0</td>\n",
       "      <td>6.0</td>\n",
       "      <td>28.0</td>\n",
       "      <td>0.0</td>\n",
       "      <td>0.0</td>\n",
       "      <td>0.0</td>\n",
       "      <td>0.0</td>\n",
       "      <td>0</td>\n",
       "      <td>0.0</td>\n",
       "      <td>-15.04290</td>\n",
       "      <td>3.40042</td>\n",
       "      <td>-1.784880</td>\n",
       "      <td>0.0</td>\n",
       "      <td>35.542877</td>\n",
       "    </tr>\n",
       "    <tr>\n",
       "      <th>5899</th>\n",
       "      <td>1449335</td>\n",
       "      <td>61</td>\n",
       "      <td>/ritter/share/data/UKBB/ukb_data/bids/sub-1449...</td>\n",
       "      <td>test</td>\n",
       "      <td>28.5582</td>\n",
       "      <td>20.0</td>\n",
       "      <td>19.0</td>\n",
       "      <td>8.0</td>\n",
       "      <td>46.0</td>\n",
       "      <td>0.0</td>\n",
       "      <td>0.0</td>\n",
       "      <td>0.0</td>\n",
       "      <td>0.0</td>\n",
       "      <td>1</td>\n",
       "      <td>2.0</td>\n",
       "      <td>-10.48620</td>\n",
       "      <td>1.69986</td>\n",
       "      <td>-2.722550</td>\n",
       "      <td>7.0</td>\n",
       "      <td>34.476559</td>\n",
       "    </tr>\n",
       "    <tr>\n",
       "      <th>5900</th>\n",
       "      <td>1449344</td>\n",
       "      <td>62</td>\n",
       "      <td>/ritter/share/data/UKBB/ukb_data/bids/sub-1449...</td>\n",
       "      <td>test</td>\n",
       "      <td>19.8645</td>\n",
       "      <td>22.0</td>\n",
       "      <td>20.0</td>\n",
       "      <td>6.0</td>\n",
       "      <td>30.0</td>\n",
       "      <td>0.0</td>\n",
       "      <td>0.0</td>\n",
       "      <td>0.0</td>\n",
       "      <td>0.0</td>\n",
       "      <td>0</td>\n",
       "      <td>NaN</td>\n",
       "      <td>-14.75190</td>\n",
       "      <td>4.25077</td>\n",
       "      <td>-3.152400</td>\n",
       "      <td>8.0</td>\n",
       "      <td>35.167244</td>\n",
       "    </tr>\n",
       "    <tr>\n",
       "      <th>5901</th>\n",
       "      <td>1449356</td>\n",
       "      <td>52</td>\n",
       "      <td>/ritter/share/data/UKBB/ukb_data/bids/sub-1449...</td>\n",
       "      <td>test</td>\n",
       "      <td>33.1680</td>\n",
       "      <td>15.0</td>\n",
       "      <td>10.0</td>\n",
       "      <td>3.0</td>\n",
       "      <td>30.0</td>\n",
       "      <td>0.0</td>\n",
       "      <td>0.0</td>\n",
       "      <td>0.0</td>\n",
       "      <td>0.0</td>\n",
       "      <td>0</td>\n",
       "      <td>0.0</td>\n",
       "      <td>-13.38490</td>\n",
       "      <td>4.56366</td>\n",
       "      <td>0.462483</td>\n",
       "      <td>5.0</td>\n",
       "      <td>34.963108</td>\n",
       "    </tr>\n",
       "  </tbody>\n",
       "</table>\n",
       "<p>5902 rows × 20 columns</p>\n",
       "</div>"
      ],
      "text/plain": [
       "          eid  age                                     rfmri_ica25_ts  split  \\\n",
       "0     1000014   61  /ritter/share/data/UKBB/ukb_data/bids/sub-1000...  train   \n",
       "1     1000023   66  /ritter/share/data/UKBB/ukb_data/bids/sub-1000...  train   \n",
       "2     1000030   65  /ritter/share/data/UKBB/ukb_data/bids/sub-1000...  train   \n",
       "3     1000041   61  /ritter/share/data/UKBB/ukb_data/bids/sub-1000...  train   \n",
       "4     1000059   68  /ritter/share/data/UKBB/ukb_data/bids/sub-1000...  train   \n",
       "...       ...  ...                                                ...    ...   \n",
       "5897  1449303   60  /ritter/share/data/UKBB/ukb_data/bids/sub-1449...   test   \n",
       "5898  1449311   69  /ritter/share/data/UKBB/ukb_data/bids/sub-1449...   test   \n",
       "5899  1449335   61  /ritter/share/data/UKBB/ukb_data/bids/sub-1449...   test   \n",
       "5900  1449344   62  /ritter/share/data/UKBB/ukb_data/bids/sub-1449...   test   \n",
       "5901  1449356   52  /ritter/share/data/UKBB/ukb_data/bids/sub-1449...   test   \n",
       "\n",
       "          bmi  digit substitution  education  fluid intelligence  grip  \\\n",
       "0     23.4720                16.0       10.0                 8.0  18.0   \n",
       "1     30.7894                 NaN        7.0                 4.0  16.0   \n",
       "2     21.2569                 NaN       20.0                 8.0  18.0   \n",
       "3     22.7013                23.0       15.0                 3.0  38.0   \n",
       "4         NaN                22.0       20.0                 7.0   NaN   \n",
       "...       ...                 ...        ...                 ...   ...   \n",
       "5897  30.7923                17.0       13.0                 7.0  27.0   \n",
       "5898  27.6795                25.0       20.0                 6.0  28.0   \n",
       "5899  28.5582                20.0       19.0                 8.0  46.0   \n",
       "5900  19.8645                22.0       20.0                 6.0  30.0   \n",
       "5901  33.1680                15.0       10.0                 3.0  30.0   \n",
       "\n",
       "      depressive episode  all depression  recurrent depressive disorder  \\\n",
       "0                    NaN             NaN                            NaN   \n",
       "1                    NaN             NaN                            NaN   \n",
       "2                    1.0             1.0                            1.0   \n",
       "3                    0.0             0.0                            0.0   \n",
       "4                    0.0             0.0                            0.0   \n",
       "...                  ...             ...                            ...   \n",
       "5897                 0.0             0.0                            0.0   \n",
       "5898                 0.0             0.0                            0.0   \n",
       "5899                 0.0             0.0                            0.0   \n",
       "5900                 0.0             0.0                            0.0   \n",
       "5901                 0.0             0.0                            0.0   \n",
       "\n",
       "      multiple sclerosis  sex  weekly beer  genetic pc 1  genetic pc 2  \\\n",
       "0                    NaN    0          0.0      -9.69796       4.38910   \n",
       "1                    0.0    1          3.0     -13.23580       3.27728   \n",
       "2                    0.0    0          NaN     -10.69070       4.10909   \n",
       "3                    0.0    1         16.0     -13.54560       4.86490   \n",
       "4                    NaN    0          NaN     -11.27560       4.80936   \n",
       "...                  ...  ...          ...           ...           ...   \n",
       "5897                 1.0    0          0.0     -12.29960       3.90043   \n",
       "5898                 0.0    0          0.0     -15.04290       3.40042   \n",
       "5899                 0.0    1          2.0     -10.48620       1.69986   \n",
       "5900                 0.0    0          NaN     -14.75190       4.25077   \n",
       "5901                 0.0    0          0.0     -13.38490       4.56366   \n",
       "\n",
       "      genetic pc 3  batch_nb  predicted_age  \n",
       "0        -1.121000       NaN            NaN  \n",
       "1        -2.250050       NaN            NaN  \n",
       "2        -0.344172       NaN            NaN  \n",
       "3        -0.990955       NaN            NaN  \n",
       "4        -1.093500       NaN            NaN  \n",
       "...            ...       ...            ...  \n",
       "5897     -0.868765       2.0      34.952896  \n",
       "5898     -1.784880       0.0      35.542877  \n",
       "5899     -2.722550       7.0      34.476559  \n",
       "5900     -3.152400       8.0      35.167244  \n",
       "5901      0.462483       5.0      34.963108  \n",
       "\n",
       "[5902 rows x 20 columns]"
      ]
     },
     "execution_count": 11,
     "metadata": {},
     "output_type": "execute_result"
    }
   ],
   "source": [
    "data_overview = utils.get_metadata(path, ukbb_dir, index=False)\n",
    "# load predictions\n",
    "ICA25_gc_preds = pd.read_csv(path+'data_info/predictions.csv')\n",
    "# add predictions to overview\n",
    "data_overview = data_overview.merge(ICA25_gc_preds, how='left', on='eid')\n",
    "#data_overview = utils.calculate_bag(data_overview)\n",
    "data_overview"
   ]
  },
  {
   "cell_type": "code",
   "execution_count": 12,
   "id": "89d437fe-0538-4960-8332-a0a02c0f9c37",
   "metadata": {},
   "outputs": [
    {
     "name": "stdout",
     "output_type": "stream",
     "text": [
      "1181\n",
      "1181\n"
     ]
    },
    {
     "data": {
      "text/plain": [
       "1181"
      ]
     },
     "execution_count": 12,
     "metadata": {},
     "output_type": "execute_result"
    }
   ],
   "source": [
    "valtest_overview = data_overview[data_overview['split'] != 'train']\n",
    "valtest_id = set(valtest_overview['eid'])\n",
    "preds_id_25 = set(ICA25_gc_preds['eid'])\n",
    "print(len(valtest_id))\n",
    "print(len(preds_id_25))\n",
    "len(valtest_id.intersection(preds_id_25))"
   ]
  },
  {
   "cell_type": "markdown",
   "id": "a0a21323-a451-45d4-a4b0-197e28cd3d23",
   "metadata": {},
   "source": [
    "## numpy.random.shuffle with explicit list"
   ]
  },
  {
   "cell_type": "code",
   "execution_count": 6,
   "id": "85600858-bf00-47b3-9d7d-2aa99a6df661",
   "metadata": {},
   "outputs": [],
   "source": [
    "path_test2 = '../../tracking/FinalModels/TEST2/'"
   ]
  },
  {
   "cell_type": "code",
   "execution_count": 7,
   "id": "2dd62147-ef1a-4307-9d2c-3d2df97d409f",
   "metadata": {},
   "outputs": [
    {
     "name": "stderr",
     "output_type": "stream",
     "text": [
      "/home/laurar/anaconda3/envs/cuda02/lib/python3.10/site-packages/pytorch_lightning/utilities/parsing.py:197: UserWarning: Attribute 'activation' is an instance of `nn.Module` and is already saved during checkpointing. It is recommended to ignore them using `self.save_hyperparameters(ignore=['activation'])`.\n",
      "  rank_zero_warn(\n",
      "/home/laurar/anaconda3/envs/cuda02/lib/python3.10/site-packages/pytorch_lightning/utilities/parsing.py:197: UserWarning: Attribute 'loss' is an instance of `nn.Module` and is already saved during checkpointing. It is recommended to ignore them using `self.save_hyperparameters(ignore=['loss'])`.\n",
      "  rank_zero_warn(\n",
      "GPU available: True (cuda), used: True\n",
      "TPU available: False, using: 0 TPU cores\n",
      "IPU available: False, using: 0 IPUs\n",
      "HPU available: False, using: 0 HPUs\n",
      "You are using a CUDA device ('NVIDIA GeForce RTX 3090') that has Tensor Cores. To properly utilize them, you should set `torch.set_float32_matmul_precision('medium' | 'high')` which will trade-off precision for performance. For more details, read https://pytorch.org/docs/stable/generated/torch.set_float32_matmul_precision.html#torch.set_float32_matmul_precision\n",
      "LOCAL_RANK: 0 - CUDA_VISIBLE_DEVICES: [0,1,2,3]\n",
      "\n",
      "  | Name    | Type       | Params\n",
      "---------------------------------------\n",
      "0 | act     | ReLU       | 0     \n",
      "1 | loss    | MSELoss    | 0     \n",
      "2 | maxpool | MaxPool1d  | 0     \n",
      "3 | encoder | Sequential | 57.8 K\n",
      "4 | decoder | Sequential | 15.2 K\n",
      "---------------------------------------\n",
      "73.0 K    Trainable params\n",
      "0         Non-trainable params\n",
      "73.0 K    Total params\n",
      "0.292     Total estimated model params size (MB)\n"
     ]
    },
    {
     "data": {
      "application/vnd.jupyter.widget-view+json": {
       "model_id": "",
       "version_major": 2,
       "version_minor": 0
      },
      "text/plain": [
       "Sanity Checking: 0it [00:00, ?it/s]"
      ]
     },
     "metadata": {},
     "output_type": "display_data"
    },
    {
     "name": "stderr",
     "output_type": "stream",
     "text": [
      "/home/laurar/anaconda3/envs/cuda02/lib/python3.10/site-packages/pytorch_lightning/trainer/connectors/data_connector.py:430: PossibleUserWarning: The dataloader, val_dataloader, does not have many workers which may be a bottleneck. Consider increasing the value of the `num_workers` argument` (try 40 which is the number of cpus on this machine) in the `DataLoader` init to improve performance.\n",
      "  rank_zero_warn(\n",
      "/home/laurar/anaconda3/envs/cuda02/lib/python3.10/site-packages/pytorch_lightning/trainer/connectors/data_connector.py:430: PossibleUserWarning: The dataloader, train_dataloader, does not have many workers which may be a bottleneck. Consider increasing the value of the `num_workers` argument` (try 40 which is the number of cpus on this machine) in the `DataLoader` init to improve performance.\n",
      "  rank_zero_warn(\n"
     ]
    },
    {
     "data": {
      "application/vnd.jupyter.widget-view+json": {
       "model_id": "b758dcdadc624f17ac1e67abb2c50cb6",
       "version_major": 2,
       "version_minor": 0
      },
      "text/plain": [
       "Training: 0it [00:00, ?it/s]"
      ]
     },
     "metadata": {},
     "output_type": "display_data"
    },
    {
     "data": {
      "application/vnd.jupyter.widget-view+json": {
       "model_id": "",
       "version_major": 2,
       "version_minor": 0
      },
      "text/plain": [
       "Validation: 0it [00:00, ?it/s]"
      ]
     },
     "metadata": {},
     "output_type": "display_data"
    },
    {
     "data": {
      "application/vnd.jupyter.widget-view+json": {
       "model_id": "",
       "version_major": 2,
       "version_minor": 0
      },
      "text/plain": [
       "Validation: 0it [00:00, ?it/s]"
      ]
     },
     "metadata": {},
     "output_type": "display_data"
    },
    {
     "data": {
      "application/vnd.jupyter.widget-view+json": {
       "model_id": "",
       "version_major": 2,
       "version_minor": 0
      },
      "text/plain": [
       "Validation: 0it [00:00, ?it/s]"
      ]
     },
     "metadata": {},
     "output_type": "display_data"
    },
    {
     "name": "stderr",
     "output_type": "stream",
     "text": [
      "`Trainer.fit` stopped: `max_epochs=3` reached.\n"
     ]
    },
    {
     "name": "stdout",
     "output_type": "stream",
     "text": [
      "Training complete.\n"
     ]
    }
   ],
   "source": [
    "ICA25_gc_test2, ICA25_gc_model_test2, ICA25_gc_data_test2 = utils.train_model(path_test2, ukbb_dir, config_ICA25_gc, 2)"
   ]
  },
  {
   "cell_type": "code",
   "execution_count": 8,
   "id": "99aac543-9398-4606-9430-8915719913ef",
   "metadata": {},
   "outputs": [
    {
     "name": "stderr",
     "output_type": "stream",
     "text": [
      "You are using a CUDA device ('NVIDIA GeForce RTX 3090') that has Tensor Cores. To properly utilize them, you should set `torch.set_float32_matmul_precision('medium' | 'high')` which will trade-off precision for performance. For more details, read https://pytorch.org/docs/stable/generated/torch.set_float32_matmul_precision.html#torch.set_float32_matmul_precision\n",
      "Restoring states from the checkpoint path at /home/laurar/IM/tracking/FinalModels/TEST2/Checkpoint/models-epoch=02-val_loss=910.53.ckpt\n",
      "LOCAL_RANK: 0 - CUDA_VISIBLE_DEVICES: [0,1,2,3]\n"
     ]
    },
    {
     "name": "stdout",
     "output_type": "stream",
     "text": [
      "\n",
      "Testing model \"ICA25_gc\" (data subset)...\n"
     ]
    },
    {
     "name": "stderr",
     "output_type": "stream",
     "text": [
      "Loaded model weights from the checkpoint at /home/laurar/IM/tracking/FinalModels/TEST2/Checkpoint/models-epoch=02-val_loss=910.53.ckpt\n",
      "/home/laurar/anaconda3/envs/cuda02/lib/python3.10/site-packages/pytorch_lightning/trainer/connectors/data_connector.py:430: PossibleUserWarning: The dataloader, test_dataloader, does not have many workers which may be a bottleneck. Consider increasing the value of the `num_workers` argument` (try 40 which is the number of cpus on this machine) in the `DataLoader` init to improve performance.\n",
      "  rank_zero_warn(\n"
     ]
    },
    {
     "data": {
      "application/vnd.jupyter.widget-view+json": {
       "model_id": "06fcca82bcdb43928bf957ecbc469eee",
       "version_major": 2,
       "version_minor": 0
      },
      "text/plain": [
       "Testing: 0it [00:00, ?it/s]"
      ]
     },
     "metadata": {},
     "output_type": "display_data"
    },
    {
     "name": "stdout",
     "output_type": "stream",
     "text": [
      "────────────────────────────────────────────────────────────────────────────────────────────────────────────────────────\n",
      "       Test metric             DataLoader 0\n",
      "────────────────────────────────────────────────────────────────────────────────────────────────────────────────────────\n",
      "        test_loss            903.8137817382812\n",
      "        test_mae             29.05072784423828\n",
      "────────────────────────────────────────────────────────────────────────────────────────────────────────────────────────\n",
      "\n",
      "Visualise training of model \"ICA25_gc\" (data subset)...\n"
     ]
    },
    {
     "data": {
      "text/html": [
       "<div>\n",
       "<style scoped>\n",
       "    .dataframe tbody tr th:only-of-type {\n",
       "        vertical-align: middle;\n",
       "    }\n",
       "\n",
       "    .dataframe tbody tr th {\n",
       "        vertical-align: top;\n",
       "    }\n",
       "\n",
       "    .dataframe thead th {\n",
       "        text-align: right;\n",
       "    }\n",
       "</style>\n",
       "<table border=\"1\" class=\"dataframe\">\n",
       "  <thead>\n",
       "    <tr style=\"text-align: right;\">\n",
       "      <th></th>\n",
       "      <th>step</th>\n",
       "      <th>train_loss</th>\n",
       "      <th>val_loss</th>\n",
       "      <th>val_mae</th>\n",
       "      <th>best_val_loss</th>\n",
       "      <th>test_loss</th>\n",
       "      <th>test_mae</th>\n",
       "    </tr>\n",
       "    <tr>\n",
       "      <th>epoch</th>\n",
       "      <th></th>\n",
       "      <th></th>\n",
       "      <th></th>\n",
       "      <th></th>\n",
       "      <th></th>\n",
       "      <th></th>\n",
       "      <th></th>\n",
       "    </tr>\n",
       "  </thead>\n",
       "  <tbody>\n",
       "    <tr>\n",
       "      <th>0</th>\n",
       "      <td>9</td>\n",
       "      <td>3540.361328</td>\n",
       "      <td>NaN</td>\n",
       "      <td>NaN</td>\n",
       "      <td>NaN</td>\n",
       "      <td>NaN</td>\n",
       "      <td>NaN</td>\n",
       "    </tr>\n",
       "    <tr>\n",
       "      <th>0</th>\n",
       "      <td>19</td>\n",
       "      <td>3173.584229</td>\n",
       "      <td>NaN</td>\n",
       "      <td>NaN</td>\n",
       "      <td>NaN</td>\n",
       "      <td>NaN</td>\n",
       "      <td>NaN</td>\n",
       "    </tr>\n",
       "    <tr>\n",
       "      <th>0</th>\n",
       "      <td>29</td>\n",
       "      <td>2947.821289</td>\n",
       "      <td>NaN</td>\n",
       "      <td>NaN</td>\n",
       "      <td>NaN</td>\n",
       "      <td>NaN</td>\n",
       "      <td>NaN</td>\n",
       "    </tr>\n",
       "    <tr>\n",
       "      <th>0</th>\n",
       "      <td>36</td>\n",
       "      <td>NaN</td>\n",
       "      <td>2741.716064</td>\n",
       "      <td>51.821869</td>\n",
       "      <td>2758.525146</td>\n",
       "      <td>NaN</td>\n",
       "      <td>NaN</td>\n",
       "    </tr>\n",
       "    <tr>\n",
       "      <th>1</th>\n",
       "      <td>39</td>\n",
       "      <td>2581.714844</td>\n",
       "      <td>NaN</td>\n",
       "      <td>NaN</td>\n",
       "      <td>NaN</td>\n",
       "      <td>NaN</td>\n",
       "      <td>NaN</td>\n",
       "    </tr>\n",
       "  </tbody>\n",
       "</table>\n",
       "</div>"
      ],
      "text/plain": [
       "       step   train_loss     val_loss    val_mae  best_val_loss  test_loss  \\\n",
       "epoch                                                                        \n",
       "0         9  3540.361328          NaN        NaN            NaN        NaN   \n",
       "0        19  3173.584229          NaN        NaN            NaN        NaN   \n",
       "0        29  2947.821289          NaN        NaN            NaN        NaN   \n",
       "0        36          NaN  2741.716064  51.821869    2758.525146        NaN   \n",
       "1        39  2581.714844          NaN        NaN            NaN        NaN   \n",
       "\n",
       "       test_mae  \n",
       "epoch            \n",
       "0           NaN  \n",
       "0           NaN  \n",
       "0           NaN  \n",
       "0           NaN  \n",
       "1           NaN  "
      ]
     },
     "metadata": {},
     "output_type": "display_data"
    },
    {
     "data": {
      "image/png": "[encoded data removed]",
      "text/plain": [
       "<Figure size 616.125x500 with 1 Axes>"
      ]
     },
     "metadata": {},
     "output_type": "display_data"
    }
   ],
   "source": [
    "utils.test_model(ICA25_gc_test2, ICA25_gc_data_test2, config_ICA25_gc)"
   ]
  },
  {
   "cell_type": "code",
   "execution_count": 9,
   "id": "302a8b05-a035-4888-8ece-4cc1f01c1b97",
   "metadata": {},
   "outputs": [
    {
     "name": "stderr",
     "output_type": "stream",
     "text": [
      "You are using a CUDA device ('NVIDIA GeForce RTX 3090') that has Tensor Cores. To properly utilize them, you should set `torch.set_float32_matmul_precision('medium' | 'high')` which will trade-off precision for performance. For more details, read https://pytorch.org/docs/stable/generated/torch.set_float32_matmul_precision.html#torch.set_float32_matmul_precision\n",
      "LOCAL_RANK: 0 - CUDA_VISIBLE_DEVICES: [0,1,2,3]\n",
      "/home/laurar/anaconda3/envs/cuda02/lib/python3.10/site-packages/pytorch_lightning/trainer/connectors/data_connector.py:430: PossibleUserWarning: The dataloader, predict_dataloader, does not have many workers which may be a bottleneck. Consider increasing the value of the `num_workers` argument` (try 40 which is the number of cpus on this machine) in the `DataLoader` init to improve performance.\n",
      "  rank_zero_warn(\n"
     ]
    },
    {
     "data": {
      "application/vnd.jupyter.widget-view+json": {
       "model_id": "09aa60bb09ae4d82b3653e8a3fa6ae7a",
       "version_major": 2,
       "version_minor": 0
      },
      "text/plain": [
       "Predicting: 0it [00:00, ?it/s]"
      ]
     },
     "metadata": {},
     "output_type": "display_data"
    }
   ],
   "source": [
    "ICA25_gc_preds_test2 = utils.predict_w_model(ICA25_gc_test2, ICA25_gc_model_test2, ICA25_gc_data_test2, path_test2)"
   ]
  },
  {
   "cell_type": "code",
   "execution_count": 10,
   "id": "77d8ef51-4e60-4f75-a17c-1693a1a7c0ae",
   "metadata": {},
   "outputs": [
    {
     "name": "stdout",
     "output_type": "stream",
     "text": [
      "len train ids: 4721\n",
      "len val ids: 590\n",
      "len test ids: 591\n",
      "intersection train/val: set()\n",
      "intersection train/test: set()\n",
      "intersection val/test: set()\n"
     ]
    }
   ],
   "source": [
    "data_overview_test2 = utils.load_datainfo(path_test2, 'overview')\n",
    "train_idx_test2 = utils.load_datainfo(path_test2, 'train_idx')\n",
    "val_idx_test2 = utils.load_datainfo(path_test2, 'val_idx')\n",
    "test_idx_test2 = utils.load_datainfo(path_test2, 'test_idx')\n",
    "\n",
    "train_ids_test2 = set(train_idx_test2)\n",
    "print('len train ids:',len(train_ids_test2))\n",
    "val_ids_test2 = set(val_idx_test2)\n",
    "print('len val ids:',len(val_ids_test2))\n",
    "test_ids_test2 = set(test_idx_test2)\n",
    "print('len test ids:',len(test_ids_test2))\n",
    "\n",
    "print('intersection train/val:', train_ids_test2.intersection(val_ids_test2))\n",
    "print('intersection train/test:', train_ids_test2.intersection(test_ids_test2))\n",
    "print('intersection val/test:', val_ids_test2.intersection(test_ids_test2))"
   ]
  },
  {
   "cell_type": "code",
   "execution_count": 11,
   "id": "72eb497e-7617-4c35-bbf9-a3766de80d44",
   "metadata": {},
   "outputs": [
    {
     "data": {
      "text/html": [
       "<div>\n",
       "<style scoped>\n",
       "    .dataframe tbody tr th:only-of-type {\n",
       "        vertical-align: middle;\n",
       "    }\n",
       "\n",
       "    .dataframe tbody tr th {\n",
       "        vertical-align: top;\n",
       "    }\n",
       "\n",
       "    .dataframe thead th {\n",
       "        text-align: right;\n",
       "    }\n",
       "</style>\n",
       "<table border=\"1\" class=\"dataframe\">\n",
       "  <thead>\n",
       "    <tr style=\"text-align: right;\">\n",
       "      <th></th>\n",
       "      <th>eid</th>\n",
       "      <th>age</th>\n",
       "      <th>rfmri_ica25_ts</th>\n",
       "      <th>split</th>\n",
       "      <th>bmi</th>\n",
       "      <th>digit substitution</th>\n",
       "      <th>education</th>\n",
       "      <th>fluid intelligence</th>\n",
       "      <th>grip</th>\n",
       "      <th>depressive episode</th>\n",
       "      <th>all depression</th>\n",
       "      <th>recurrent depressive disorder</th>\n",
       "      <th>multiple sclerosis</th>\n",
       "      <th>sex</th>\n",
       "      <th>weekly beer</th>\n",
       "      <th>genetic pc 1</th>\n",
       "      <th>genetic pc 2</th>\n",
       "      <th>genetic pc 3</th>\n",
       "      <th>batch_nb</th>\n",
       "      <th>predicted_age</th>\n",
       "    </tr>\n",
       "  </thead>\n",
       "  <tbody>\n",
       "    <tr>\n",
       "      <th>0</th>\n",
       "      <td>1000014</td>\n",
       "      <td>61</td>\n",
       "      <td>/ritter/share/data/UKBB/ukb_data/bids/sub-1000...</td>\n",
       "      <td>train</td>\n",
       "      <td>23.4720</td>\n",
       "      <td>16.0</td>\n",
       "      <td>10.0</td>\n",
       "      <td>8.0</td>\n",
       "      <td>18.0</td>\n",
       "      <td>NaN</td>\n",
       "      <td>NaN</td>\n",
       "      <td>NaN</td>\n",
       "      <td>NaN</td>\n",
       "      <td>0</td>\n",
       "      <td>0.0</td>\n",
       "      <td>-9.69796</td>\n",
       "      <td>4.38910</td>\n",
       "      <td>-1.121000</td>\n",
       "      <td>NaN</td>\n",
       "      <td>NaN</td>\n",
       "    </tr>\n",
       "    <tr>\n",
       "      <th>1</th>\n",
       "      <td>1000023</td>\n",
       "      <td>66</td>\n",
       "      <td>/ritter/share/data/UKBB/ukb_data/bids/sub-1000...</td>\n",
       "      <td>train</td>\n",
       "      <td>30.7894</td>\n",
       "      <td>NaN</td>\n",
       "      <td>7.0</td>\n",
       "      <td>4.0</td>\n",
       "      <td>16.0</td>\n",
       "      <td>NaN</td>\n",
       "      <td>NaN</td>\n",
       "      <td>NaN</td>\n",
       "      <td>0.0</td>\n",
       "      <td>1</td>\n",
       "      <td>3.0</td>\n",
       "      <td>-13.23580</td>\n",
       "      <td>3.27728</td>\n",
       "      <td>-2.250050</td>\n",
       "      <td>NaN</td>\n",
       "      <td>NaN</td>\n",
       "    </tr>\n",
       "    <tr>\n",
       "      <th>2</th>\n",
       "      <td>1000030</td>\n",
       "      <td>65</td>\n",
       "      <td>/ritter/share/data/UKBB/ukb_data/bids/sub-1000...</td>\n",
       "      <td>train</td>\n",
       "      <td>21.2569</td>\n",
       "      <td>NaN</td>\n",
       "      <td>20.0</td>\n",
       "      <td>8.0</td>\n",
       "      <td>18.0</td>\n",
       "      <td>1.0</td>\n",
       "      <td>1.0</td>\n",
       "      <td>1.0</td>\n",
       "      <td>0.0</td>\n",
       "      <td>0</td>\n",
       "      <td>NaN</td>\n",
       "      <td>-10.69070</td>\n",
       "      <td>4.10909</td>\n",
       "      <td>-0.344172</td>\n",
       "      <td>NaN</td>\n",
       "      <td>NaN</td>\n",
       "    </tr>\n",
       "    <tr>\n",
       "      <th>3</th>\n",
       "      <td>1000041</td>\n",
       "      <td>61</td>\n",
       "      <td>/ritter/share/data/UKBB/ukb_data/bids/sub-1000...</td>\n",
       "      <td>train</td>\n",
       "      <td>22.7013</td>\n",
       "      <td>23.0</td>\n",
       "      <td>15.0</td>\n",
       "      <td>3.0</td>\n",
       "      <td>38.0</td>\n",
       "      <td>0.0</td>\n",
       "      <td>0.0</td>\n",
       "      <td>0.0</td>\n",
       "      <td>0.0</td>\n",
       "      <td>1</td>\n",
       "      <td>16.0</td>\n",
       "      <td>-13.54560</td>\n",
       "      <td>4.86490</td>\n",
       "      <td>-0.990955</td>\n",
       "      <td>NaN</td>\n",
       "      <td>NaN</td>\n",
       "    </tr>\n",
       "    <tr>\n",
       "      <th>4</th>\n",
       "      <td>1000059</td>\n",
       "      <td>68</td>\n",
       "      <td>/ritter/share/data/UKBB/ukb_data/bids/sub-1000...</td>\n",
       "      <td>val</td>\n",
       "      <td>NaN</td>\n",
       "      <td>22.0</td>\n",
       "      <td>20.0</td>\n",
       "      <td>7.0</td>\n",
       "      <td>NaN</td>\n",
       "      <td>0.0</td>\n",
       "      <td>0.0</td>\n",
       "      <td>0.0</td>\n",
       "      <td>NaN</td>\n",
       "      <td>0</td>\n",
       "      <td>NaN</td>\n",
       "      <td>-11.27560</td>\n",
       "      <td>4.80936</td>\n",
       "      <td>-1.093500</td>\n",
       "      <td>NaN</td>\n",
       "      <td>NaN</td>\n",
       "    </tr>\n",
       "  </tbody>\n",
       "</table>\n",
       "</div>"
      ],
      "text/plain": [
       "       eid  age                                     rfmri_ica25_ts  split  \\\n",
       "0  1000014   61  /ritter/share/data/UKBB/ukb_data/bids/sub-1000...  train   \n",
       "1  1000023   66  /ritter/share/data/UKBB/ukb_data/bids/sub-1000...  train   \n",
       "2  1000030   65  /ritter/share/data/UKBB/ukb_data/bids/sub-1000...  train   \n",
       "3  1000041   61  /ritter/share/data/UKBB/ukb_data/bids/sub-1000...  train   \n",
       "4  1000059   68  /ritter/share/data/UKBB/ukb_data/bids/sub-1000...    val   \n",
       "\n",
       "       bmi  digit substitution  education  fluid intelligence  grip  \\\n",
       "0  23.4720                16.0       10.0                 8.0  18.0   \n",
       "1  30.7894                 NaN        7.0                 4.0  16.0   \n",
       "2  21.2569                 NaN       20.0                 8.0  18.0   \n",
       "3  22.7013                23.0       15.0                 3.0  38.0   \n",
       "4      NaN                22.0       20.0                 7.0   NaN   \n",
       "\n",
       "   depressive episode  all depression  recurrent depressive disorder  \\\n",
       "0                 NaN             NaN                            NaN   \n",
       "1                 NaN             NaN                            NaN   \n",
       "2                 1.0             1.0                            1.0   \n",
       "3                 0.0             0.0                            0.0   \n",
       "4                 0.0             0.0                            0.0   \n",
       "\n",
       "   multiple sclerosis  sex  weekly beer  genetic pc 1  genetic pc 2  \\\n",
       "0                 NaN    0          0.0      -9.69796       4.38910   \n",
       "1                 0.0    1          3.0     -13.23580       3.27728   \n",
       "2                 0.0    0          NaN     -10.69070       4.10909   \n",
       "3                 0.0    1         16.0     -13.54560       4.86490   \n",
       "4                 NaN    0          NaN     -11.27560       4.80936   \n",
       "\n",
       "   genetic pc 3  batch_nb  predicted_age  \n",
       "0     -1.121000       NaN            NaN  \n",
       "1     -2.250050       NaN            NaN  \n",
       "2     -0.344172       NaN            NaN  \n",
       "3     -0.990955       NaN            NaN  \n",
       "4     -1.093500       NaN            NaN  "
      ]
     },
     "execution_count": 11,
     "metadata": {},
     "output_type": "execute_result"
    }
   ],
   "source": [
    "data_overview_test2 = utils.get_metadata(path_test2, ukbb_dir, index=False)\n",
    "# load predictions\n",
    "ICA25_gc_preds_test2 = pd.read_csv(path_test2+'data_info/predictions.csv')\n",
    "# add predictions to overview\n",
    "data_overview_test2 = data_overview_test2.merge(ICA25_gc_preds_test2, how='left', on='eid')\n",
    "#data_overview = utils.calculate_bag(data_overview)\n",
    "data_overview_test2.head()"
   ]
  },
  {
   "cell_type": "code",
   "execution_count": 12,
   "id": "58103f56-a486-4a03-b861-9b268ac70d80",
   "metadata": {},
   "outputs": [
    {
     "name": "stdout",
     "output_type": "stream",
     "text": [
      "1181\n",
      "1181\n"
     ]
    },
    {
     "data": {
      "text/plain": [
       "248"
      ]
     },
     "execution_count": 12,
     "metadata": {},
     "output_type": "execute_result"
    }
   ],
   "source": [
    "valtest_overview_test2 = data_overview_test2[data_overview_test2['split'] != 'train']\n",
    "valtest_id_test2 = set(valtest_overview_test2['eid'])\n",
    "preds_id_25_test2 = set(ICA25_gc_preds_test2['eid'])\n",
    "print(len(valtest_id_test2))\n",
    "print(len(preds_id_25_test2))\n",
    "len(valtest_id_test2.intersection(preds_id_25_test2))"
   ]
  },
  {
   "cell_type": "markdown",
   "id": "615c4e7a-0e5d-4f05-813d-58757956b0d7",
   "metadata": {},
   "source": [
    "## random.shuffle"
   ]
  },
  {
   "cell_type": "code",
   "execution_count": 6,
   "id": "4db71779-396a-4c72-b8bf-64c7c8ad8cce",
   "metadata": {},
   "outputs": [
    {
     "name": "stderr",
     "output_type": "stream",
     "text": [
      "/home/laurar/anaconda3/envs/cuda02/lib/python3.10/site-packages/pytorch_lightning/utilities/parsing.py:197: UserWarning: Attribute 'activation' is an instance of `nn.Module` and is already saved during checkpointing. It is recommended to ignore them using `self.save_hyperparameters(ignore=['activation'])`.\n",
      "  rank_zero_warn(\n",
      "/home/laurar/anaconda3/envs/cuda02/lib/python3.10/site-packages/pytorch_lightning/utilities/parsing.py:197: UserWarning: Attribute 'loss' is an instance of `nn.Module` and is already saved during checkpointing. It is recommended to ignore them using `self.save_hyperparameters(ignore=['loss'])`.\n",
      "  rank_zero_warn(\n",
      "GPU available: True (cuda), used: True\n",
      "TPU available: False, using: 0 TPU cores\n",
      "IPU available: False, using: 0 IPUs\n",
      "HPU available: False, using: 0 HPUs\n",
      "You are using a CUDA device ('NVIDIA GeForce RTX 3090') that has Tensor Cores. To properly utilize them, you should set `torch.set_float32_matmul_precision('medium' | 'high')` which will trade-off precision for performance. For more details, read https://pytorch.org/docs/stable/generated/torch.set_float32_matmul_precision.html#torch.set_float32_matmul_precision\n",
      "LOCAL_RANK: 0 - CUDA_VISIBLE_DEVICES: [0,1,2,3]\n",
      "\n",
      "  | Name    | Type       | Params\n",
      "---------------------------------------\n",
      "0 | act     | ReLU       | 0     \n",
      "1 | loss    | MSELoss    | 0     \n",
      "2 | maxpool | MaxPool1d  | 0     \n",
      "3 | encoder | Sequential | 57.8 K\n",
      "4 | decoder | Sequential | 15.2 K\n",
      "---------------------------------------\n",
      "73.0 K    Trainable params\n",
      "0         Non-trainable params\n",
      "73.0 K    Total params\n",
      "0.292     Total estimated model params size (MB)\n"
     ]
    },
    {
     "data": {
      "application/vnd.jupyter.widget-view+json": {
       "model_id": "",
       "version_major": 2,
       "version_minor": 0
      },
      "text/plain": [
       "Sanity Checking: 0it [00:00, ?it/s]"
      ]
     },
     "metadata": {},
     "output_type": "display_data"
    },
    {
     "name": "stderr",
     "output_type": "stream",
     "text": [
      "/home/laurar/anaconda3/envs/cuda02/lib/python3.10/site-packages/pytorch_lightning/trainer/connectors/data_connector.py:430: PossibleUserWarning: The dataloader, val_dataloader, does not have many workers which may be a bottleneck. Consider increasing the value of the `num_workers` argument` (try 40 which is the number of cpus on this machine) in the `DataLoader` init to improve performance.\n",
      "  rank_zero_warn(\n",
      "/home/laurar/anaconda3/envs/cuda02/lib/python3.10/site-packages/pytorch_lightning/trainer/connectors/data_connector.py:430: PossibleUserWarning: The dataloader, train_dataloader, does not have many workers which may be a bottleneck. Consider increasing the value of the `num_workers` argument` (try 40 which is the number of cpus on this machine) in the `DataLoader` init to improve performance.\n",
      "  rank_zero_warn(\n"
     ]
    },
    {
     "data": {
      "application/vnd.jupyter.widget-view+json": {
       "model_id": "f0fc72054d9149fbac61a7bc988c67dc",
       "version_major": 2,
       "version_minor": 0
      },
      "text/plain": [
       "Training: 0it [00:00, ?it/s]"
      ]
     },
     "metadata": {},
     "output_type": "display_data"
    },
    {
     "data": {
      "application/vnd.jupyter.widget-view+json": {
       "model_id": "",
       "version_major": 2,
       "version_minor": 0
      },
      "text/plain": [
       "Validation: 0it [00:00, ?it/s]"
      ]
     },
     "metadata": {},
     "output_type": "display_data"
    },
    {
     "data": {
      "application/vnd.jupyter.widget-view+json": {
       "model_id": "",
       "version_major": 2,
       "version_minor": 0
      },
      "text/plain": [
       "Validation: 0it [00:00, ?it/s]"
      ]
     },
     "metadata": {},
     "output_type": "display_data"
    },
    {
     "data": {
      "application/vnd.jupyter.widget-view+json": {
       "model_id": "",
       "version_major": 2,
       "version_minor": 0
      },
      "text/plain": [
       "Validation: 0it [00:00, ?it/s]"
      ]
     },
     "metadata": {},
     "output_type": "display_data"
    },
    {
     "name": "stderr",
     "output_type": "stream",
     "text": [
      "`Trainer.fit` stopped: `max_epochs=3` reached.\n"
     ]
    },
    {
     "name": "stdout",
     "output_type": "stream",
     "text": [
      "Training complete.\n"
     ]
    }
   ],
   "source": [
    "path_test3 = '../../tracking/FinalModels/TEST3/'\n",
    "ICA25_gc_test3, ICA25_gc_model_test3, ICA25_gc_data_test3 = utils.train_model(path_test3, ukbb_dir, config_ICA25_gc, 2)"
   ]
  },
  {
   "cell_type": "code",
   "execution_count": 7,
   "id": "7503787e-02ac-4fac-bba5-9a28a65eff29",
   "metadata": {},
   "outputs": [
    {
     "name": "stderr",
     "output_type": "stream",
     "text": [
      "You are using a CUDA device ('NVIDIA GeForce RTX 3090') that has Tensor Cores. To properly utilize them, you should set `torch.set_float32_matmul_precision('medium' | 'high')` which will trade-off precision for performance. For more details, read https://pytorch.org/docs/stable/generated/torch.set_float32_matmul_precision.html#torch.set_float32_matmul_precision\n",
      "Restoring states from the checkpoint path at /home/laurar/IM/tracking/FinalModels/TEST3/Checkpoint/models-epoch=02-val_loss=902.43.ckpt\n",
      "LOCAL_RANK: 0 - CUDA_VISIBLE_DEVICES: [0,1,2,3]\n",
      "Loaded model weights from the checkpoint at /home/laurar/IM/tracking/FinalModels/TEST3/Checkpoint/models-epoch=02-val_loss=902.43.ckpt\n",
      "/home/laurar/anaconda3/envs/cuda02/lib/python3.10/site-packages/pytorch_lightning/trainer/connectors/data_connector.py:430: PossibleUserWarning: The dataloader, test_dataloader, does not have many workers which may be a bottleneck. Consider increasing the value of the `num_workers` argument` (try 40 which is the number of cpus on this machine) in the `DataLoader` init to improve performance.\n",
      "  rank_zero_warn(\n"
     ]
    },
    {
     "name": "stdout",
     "output_type": "stream",
     "text": [
      "\n",
      "Testing model \"ICA25_gc\" (data subset)...\n"
     ]
    },
    {
     "data": {
      "application/vnd.jupyter.widget-view+json": {
       "model_id": "c0ec12e48dc4496482a9862fbaaa6902",
       "version_major": 2,
       "version_minor": 0
      },
      "text/plain": [
       "Testing: 0it [00:00, ?it/s]"
      ]
     },
     "metadata": {},
     "output_type": "display_data"
    },
    {
     "name": "stdout",
     "output_type": "stream",
     "text": [
      "────────────────────────────────────────────────────────────────────────────────────────────────────────────────────────\n",
      "       Test metric             DataLoader 0\n",
      "────────────────────────────────────────────────────────────────────────────────────────────────────────────────────────\n",
      "        test_loss            898.4136962890625\n",
      "        test_mae            28.973026275634766\n",
      "────────────────────────────────────────────────────────────────────────────────────────────────────────────────────────\n",
      "\n",
      "Visualise training of model \"ICA25_gc\" (data subset)...\n"
     ]
    },
    {
     "data": {
      "text/html": [
       "<div>\n",
       "<style scoped>\n",
       "    .dataframe tbody tr th:only-of-type {\n",
       "        vertical-align: middle;\n",
       "    }\n",
       "\n",
       "    .dataframe tbody tr th {\n",
       "        vertical-align: top;\n",
       "    }\n",
       "\n",
       "    .dataframe thead th {\n",
       "        text-align: right;\n",
       "    }\n",
       "</style>\n",
       "<table border=\"1\" class=\"dataframe\">\n",
       "  <thead>\n",
       "    <tr style=\"text-align: right;\">\n",
       "      <th></th>\n",
       "      <th>step</th>\n",
       "      <th>train_loss</th>\n",
       "      <th>val_loss</th>\n",
       "      <th>val_mae</th>\n",
       "      <th>best_val_loss</th>\n",
       "      <th>test_loss</th>\n",
       "      <th>test_mae</th>\n",
       "    </tr>\n",
       "    <tr>\n",
       "      <th>epoch</th>\n",
       "      <th></th>\n",
       "      <th></th>\n",
       "      <th></th>\n",
       "      <th></th>\n",
       "      <th></th>\n",
       "      <th></th>\n",
       "      <th></th>\n",
       "    </tr>\n",
       "  </thead>\n",
       "  <tbody>\n",
       "    <tr>\n",
       "      <th>0</th>\n",
       "      <td>9</td>\n",
       "      <td>3532.145996</td>\n",
       "      <td>NaN</td>\n",
       "      <td>NaN</td>\n",
       "      <td>NaN</td>\n",
       "      <td>NaN</td>\n",
       "      <td>NaN</td>\n",
       "    </tr>\n",
       "    <tr>\n",
       "      <th>0</th>\n",
       "      <td>19</td>\n",
       "      <td>3125.255859</td>\n",
       "      <td>NaN</td>\n",
       "      <td>NaN</td>\n",
       "      <td>NaN</td>\n",
       "      <td>NaN</td>\n",
       "      <td>NaN</td>\n",
       "    </tr>\n",
       "    <tr>\n",
       "      <th>0</th>\n",
       "      <td>29</td>\n",
       "      <td>3016.079590</td>\n",
       "      <td>NaN</td>\n",
       "      <td>NaN</td>\n",
       "      <td>NaN</td>\n",
       "      <td>NaN</td>\n",
       "      <td>NaN</td>\n",
       "    </tr>\n",
       "    <tr>\n",
       "      <th>0</th>\n",
       "      <td>36</td>\n",
       "      <td>NaN</td>\n",
       "      <td>2721.247559</td>\n",
       "      <td>51.559307</td>\n",
       "      <td>2722.822754</td>\n",
       "      <td>NaN</td>\n",
       "      <td>NaN</td>\n",
       "    </tr>\n",
       "    <tr>\n",
       "      <th>1</th>\n",
       "      <td>39</td>\n",
       "      <td>2715.859619</td>\n",
       "      <td>NaN</td>\n",
       "      <td>NaN</td>\n",
       "      <td>NaN</td>\n",
       "      <td>NaN</td>\n",
       "      <td>NaN</td>\n",
       "    </tr>\n",
       "  </tbody>\n",
       "</table>\n",
       "</div>"
      ],
      "text/plain": [
       "       step   train_loss     val_loss    val_mae  best_val_loss  test_loss  \\\n",
       "epoch                                                                        \n",
       "0         9  3532.145996          NaN        NaN            NaN        NaN   \n",
       "0        19  3125.255859          NaN        NaN            NaN        NaN   \n",
       "0        29  3016.079590          NaN        NaN            NaN        NaN   \n",
       "0        36          NaN  2721.247559  51.559307    2722.822754        NaN   \n",
       "1        39  2715.859619          NaN        NaN            NaN        NaN   \n",
       "\n",
       "       test_mae  \n",
       "epoch            \n",
       "0           NaN  \n",
       "0           NaN  \n",
       "0           NaN  \n",
       "0           NaN  \n",
       "1           NaN  "
      ]
     },
     "metadata": {},
     "output_type": "display_data"
    },
    {
     "data": {
      "image/png": "[encoded data removed]",
      "text/plain": [
       "<Figure size 616.125x500 with 1 Axes>"
      ]
     },
     "metadata": {},
     "output_type": "display_data"
    }
   ],
   "source": [
    "utils.test_model(ICA25_gc_test3, ICA25_gc_data_test3, config_ICA25_gc)"
   ]
  },
  {
   "cell_type": "code",
   "execution_count": 8,
   "id": "0bae4174-1ffe-45fc-9ee3-7cbfe262c1bd",
   "metadata": {},
   "outputs": [
    {
     "name": "stderr",
     "output_type": "stream",
     "text": [
      "You are using a CUDA device ('NVIDIA GeForce RTX 3090') that has Tensor Cores. To properly utilize them, you should set `torch.set_float32_matmul_precision('medium' | 'high')` which will trade-off precision for performance. For more details, read https://pytorch.org/docs/stable/generated/torch.set_float32_matmul_precision.html#torch.set_float32_matmul_precision\n",
      "LOCAL_RANK: 0 - CUDA_VISIBLE_DEVICES: [0,1,2,3]\n",
      "/home/laurar/anaconda3/envs/cuda02/lib/python3.10/site-packages/pytorch_lightning/trainer/connectors/data_connector.py:430: PossibleUserWarning: The dataloader, predict_dataloader, does not have many workers which may be a bottleneck. Consider increasing the value of the `num_workers` argument` (try 40 which is the number of cpus on this machine) in the `DataLoader` init to improve performance.\n",
      "  rank_zero_warn(\n"
     ]
    },
    {
     "data": {
      "application/vnd.jupyter.widget-view+json": {
       "model_id": "e9ff7106c42b46048a0d637d3e961db3",
       "version_major": 2,
       "version_minor": 0
      },
      "text/plain": [
       "Predicting: 0it [00:00, ?it/s]"
      ]
     },
     "metadata": {},
     "output_type": "display_data"
    }
   ],
   "source": [
    "ICA25_gc_preds_test3 = utils.predict_w_model(ICA25_gc_test3, ICA25_gc_model_test3, ICA25_gc_data_test3, path_test3)"
   ]
  },
  {
   "cell_type": "code",
   "execution_count": 9,
   "id": "4a56655b-130a-4ff4-b191-d805abb48fc4",
   "metadata": {},
   "outputs": [
    {
     "name": "stdout",
     "output_type": "stream",
     "text": [
      "len train ids: 4721\n",
      "len val ids: 590\n",
      "len test ids: 591\n",
      "intersection train/val: set()\n",
      "intersection train/test: set()\n",
      "intersection val/test: set()\n"
     ]
    }
   ],
   "source": [
    "data_overview_test3 = utils.load_datainfo(path_test3, 'overview')\n",
    "train_idx_test3 = utils.load_datainfo(path_test3, 'train_idx')\n",
    "val_idx_test3 = utils.load_datainfo(path_test3, 'val_idx')\n",
    "test_idx_test3 = utils.load_datainfo(path_test3, 'test_idx')\n",
    "\n",
    "train_ids_test3 = set(train_idx_test3)\n",
    "print('len train ids:',len(train_ids_test3))\n",
    "val_ids_test3 = set(val_idx_test3)\n",
    "print('len val ids:',len(val_ids_test3))\n",
    "test_ids_test3 = set(test_idx_test3)\n",
    "print('len test ids:',len(test_ids_test3))\n",
    "\n",
    "print('intersection train/val:', train_ids_test3.intersection(val_ids_test3))\n",
    "print('intersection train/test:', train_ids_test3.intersection(test_ids_test3))\n",
    "print('intersection val/test:', val_ids_test3.intersection(test_ids_test3))"
   ]
  },
  {
   "cell_type": "code",
   "execution_count": 10,
   "id": "3bd813e8-293e-47ab-9c08-74a788835cd1",
   "metadata": {},
   "outputs": [
    {
     "data": {
      "text/html": [
       "<div>\n",
       "<style scoped>\n",
       "    .dataframe tbody tr th:only-of-type {\n",
       "        vertical-align: middle;\n",
       "    }\n",
       "\n",
       "    .dataframe tbody tr th {\n",
       "        vertical-align: top;\n",
       "    }\n",
       "\n",
       "    .dataframe thead th {\n",
       "        text-align: right;\n",
       "    }\n",
       "</style>\n",
       "<table border=\"1\" class=\"dataframe\">\n",
       "  <thead>\n",
       "    <tr style=\"text-align: right;\">\n",
       "      <th></th>\n",
       "      <th>eid</th>\n",
       "      <th>age</th>\n",
       "      <th>rfmri_ica25_ts</th>\n",
       "      <th>split</th>\n",
       "      <th>bmi</th>\n",
       "      <th>digit substitution</th>\n",
       "      <th>education</th>\n",
       "      <th>fluid intelligence</th>\n",
       "      <th>grip</th>\n",
       "      <th>depressive episode</th>\n",
       "      <th>all depression</th>\n",
       "      <th>recurrent depressive disorder</th>\n",
       "      <th>multiple sclerosis</th>\n",
       "      <th>sex</th>\n",
       "      <th>weekly beer</th>\n",
       "      <th>genetic pc 1</th>\n",
       "      <th>genetic pc 2</th>\n",
       "      <th>genetic pc 3</th>\n",
       "      <th>batch_nb</th>\n",
       "      <th>predicted_age</th>\n",
       "    </tr>\n",
       "  </thead>\n",
       "  <tbody>\n",
       "    <tr>\n",
       "      <th>0</th>\n",
       "      <td>1000014</td>\n",
       "      <td>61</td>\n",
       "      <td>/ritter/share/data/UKBB/ukb_data/bids/sub-1000...</td>\n",
       "      <td>train</td>\n",
       "      <td>23.4720</td>\n",
       "      <td>16.0</td>\n",
       "      <td>10.0</td>\n",
       "      <td>8.0</td>\n",
       "      <td>18.0</td>\n",
       "      <td>NaN</td>\n",
       "      <td>NaN</td>\n",
       "      <td>NaN</td>\n",
       "      <td>NaN</td>\n",
       "      <td>0</td>\n",
       "      <td>0.0</td>\n",
       "      <td>-9.69796</td>\n",
       "      <td>4.38910</td>\n",
       "      <td>-1.121000</td>\n",
       "      <td>NaN</td>\n",
       "      <td>NaN</td>\n",
       "    </tr>\n",
       "    <tr>\n",
       "      <th>1</th>\n",
       "      <td>1000023</td>\n",
       "      <td>66</td>\n",
       "      <td>/ritter/share/data/UKBB/ukb_data/bids/sub-1000...</td>\n",
       "      <td>train</td>\n",
       "      <td>30.7894</td>\n",
       "      <td>NaN</td>\n",
       "      <td>7.0</td>\n",
       "      <td>4.0</td>\n",
       "      <td>16.0</td>\n",
       "      <td>NaN</td>\n",
       "      <td>NaN</td>\n",
       "      <td>NaN</td>\n",
       "      <td>0.0</td>\n",
       "      <td>1</td>\n",
       "      <td>3.0</td>\n",
       "      <td>-13.23580</td>\n",
       "      <td>3.27728</td>\n",
       "      <td>-2.250050</td>\n",
       "      <td>2.0</td>\n",
       "      <td>34.012421</td>\n",
       "    </tr>\n",
       "    <tr>\n",
       "      <th>2</th>\n",
       "      <td>1000030</td>\n",
       "      <td>65</td>\n",
       "      <td>/ritter/share/data/UKBB/ukb_data/bids/sub-1000...</td>\n",
       "      <td>train</td>\n",
       "      <td>21.2569</td>\n",
       "      <td>NaN</td>\n",
       "      <td>20.0</td>\n",
       "      <td>8.0</td>\n",
       "      <td>18.0</td>\n",
       "      <td>1.0</td>\n",
       "      <td>1.0</td>\n",
       "      <td>1.0</td>\n",
       "      <td>0.0</td>\n",
       "      <td>0</td>\n",
       "      <td>NaN</td>\n",
       "      <td>-10.69070</td>\n",
       "      <td>4.10909</td>\n",
       "      <td>-0.344172</td>\n",
       "      <td>NaN</td>\n",
       "      <td>NaN</td>\n",
       "    </tr>\n",
       "    <tr>\n",
       "      <th>3</th>\n",
       "      <td>1000041</td>\n",
       "      <td>61</td>\n",
       "      <td>/ritter/share/data/UKBB/ukb_data/bids/sub-1000...</td>\n",
       "      <td>train</td>\n",
       "      <td>22.7013</td>\n",
       "      <td>23.0</td>\n",
       "      <td>15.0</td>\n",
       "      <td>3.0</td>\n",
       "      <td>38.0</td>\n",
       "      <td>0.0</td>\n",
       "      <td>0.0</td>\n",
       "      <td>0.0</td>\n",
       "      <td>0.0</td>\n",
       "      <td>1</td>\n",
       "      <td>16.0</td>\n",
       "      <td>-13.54560</td>\n",
       "      <td>4.86490</td>\n",
       "      <td>-0.990955</td>\n",
       "      <td>NaN</td>\n",
       "      <td>NaN</td>\n",
       "    </tr>\n",
       "    <tr>\n",
       "      <th>4</th>\n",
       "      <td>1000059</td>\n",
       "      <td>68</td>\n",
       "      <td>/ritter/share/data/UKBB/ukb_data/bids/sub-1000...</td>\n",
       "      <td>val</td>\n",
       "      <td>NaN</td>\n",
       "      <td>22.0</td>\n",
       "      <td>20.0</td>\n",
       "      <td>7.0</td>\n",
       "      <td>NaN</td>\n",
       "      <td>0.0</td>\n",
       "      <td>0.0</td>\n",
       "      <td>0.0</td>\n",
       "      <td>NaN</td>\n",
       "      <td>0</td>\n",
       "      <td>NaN</td>\n",
       "      <td>-11.27560</td>\n",
       "      <td>4.80936</td>\n",
       "      <td>-1.093500</td>\n",
       "      <td>NaN</td>\n",
       "      <td>NaN</td>\n",
       "    </tr>\n",
       "  </tbody>\n",
       "</table>\n",
       "</div>"
      ],
      "text/plain": [
       "       eid  age                                     rfmri_ica25_ts  split  \\\n",
       "0  1000014   61  /ritter/share/data/UKBB/ukb_data/bids/sub-1000...  train   \n",
       "1  1000023   66  /ritter/share/data/UKBB/ukb_data/bids/sub-1000...  train   \n",
       "2  1000030   65  /ritter/share/data/UKBB/ukb_data/bids/sub-1000...  train   \n",
       "3  1000041   61  /ritter/share/data/UKBB/ukb_data/bids/sub-1000...  train   \n",
       "4  1000059   68  /ritter/share/data/UKBB/ukb_data/bids/sub-1000...    val   \n",
       "\n",
       "       bmi  digit substitution  education  fluid intelligence  grip  \\\n",
       "0  23.4720                16.0       10.0                 8.0  18.0   \n",
       "1  30.7894                 NaN        7.0                 4.0  16.0   \n",
       "2  21.2569                 NaN       20.0                 8.0  18.0   \n",
       "3  22.7013                23.0       15.0                 3.0  38.0   \n",
       "4      NaN                22.0       20.0                 7.0   NaN   \n",
       "\n",
       "   depressive episode  all depression  recurrent depressive disorder  \\\n",
       "0                 NaN             NaN                            NaN   \n",
       "1                 NaN             NaN                            NaN   \n",
       "2                 1.0             1.0                            1.0   \n",
       "3                 0.0             0.0                            0.0   \n",
       "4                 0.0             0.0                            0.0   \n",
       "\n",
       "   multiple sclerosis  sex  weekly beer  genetic pc 1  genetic pc 2  \\\n",
       "0                 NaN    0          0.0      -9.69796       4.38910   \n",
       "1                 0.0    1          3.0     -13.23580       3.27728   \n",
       "2                 0.0    0          NaN     -10.69070       4.10909   \n",
       "3                 0.0    1         16.0     -13.54560       4.86490   \n",
       "4                 NaN    0          NaN     -11.27560       4.80936   \n",
       "\n",
       "   genetic pc 3  batch_nb  predicted_age  \n",
       "0     -1.121000       NaN            NaN  \n",
       "1     -2.250050       2.0      34.012421  \n",
       "2     -0.344172       NaN            NaN  \n",
       "3     -0.990955       NaN            NaN  \n",
       "4     -1.093500       NaN            NaN  "
      ]
     },
     "execution_count": 10,
     "metadata": {},
     "output_type": "execute_result"
    }
   ],
   "source": [
    "data_overview_test3 = utils.get_metadata(path_test3, ukbb_dir, index=False)\n",
    "# load predictions\n",
    "ICA25_gc_preds_test3 = pd.read_csv(path_test3+'data_info/predictions.csv')\n",
    "# add predictions to overview\n",
    "data_overview_test3 = data_overview_test3.merge(ICA25_gc_preds_test3, how='left', on='eid')\n",
    "#data_overview = utils.calculate_bag(data_overview)\n",
    "data_overview_test3.head()"
   ]
  },
  {
   "cell_type": "code",
   "execution_count": 11,
   "id": "4fbee54c-12be-40a3-a67b-2f41310df25d",
   "metadata": {},
   "outputs": [
    {
     "name": "stdout",
     "output_type": "stream",
     "text": [
      "1181\n",
      "1181\n"
     ]
    },
    {
     "data": {
      "text/plain": [
       "217"
      ]
     },
     "execution_count": 11,
     "metadata": {},
     "output_type": "execute_result"
    }
   ],
   "source": [
    "valtest_overview_test3 = data_overview_test3[data_overview_test3['split'] != 'train']\n",
    "valtest_id_test3 = set(valtest_overview_test3['eid'])\n",
    "preds_id_25_test3 = set(ICA25_gc_preds_test3['eid'])\n",
    "print(len(valtest_id_test3))\n",
    "print(len(preds_id_25_test3))\n",
    "len(valtest_id_test3.intersection(preds_id_25_test3))"
   ]
  },
  {
   "cell_type": "markdown",
   "id": "1da9237e-064d-413a-a53d-ee3b3ea2857d",
   "metadata": {},
   "source": [
    "## random.shuffle with added make_reproducilbe in setup"
   ]
  },
  {
   "cell_type": "code",
   "execution_count": 6,
   "id": "55a7fe1f-2ee4-4f20-b61a-8048247d6c23",
   "metadata": {},
   "outputs": [
    {
     "name": "stderr",
     "output_type": "stream",
     "text": [
      "/home/laurar/anaconda3/envs/cuda02/lib/python3.10/site-packages/pytorch_lightning/utilities/parsing.py:197: UserWarning: Attribute 'activation' is an instance of `nn.Module` and is already saved during checkpointing. It is recommended to ignore them using `self.save_hyperparameters(ignore=['activation'])`.\n",
      "  rank_zero_warn(\n",
      "/home/laurar/anaconda3/envs/cuda02/lib/python3.10/site-packages/pytorch_lightning/utilities/parsing.py:197: UserWarning: Attribute 'loss' is an instance of `nn.Module` and is already saved during checkpointing. It is recommended to ignore them using `self.save_hyperparameters(ignore=['loss'])`.\n",
      "  rank_zero_warn(\n",
      "GPU available: True (cuda), used: True\n",
      "TPU available: False, using: 0 TPU cores\n",
      "IPU available: False, using: 0 IPUs\n",
      "HPU available: False, using: 0 HPUs\n",
      "You are using a CUDA device ('NVIDIA GeForce RTX 3090') that has Tensor Cores. To properly utilize them, you should set `torch.set_float32_matmul_precision('medium' | 'high')` which will trade-off precision for performance. For more details, read https://pytorch.org/docs/stable/generated/torch.set_float32_matmul_precision.html#torch.set_float32_matmul_precision\n",
      "LOCAL_RANK: 0 - CUDA_VISIBLE_DEVICES: [0,1,2,3]\n",
      "\n",
      "  | Name    | Type       | Params\n",
      "---------------------------------------\n",
      "0 | act     | ReLU       | 0     \n",
      "1 | loss    | MSELoss    | 0     \n",
      "2 | maxpool | MaxPool1d  | 0     \n",
      "3 | encoder | Sequential | 57.8 K\n",
      "4 | decoder | Sequential | 15.2 K\n",
      "---------------------------------------\n",
      "73.0 K    Trainable params\n",
      "0         Non-trainable params\n",
      "73.0 K    Total params\n",
      "0.292     Total estimated model params size (MB)\n"
     ]
    },
    {
     "data": {
      "application/vnd.jupyter.widget-view+json": {
       "model_id": "",
       "version_major": 2,
       "version_minor": 0
      },
      "text/plain": [
       "Sanity Checking: 0it [00:00, ?it/s]"
      ]
     },
     "metadata": {},
     "output_type": "display_data"
    },
    {
     "name": "stderr",
     "output_type": "stream",
     "text": [
      "/home/laurar/anaconda3/envs/cuda02/lib/python3.10/site-packages/pytorch_lightning/trainer/connectors/data_connector.py:430: PossibleUserWarning: The dataloader, val_dataloader, does not have many workers which may be a bottleneck. Consider increasing the value of the `num_workers` argument` (try 40 which is the number of cpus on this machine) in the `DataLoader` init to improve performance.\n",
      "  rank_zero_warn(\n",
      "/home/laurar/anaconda3/envs/cuda02/lib/python3.10/site-packages/pytorch_lightning/trainer/connectors/data_connector.py:430: PossibleUserWarning: The dataloader, train_dataloader, does not have many workers which may be a bottleneck. Consider increasing the value of the `num_workers` argument` (try 40 which is the number of cpus on this machine) in the `DataLoader` init to improve performance.\n",
      "  rank_zero_warn(\n"
     ]
    },
    {
     "data": {
      "application/vnd.jupyter.widget-view+json": {
       "model_id": "e5a440381ee246de8f7f3d8eb5ced4d6",
       "version_major": 2,
       "version_minor": 0
      },
      "text/plain": [
       "Training: 0it [00:00, ?it/s]"
      ]
     },
     "metadata": {},
     "output_type": "display_data"
    },
    {
     "data": {
      "application/vnd.jupyter.widget-view+json": {
       "model_id": "",
       "version_major": 2,
       "version_minor": 0
      },
      "text/plain": [
       "Validation: 0it [00:00, ?it/s]"
      ]
     },
     "metadata": {},
     "output_type": "display_data"
    },
    {
     "data": {
      "application/vnd.jupyter.widget-view+json": {
       "model_id": "",
       "version_major": 2,
       "version_minor": 0
      },
      "text/plain": [
       "Validation: 0it [00:00, ?it/s]"
      ]
     },
     "metadata": {},
     "output_type": "display_data"
    },
    {
     "data": {
      "application/vnd.jupyter.widget-view+json": {
       "model_id": "",
       "version_major": 2,
       "version_minor": 0
      },
      "text/plain": [
       "Validation: 0it [00:00, ?it/s]"
      ]
     },
     "metadata": {},
     "output_type": "display_data"
    },
    {
     "name": "stderr",
     "output_type": "stream",
     "text": [
      "`Trainer.fit` stopped: `max_epochs=3` reached.\n"
     ]
    },
    {
     "name": "stdout",
     "output_type": "stream",
     "text": [
      "Training complete.\n"
     ]
    }
   ],
   "source": [
    "path_test4 = '../../tracking/FinalModels/TEST4/'\n",
    "ICA25_gc_test4, ICA25_gc_model_test4, ICA25_gc_data_test4 = utils.train_model(path_test4, ukbb_dir, config_ICA25_gc, 2)"
   ]
  },
  {
   "cell_type": "code",
   "execution_count": 7,
   "id": "e2ba8759-cb42-4b91-bada-a510ef389a16",
   "metadata": {},
   "outputs": [
    {
     "name": "stderr",
     "output_type": "stream",
     "text": [
      "You are using a CUDA device ('NVIDIA GeForce RTX 3090') that has Tensor Cores. To properly utilize them, you should set `torch.set_float32_matmul_precision('medium' | 'high')` which will trade-off precision for performance. For more details, read https://pytorch.org/docs/stable/generated/torch.set_float32_matmul_precision.html#torch.set_float32_matmul_precision\n",
      "Restoring states from the checkpoint path at /home/laurar/IM/tracking/FinalModels/TEST4/Checkpoint/models-epoch=02-val_loss=902.43.ckpt\n",
      "LOCAL_RANK: 0 - CUDA_VISIBLE_DEVICES: [0,1,2,3]\n",
      "Loaded model weights from the checkpoint at /home/laurar/IM/tracking/FinalModels/TEST4/Checkpoint/models-epoch=02-val_loss=902.43.ckpt\n"
     ]
    },
    {
     "name": "stdout",
     "output_type": "stream",
     "text": [
      "\n",
      "Testing model \"ICA25_gc\" (data subset)...\n"
     ]
    },
    {
     "name": "stderr",
     "output_type": "stream",
     "text": [
      "/home/laurar/anaconda3/envs/cuda02/lib/python3.10/site-packages/pytorch_lightning/trainer/connectors/data_connector.py:430: PossibleUserWarning: The dataloader, test_dataloader, does not have many workers which may be a bottleneck. Consider increasing the value of the `num_workers` argument` (try 40 which is the number of cpus on this machine) in the `DataLoader` init to improve performance.\n",
      "  rank_zero_warn(\n"
     ]
    },
    {
     "data": {
      "application/vnd.jupyter.widget-view+json": {
       "model_id": "6dc1cdaaff2d48a29e953ae47d74c9d0",
       "version_major": 2,
       "version_minor": 0
      },
      "text/plain": [
       "Testing: 0it [00:00, ?it/s]"
      ]
     },
     "metadata": {},
     "output_type": "display_data"
    },
    {
     "name": "stdout",
     "output_type": "stream",
     "text": [
      "────────────────────────────────────────────────────────────────────────────────────────────────────────────────────────\n",
      "       Test metric             DataLoader 0\n",
      "────────────────────────────────────────────────────────────────────────────────────────────────────────────────────────\n",
      "        test_loss            926.1563110351562\n",
      "        test_mae             29.42252540588379\n",
      "────────────────────────────────────────────────────────────────────────────────────────────────────────────────────────\n",
      "\n",
      "Visualise training of model \"ICA25_gc\" (data subset)...\n"
     ]
    },
    {
     "data": {
      "text/html": [
       "<div>\n",
       "<style scoped>\n",
       "    .dataframe tbody tr th:only-of-type {\n",
       "        vertical-align: middle;\n",
       "    }\n",
       "\n",
       "    .dataframe tbody tr th {\n",
       "        vertical-align: top;\n",
       "    }\n",
       "\n",
       "    .dataframe thead th {\n",
       "        text-align: right;\n",
       "    }\n",
       "</style>\n",
       "<table border=\"1\" class=\"dataframe\">\n",
       "  <thead>\n",
       "    <tr style=\"text-align: right;\">\n",
       "      <th></th>\n",
       "      <th>step</th>\n",
       "      <th>train_loss</th>\n",
       "      <th>val_loss</th>\n",
       "      <th>val_mae</th>\n",
       "      <th>best_val_loss</th>\n",
       "      <th>test_loss</th>\n",
       "      <th>test_mae</th>\n",
       "    </tr>\n",
       "    <tr>\n",
       "      <th>epoch</th>\n",
       "      <th></th>\n",
       "      <th></th>\n",
       "      <th></th>\n",
       "      <th></th>\n",
       "      <th></th>\n",
       "      <th></th>\n",
       "      <th></th>\n",
       "    </tr>\n",
       "  </thead>\n",
       "  <tbody>\n",
       "    <tr>\n",
       "      <th>0</th>\n",
       "      <td>9</td>\n",
       "      <td>3532.145996</td>\n",
       "      <td>NaN</td>\n",
       "      <td>NaN</td>\n",
       "      <td>NaN</td>\n",
       "      <td>NaN</td>\n",
       "      <td>NaN</td>\n",
       "    </tr>\n",
       "    <tr>\n",
       "      <th>0</th>\n",
       "      <td>19</td>\n",
       "      <td>3125.255859</td>\n",
       "      <td>NaN</td>\n",
       "      <td>NaN</td>\n",
       "      <td>NaN</td>\n",
       "      <td>NaN</td>\n",
       "      <td>NaN</td>\n",
       "    </tr>\n",
       "    <tr>\n",
       "      <th>0</th>\n",
       "      <td>29</td>\n",
       "      <td>3016.079590</td>\n",
       "      <td>NaN</td>\n",
       "      <td>NaN</td>\n",
       "      <td>NaN</td>\n",
       "      <td>NaN</td>\n",
       "      <td>NaN</td>\n",
       "    </tr>\n",
       "    <tr>\n",
       "      <th>0</th>\n",
       "      <td>36</td>\n",
       "      <td>NaN</td>\n",
       "      <td>2721.247559</td>\n",
       "      <td>51.559307</td>\n",
       "      <td>2722.822754</td>\n",
       "      <td>NaN</td>\n",
       "      <td>NaN</td>\n",
       "    </tr>\n",
       "    <tr>\n",
       "      <th>1</th>\n",
       "      <td>39</td>\n",
       "      <td>2715.859619</td>\n",
       "      <td>NaN</td>\n",
       "      <td>NaN</td>\n",
       "      <td>NaN</td>\n",
       "      <td>NaN</td>\n",
       "      <td>NaN</td>\n",
       "    </tr>\n",
       "  </tbody>\n",
       "</table>\n",
       "</div>"
      ],
      "text/plain": [
       "       step   train_loss     val_loss    val_mae  best_val_loss  test_loss  \\\n",
       "epoch                                                                        \n",
       "0         9  3532.145996          NaN        NaN            NaN        NaN   \n",
       "0        19  3125.255859          NaN        NaN            NaN        NaN   \n",
       "0        29  3016.079590          NaN        NaN            NaN        NaN   \n",
       "0        36          NaN  2721.247559  51.559307    2722.822754        NaN   \n",
       "1        39  2715.859619          NaN        NaN            NaN        NaN   \n",
       "\n",
       "       test_mae  \n",
       "epoch            \n",
       "0           NaN  \n",
       "0           NaN  \n",
       "0           NaN  \n",
       "0           NaN  \n",
       "1           NaN  "
      ]
     },
     "metadata": {},
     "output_type": "display_data"
    },
    {
     "data": {
      "image/png": "[encoded data removed]",
      "text/plain": [
       "<Figure size 616.125x500 with 1 Axes>"
      ]
     },
     "metadata": {},
     "output_type": "display_data"
    }
   ],
   "source": [
    "utils.test_model(ICA25_gc_test4, ICA25_gc_data_test4, config_ICA25_gc)"
   ]
  },
  {
   "cell_type": "code",
   "execution_count": 8,
   "id": "6ab255ad-c204-4271-9878-f95c04d80f01",
   "metadata": {},
   "outputs": [
    {
     "name": "stderr",
     "output_type": "stream",
     "text": [
      "You are using a CUDA device ('NVIDIA GeForce RTX 3090') that has Tensor Cores. To properly utilize them, you should set `torch.set_float32_matmul_precision('medium' | 'high')` which will trade-off precision for performance. For more details, read https://pytorch.org/docs/stable/generated/torch.set_float32_matmul_precision.html#torch.set_float32_matmul_precision\n",
      "LOCAL_RANK: 0 - CUDA_VISIBLE_DEVICES: [0,1,2,3]\n",
      "/home/laurar/anaconda3/envs/cuda02/lib/python3.10/site-packages/pytorch_lightning/trainer/connectors/data_connector.py:430: PossibleUserWarning: The dataloader, predict_dataloader, does not have many workers which may be a bottleneck. Consider increasing the value of the `num_workers` argument` (try 40 which is the number of cpus on this machine) in the `DataLoader` init to improve performance.\n",
      "  rank_zero_warn(\n"
     ]
    },
    {
     "data": {
      "application/vnd.jupyter.widget-view+json": {
       "model_id": "7b6ccc53c8e44a6ebc7ad8e80cb8450d",
       "version_major": 2,
       "version_minor": 0
      },
      "text/plain": [
       "Predicting: 0it [00:00, ?it/s]"
      ]
     },
     "metadata": {},
     "output_type": "display_data"
    }
   ],
   "source": [
    "ICA25_gc_preds_test4 = utils.predict_w_model(ICA25_gc_test4, ICA25_gc_model_test4, ICA25_gc_data_test4, path_test4)"
   ]
  },
  {
   "cell_type": "code",
   "execution_count": 9,
   "id": "8205802e-0165-46f6-b84e-799e9b1c5d02",
   "metadata": {},
   "outputs": [
    {
     "name": "stdout",
     "output_type": "stream",
     "text": [
      "len train ids: 4721\n",
      "len val ids: 590\n",
      "len test ids: 591\n",
      "intersection train/val: set()\n",
      "intersection train/test: set()\n",
      "intersection val/test: set()\n",
      "1181\n",
      "1181\n"
     ]
    },
    {
     "data": {
      "text/plain": [
       "1181"
      ]
     },
     "execution_count": 9,
     "metadata": {},
     "output_type": "execute_result"
    }
   ],
   "source": [
    "#data_overview_test3 = utils.load_datainfo(path_test3, 'overview')\n",
    "train_idx_test4 = utils.load_datainfo(path_test4, 'train_idx')\n",
    "val_idx_test4 = utils.load_datainfo(path_test4, 'val_idx')\n",
    "test_idx_test4 = utils.load_datainfo(path_test4, 'test_idx')\n",
    "\n",
    "train_ids_test4 = set(train_idx_test4)\n",
    "print('len train ids:',len(train_ids_test4))\n",
    "val_ids_test4 = set(val_idx_test4)\n",
    "print('len val ids:',len(val_ids_test4))\n",
    "test_ids_test4 = set(test_idx_test4)\n",
    "print('len test ids:',len(test_ids_test4))\n",
    "\n",
    "print('intersection train/val:', train_ids_test4.intersection(val_ids_test4))\n",
    "print('intersection train/test:', train_ids_test4.intersection(test_ids_test4))\n",
    "print('intersection val/test:', val_ids_test4.intersection(test_ids_test4))\n",
    "\n",
    "data_overview_test4 = utils.get_metadata(path_test4, ukbb_dir, index=False)\n",
    "# load predictions\n",
    "ICA25_gc_preds_test4 = pd.read_csv(path_test4+'data_info/predictions.csv')\n",
    "# add predictions to overview\n",
    "data_overview_test4 = data_overview_test4.merge(ICA25_gc_preds_test4, how='left', on='eid')\n",
    "\n",
    "valtest_overview_test4 = data_overview_test4[data_overview_test4['split'] != 'train']\n",
    "valtest_id_test4 = set(valtest_overview_test4['eid'])\n",
    "preds_id_25_test4 = set(ICA25_gc_preds_test4['eid'])\n",
    "print(len(valtest_id_test4))\n",
    "print(len(preds_id_25_test4))\n",
    "len(valtest_id_test4.intersection(preds_id_25_test4))"
   ]
  },
  {
   "cell_type": "markdown",
   "id": "2035e0b4-00a0-4393-a0d7-16b6bc22da68",
   "metadata": {},
   "source": [
    "## np.random.shuffle m. zus. make_responsible call in setup"
   ]
  },
  {
   "cell_type": "code",
   "execution_count": 6,
   "id": "d1d4ef74-737a-4d8f-8a6e-160b26893828",
   "metadata": {},
   "outputs": [
    {
     "name": "stderr",
     "output_type": "stream",
     "text": [
      "/home/laurar/anaconda3/envs/cuda02/lib/python3.10/site-packages/pytorch_lightning/utilities/parsing.py:197: UserWarning: Attribute 'activation' is an instance of `nn.Module` and is already saved during checkpointing. It is recommended to ignore them using `self.save_hyperparameters(ignore=['activation'])`.\n",
      "  rank_zero_warn(\n",
      "/home/laurar/anaconda3/envs/cuda02/lib/python3.10/site-packages/pytorch_lightning/utilities/parsing.py:197: UserWarning: Attribute 'loss' is an instance of `nn.Module` and is already saved during checkpointing. It is recommended to ignore them using `self.save_hyperparameters(ignore=['loss'])`.\n",
      "  rank_zero_warn(\n",
      "GPU available: True (cuda), used: True\n",
      "TPU available: False, using: 0 TPU cores\n",
      "IPU available: False, using: 0 IPUs\n",
      "HPU available: False, using: 0 HPUs\n",
      "You are using a CUDA device ('NVIDIA GeForce RTX 3090') that has Tensor Cores. To properly utilize them, you should set `torch.set_float32_matmul_precision('medium' | 'high')` which will trade-off precision for performance. For more details, read https://pytorch.org/docs/stable/generated/torch.set_float32_matmul_precision.html#torch.set_float32_matmul_precision\n",
      "LOCAL_RANK: 0 - CUDA_VISIBLE_DEVICES: [0,1,2,3]\n",
      "\n",
      "  | Name    | Type       | Params\n",
      "---------------------------------------\n",
      "0 | act     | ReLU       | 0     \n",
      "1 | loss    | MSELoss    | 0     \n",
      "2 | maxpool | MaxPool1d  | 0     \n",
      "3 | encoder | Sequential | 57.8 K\n",
      "4 | decoder | Sequential | 15.2 K\n",
      "---------------------------------------\n",
      "73.0 K    Trainable params\n",
      "0         Non-trainable params\n",
      "73.0 K    Total params\n",
      "0.292     Total estimated model params size (MB)\n"
     ]
    },
    {
     "data": {
      "application/vnd.jupyter.widget-view+json": {
       "model_id": "",
       "version_major": 2,
       "version_minor": 0
      },
      "text/plain": [
       "Sanity Checking: 0it [00:00, ?it/s]"
      ]
     },
     "metadata": {},
     "output_type": "display_data"
    },
    {
     "name": "stderr",
     "output_type": "stream",
     "text": [
      "/home/laurar/anaconda3/envs/cuda02/lib/python3.10/site-packages/pytorch_lightning/trainer/connectors/data_connector.py:430: PossibleUserWarning: The dataloader, val_dataloader, does not have many workers which may be a bottleneck. Consider increasing the value of the `num_workers` argument` (try 40 which is the number of cpus on this machine) in the `DataLoader` init to improve performance.\n",
      "  rank_zero_warn(\n",
      "/home/laurar/anaconda3/envs/cuda02/lib/python3.10/site-packages/pytorch_lightning/trainer/connectors/data_connector.py:430: PossibleUserWarning: The dataloader, train_dataloader, does not have many workers which may be a bottleneck. Consider increasing the value of the `num_workers` argument` (try 40 which is the number of cpus on this machine) in the `DataLoader` init to improve performance.\n",
      "  rank_zero_warn(\n"
     ]
    },
    {
     "data": {
      "application/vnd.jupyter.widget-view+json": {
       "model_id": "76a3423643474b118ddd935ea3abcd31",
       "version_major": 2,
       "version_minor": 0
      },
      "text/plain": [
       "Training: 0it [00:00, ?it/s]"
      ]
     },
     "metadata": {},
     "output_type": "display_data"
    },
    {
     "data": {
      "application/vnd.jupyter.widget-view+json": {
       "model_id": "",
       "version_major": 2,
       "version_minor": 0
      },
      "text/plain": [
       "Validation: 0it [00:00, ?it/s]"
      ]
     },
     "metadata": {},
     "output_type": "display_data"
    },
    {
     "data": {
      "application/vnd.jupyter.widget-view+json": {
       "model_id": "",
       "version_major": 2,
       "version_minor": 0
      },
      "text/plain": [
       "Validation: 0it [00:00, ?it/s]"
      ]
     },
     "metadata": {},
     "output_type": "display_data"
    },
    {
     "data": {
      "application/vnd.jupyter.widget-view+json": {
       "model_id": "",
       "version_major": 2,
       "version_minor": 0
      },
      "text/plain": [
       "Validation: 0it [00:00, ?it/s]"
      ]
     },
     "metadata": {},
     "output_type": "display_data"
    },
    {
     "name": "stderr",
     "output_type": "stream",
     "text": [
      "`Trainer.fit` stopped: `max_epochs=3` reached.\n"
     ]
    },
    {
     "name": "stdout",
     "output_type": "stream",
     "text": [
      "Training complete.\n"
     ]
    }
   ],
   "source": [
    "path_test5 = '../../tracking/FinalModels/TEST5/'\n",
    "ICA25_gc_test5, ICA25_gc_model_test5, ICA25_gc_data_test5 = utils.train_model(path_test5, ukbb_dir, config_ICA25_gc, 2)"
   ]
  },
  {
   "cell_type": "code",
   "execution_count": 7,
   "id": "57d66eb2-6257-413d-8d59-b5a25c38fcd3",
   "metadata": {},
   "outputs": [
    {
     "name": "stderr",
     "output_type": "stream",
     "text": [
      "You are using a CUDA device ('NVIDIA GeForce RTX 3090') that has Tensor Cores. To properly utilize them, you should set `torch.set_float32_matmul_precision('medium' | 'high')` which will trade-off precision for performance. For more details, read https://pytorch.org/docs/stable/generated/torch.set_float32_matmul_precision.html#torch.set_float32_matmul_precision\n",
      "Restoring states from the checkpoint path at /home/laurar/IM/tracking/FinalModels/TEST5/Checkpoint/models-epoch=02-val_loss=910.53.ckpt\n",
      "LOCAL_RANK: 0 - CUDA_VISIBLE_DEVICES: [0,1,2,3]\n",
      "Loaded model weights from the checkpoint at /home/laurar/IM/tracking/FinalModels/TEST5/Checkpoint/models-epoch=02-val_loss=910.53.ckpt\n"
     ]
    },
    {
     "name": "stdout",
     "output_type": "stream",
     "text": [
      "\n",
      "Testing model \"ICA25_gc\" (data subset)...\n"
     ]
    },
    {
     "name": "stderr",
     "output_type": "stream",
     "text": [
      "/home/laurar/anaconda3/envs/cuda02/lib/python3.10/site-packages/pytorch_lightning/trainer/connectors/data_connector.py:430: PossibleUserWarning: The dataloader, test_dataloader, does not have many workers which may be a bottleneck. Consider increasing the value of the `num_workers` argument` (try 40 which is the number of cpus on this machine) in the `DataLoader` init to improve performance.\n",
      "  rank_zero_warn(\n"
     ]
    },
    {
     "data": {
      "application/vnd.jupyter.widget-view+json": {
       "model_id": "e52859c2efbd430ea5af0ab2608bd06c",
       "version_major": 2,
       "version_minor": 0
      },
      "text/plain": [
       "Testing: 0it [00:00, ?it/s]"
      ]
     },
     "metadata": {},
     "output_type": "display_data"
    },
    {
     "name": "stdout",
     "output_type": "stream",
     "text": [
      "────────────────────────────────────────────────────────────────────────────────────────────────────────────────────────\n",
      "       Test metric             DataLoader 0\n",
      "────────────────────────────────────────────────────────────────────────────────────────────────────────────────────────\n",
      "        test_loss            929.1114501953125\n",
      "        test_mae            29.475109100341797\n",
      "────────────────────────────────────────────────────────────────────────────────────────────────────────────────────────\n",
      "\n",
      "Visualise training of model \"ICA25_gc\" (data subset)...\n"
     ]
    },
    {
     "data": {
      "text/html": [
       "<div>\n",
       "<style scoped>\n",
       "    .dataframe tbody tr th:only-of-type {\n",
       "        vertical-align: middle;\n",
       "    }\n",
       "\n",
       "    .dataframe tbody tr th {\n",
       "        vertical-align: top;\n",
       "    }\n",
       "\n",
       "    .dataframe thead th {\n",
       "        text-align: right;\n",
       "    }\n",
       "</style>\n",
       "<table border=\"1\" class=\"dataframe\">\n",
       "  <thead>\n",
       "    <tr style=\"text-align: right;\">\n",
       "      <th></th>\n",
       "      <th>step</th>\n",
       "      <th>train_loss</th>\n",
       "      <th>val_loss</th>\n",
       "      <th>val_mae</th>\n",
       "      <th>best_val_loss</th>\n",
       "      <th>test_loss</th>\n",
       "      <th>test_mae</th>\n",
       "    </tr>\n",
       "    <tr>\n",
       "      <th>epoch</th>\n",
       "      <th></th>\n",
       "      <th></th>\n",
       "      <th></th>\n",
       "      <th></th>\n",
       "      <th></th>\n",
       "      <th></th>\n",
       "      <th></th>\n",
       "    </tr>\n",
       "  </thead>\n",
       "  <tbody>\n",
       "    <tr>\n",
       "      <th>0</th>\n",
       "      <td>9</td>\n",
       "      <td>3540.361328</td>\n",
       "      <td>NaN</td>\n",
       "      <td>NaN</td>\n",
       "      <td>NaN</td>\n",
       "      <td>NaN</td>\n",
       "      <td>NaN</td>\n",
       "    </tr>\n",
       "    <tr>\n",
       "      <th>0</th>\n",
       "      <td>19</td>\n",
       "      <td>3173.584229</td>\n",
       "      <td>NaN</td>\n",
       "      <td>NaN</td>\n",
       "      <td>NaN</td>\n",
       "      <td>NaN</td>\n",
       "      <td>NaN</td>\n",
       "    </tr>\n",
       "    <tr>\n",
       "      <th>0</th>\n",
       "      <td>29</td>\n",
       "      <td>2947.821289</td>\n",
       "      <td>NaN</td>\n",
       "      <td>NaN</td>\n",
       "      <td>NaN</td>\n",
       "      <td>NaN</td>\n",
       "      <td>NaN</td>\n",
       "    </tr>\n",
       "    <tr>\n",
       "      <th>0</th>\n",
       "      <td>36</td>\n",
       "      <td>NaN</td>\n",
       "      <td>2741.716064</td>\n",
       "      <td>51.821869</td>\n",
       "      <td>2758.525146</td>\n",
       "      <td>NaN</td>\n",
       "      <td>NaN</td>\n",
       "    </tr>\n",
       "    <tr>\n",
       "      <th>1</th>\n",
       "      <td>39</td>\n",
       "      <td>2581.714844</td>\n",
       "      <td>NaN</td>\n",
       "      <td>NaN</td>\n",
       "      <td>NaN</td>\n",
       "      <td>NaN</td>\n",
       "      <td>NaN</td>\n",
       "    </tr>\n",
       "  </tbody>\n",
       "</table>\n",
       "</div>"
      ],
      "text/plain": [
       "       step   train_loss     val_loss    val_mae  best_val_loss  test_loss  \\\n",
       "epoch                                                                        \n",
       "0         9  3540.361328          NaN        NaN            NaN        NaN   \n",
       "0        19  3173.584229          NaN        NaN            NaN        NaN   \n",
       "0        29  2947.821289          NaN        NaN            NaN        NaN   \n",
       "0        36          NaN  2741.716064  51.821869    2758.525146        NaN   \n",
       "1        39  2581.714844          NaN        NaN            NaN        NaN   \n",
       "\n",
       "       test_mae  \n",
       "epoch            \n",
       "0           NaN  \n",
       "0           NaN  \n",
       "0           NaN  \n",
       "0           NaN  \n",
       "1           NaN  "
      ]
     },
     "metadata": {},
     "output_type": "display_data"
    },
    {
     "data": {
      "image/png": "[encoded data removed]",
      "text/plain": [
       "<Figure size 616.125x500 with 1 Axes>"
      ]
     },
     "metadata": {},
     "output_type": "display_data"
    },
    {
     "name": "stderr",
     "output_type": "stream",
     "text": [
      "You are using a CUDA device ('NVIDIA GeForce RTX 3090') that has Tensor Cores. To properly utilize them, you should set `torch.set_float32_matmul_precision('medium' | 'high')` which will trade-off precision for performance. For more details, read https://pytorch.org/docs/stable/generated/torch.set_float32_matmul_precision.html#torch.set_float32_matmul_precision\n",
      "LOCAL_RANK: 0 - CUDA_VISIBLE_DEVICES: [0,1,2,3]\n",
      "/home/laurar/anaconda3/envs/cuda02/lib/python3.10/site-packages/pytorch_lightning/trainer/connectors/data_connector.py:430: PossibleUserWarning: The dataloader, predict_dataloader, does not have many workers which may be a bottleneck. Consider increasing the value of the `num_workers` argument` (try 40 which is the number of cpus on this machine) in the `DataLoader` init to improve performance.\n",
      "  rank_zero_warn(\n"
     ]
    },
    {
     "data": {
      "application/vnd.jupyter.widget-view+json": {
       "model_id": "9dc1f312bc3f43ffb105a2f2298c4f9e",
       "version_major": 2,
       "version_minor": 0
      },
      "text/plain": [
       "Predicting: 0it [00:00, ?it/s]"
      ]
     },
     "metadata": {},
     "output_type": "display_data"
    }
   ],
   "source": [
    "utils.test_model(ICA25_gc_test5, ICA25_gc_data_test5, config_ICA25_gc)\n",
    "ICA25_gc_preds_test5 = utils.predict_w_model(ICA25_gc_test5, ICA25_gc_model_test5, ICA25_gc_data_test5, path_test5)"
   ]
  },
  {
   "cell_type": "code",
   "execution_count": 8,
   "id": "718b5639-2e8e-4d5d-949a-7885c3e2cb76",
   "metadata": {},
   "outputs": [
    {
     "name": "stdout",
     "output_type": "stream",
     "text": [
      "len train ids: 4721\n",
      "len val ids: 590\n",
      "len test ids: 591\n",
      "intersection train/val: set()\n",
      "intersection train/test: set()\n",
      "intersection val/test: set()\n",
      "1181\n",
      "1181\n"
     ]
    },
    {
     "data": {
      "text/plain": [
       "1181"
      ]
     },
     "execution_count": 8,
     "metadata": {},
     "output_type": "execute_result"
    }
   ],
   "source": [
    "#data_overview_test3 = utils.load_datainfo(path_test3, 'overview')\n",
    "train_idx_test5 = utils.load_datainfo(path_test5, 'train_idx')\n",
    "val_idx_test5 = utils.load_datainfo(path_test5, 'val_idx')\n",
    "test_idx_test5 = utils.load_datainfo(path_test5, 'test_idx')\n",
    "\n",
    "train_ids_test5 = set(train_idx_test5)\n",
    "print('len train ids:',len(train_ids_test5))\n",
    "val_ids_test5 = set(val_idx_test5)\n",
    "print('len val ids:',len(val_ids_test5))\n",
    "test_ids_test5 = set(test_idx_test5)\n",
    "print('len test ids:',len(test_ids_test5))\n",
    "\n",
    "print('intersection train/val:', train_ids_test5.intersection(val_ids_test5))\n",
    "print('intersection train/test:', train_ids_test5.intersection(test_ids_test5))\n",
    "print('intersection val/test:', val_ids_test5.intersection(test_ids_test5))\n",
    "\n",
    "data_overview_test5 = utils.get_metadata(path_test5, ukbb_dir, index=False)\n",
    "# load predictions\n",
    "ICA25_gc_preds_test5 = pd.read_csv(path_test5+'data_info/predictions.csv')\n",
    "# add predictions to overview\n",
    "data_overview_test5 = data_overview_test5.merge(ICA25_gc_preds_test5, how='left', on='eid')\n",
    "\n",
    "valtest_overview_test5 = data_overview_test5[data_overview_test5['split'] != 'train']\n",
    "valtest_id_test5 = set(valtest_overview_test5['eid'])\n",
    "preds_id_25_test5 = set(ICA25_gc_preds_test5['eid'])\n",
    "print(len(valtest_id_test5))\n",
    "print(len(preds_id_25_test5))\n",
    "len(valtest_id_test5.intersection(preds_id_25_test5))"
   ]
  },
  {
   "cell_type": "code",
   "execution_count": 9,
   "id": "f0c003db-bdae-47f0-879a-e0c4bea7fd32",
   "metadata": {},
   "outputs": [
    {
     "data": {
      "text/html": [
       "<div>\n",
       "<style scoped>\n",
       "    .dataframe tbody tr th:only-of-type {\n",
       "        vertical-align: middle;\n",
       "    }\n",
       "\n",
       "    .dataframe tbody tr th {\n",
       "        vertical-align: top;\n",
       "    }\n",
       "\n",
       "    .dataframe thead th {\n",
       "        text-align: right;\n",
       "    }\n",
       "</style>\n",
       "<table border=\"1\" class=\"dataframe\">\n",
       "  <thead>\n",
       "    <tr style=\"text-align: right;\">\n",
       "      <th></th>\n",
       "      <th>eid</th>\n",
       "      <th>age</th>\n",
       "      <th>rfmri_ica25_ts</th>\n",
       "      <th>split</th>\n",
       "      <th>bmi</th>\n",
       "      <th>digit substitution</th>\n",
       "      <th>education</th>\n",
       "      <th>fluid intelligence</th>\n",
       "      <th>grip</th>\n",
       "      <th>depressive episode</th>\n",
       "      <th>all depression</th>\n",
       "      <th>recurrent depressive disorder</th>\n",
       "      <th>multiple sclerosis</th>\n",
       "      <th>sex</th>\n",
       "      <th>weekly beer</th>\n",
       "      <th>genetic pc 1</th>\n",
       "      <th>genetic pc 2</th>\n",
       "      <th>genetic pc 3</th>\n",
       "      <th>batch_nb</th>\n",
       "      <th>predicted_age</th>\n",
       "    </tr>\n",
       "  </thead>\n",
       "  <tbody>\n",
       "    <tr>\n",
       "      <th>0</th>\n",
       "      <td>1000014</td>\n",
       "      <td>61</td>\n",
       "      <td>/ritter/share/data/UKBB/ukb_data/bids/sub-1000...</td>\n",
       "      <td>train</td>\n",
       "      <td>23.4720</td>\n",
       "      <td>16.0</td>\n",
       "      <td>10.0</td>\n",
       "      <td>8.0</td>\n",
       "      <td>18.0</td>\n",
       "      <td>NaN</td>\n",
       "      <td>NaN</td>\n",
       "      <td>NaN</td>\n",
       "      <td>NaN</td>\n",
       "      <td>0</td>\n",
       "      <td>0.0</td>\n",
       "      <td>-9.69796</td>\n",
       "      <td>4.38910</td>\n",
       "      <td>-1.121000</td>\n",
       "      <td>NaN</td>\n",
       "      <td>NaN</td>\n",
       "    </tr>\n",
       "    <tr>\n",
       "      <th>1</th>\n",
       "      <td>1000023</td>\n",
       "      <td>66</td>\n",
       "      <td>/ritter/share/data/UKBB/ukb_data/bids/sub-1000...</td>\n",
       "      <td>train</td>\n",
       "      <td>30.7894</td>\n",
       "      <td>NaN</td>\n",
       "      <td>7.0</td>\n",
       "      <td>4.0</td>\n",
       "      <td>16.0</td>\n",
       "      <td>NaN</td>\n",
       "      <td>NaN</td>\n",
       "      <td>NaN</td>\n",
       "      <td>0.0</td>\n",
       "      <td>1</td>\n",
       "      <td>3.0</td>\n",
       "      <td>-13.23580</td>\n",
       "      <td>3.27728</td>\n",
       "      <td>-2.250050</td>\n",
       "      <td>NaN</td>\n",
       "      <td>NaN</td>\n",
       "    </tr>\n",
       "    <tr>\n",
       "      <th>2</th>\n",
       "      <td>1000030</td>\n",
       "      <td>65</td>\n",
       "      <td>/ritter/share/data/UKBB/ukb_data/bids/sub-1000...</td>\n",
       "      <td>train</td>\n",
       "      <td>21.2569</td>\n",
       "      <td>NaN</td>\n",
       "      <td>20.0</td>\n",
       "      <td>8.0</td>\n",
       "      <td>18.0</td>\n",
       "      <td>1.0</td>\n",
       "      <td>1.0</td>\n",
       "      <td>1.0</td>\n",
       "      <td>0.0</td>\n",
       "      <td>0</td>\n",
       "      <td>NaN</td>\n",
       "      <td>-10.69070</td>\n",
       "      <td>4.10909</td>\n",
       "      <td>-0.344172</td>\n",
       "      <td>NaN</td>\n",
       "      <td>NaN</td>\n",
       "    </tr>\n",
       "    <tr>\n",
       "      <th>3</th>\n",
       "      <td>1000041</td>\n",
       "      <td>61</td>\n",
       "      <td>/ritter/share/data/UKBB/ukb_data/bids/sub-1000...</td>\n",
       "      <td>train</td>\n",
       "      <td>22.7013</td>\n",
       "      <td>23.0</td>\n",
       "      <td>15.0</td>\n",
       "      <td>3.0</td>\n",
       "      <td>38.0</td>\n",
       "      <td>0.0</td>\n",
       "      <td>0.0</td>\n",
       "      <td>0.0</td>\n",
       "      <td>0.0</td>\n",
       "      <td>1</td>\n",
       "      <td>16.0</td>\n",
       "      <td>-13.54560</td>\n",
       "      <td>4.86490</td>\n",
       "      <td>-0.990955</td>\n",
       "      <td>NaN</td>\n",
       "      <td>NaN</td>\n",
       "    </tr>\n",
       "    <tr>\n",
       "      <th>4</th>\n",
       "      <td>1000059</td>\n",
       "      <td>68</td>\n",
       "      <td>/ritter/share/data/UKBB/ukb_data/bids/sub-1000...</td>\n",
       "      <td>val</td>\n",
       "      <td>NaN</td>\n",
       "      <td>22.0</td>\n",
       "      <td>20.0</td>\n",
       "      <td>7.0</td>\n",
       "      <td>NaN</td>\n",
       "      <td>0.0</td>\n",
       "      <td>0.0</td>\n",
       "      <td>0.0</td>\n",
       "      <td>NaN</td>\n",
       "      <td>0</td>\n",
       "      <td>NaN</td>\n",
       "      <td>-11.27560</td>\n",
       "      <td>4.80936</td>\n",
       "      <td>-1.093500</td>\n",
       "      <td>4.0</td>\n",
       "      <td>35.748028</td>\n",
       "    </tr>\n",
       "    <tr>\n",
       "      <th>...</th>\n",
       "      <td>...</td>\n",
       "      <td>...</td>\n",
       "      <td>...</td>\n",
       "      <td>...</td>\n",
       "      <td>...</td>\n",
       "      <td>...</td>\n",
       "      <td>...</td>\n",
       "      <td>...</td>\n",
       "      <td>...</td>\n",
       "      <td>...</td>\n",
       "      <td>...</td>\n",
       "      <td>...</td>\n",
       "      <td>...</td>\n",
       "      <td>...</td>\n",
       "      <td>...</td>\n",
       "      <td>...</td>\n",
       "      <td>...</td>\n",
       "      <td>...</td>\n",
       "      <td>...</td>\n",
       "      <td>...</td>\n",
       "    </tr>\n",
       "    <tr>\n",
       "      <th>5897</th>\n",
       "      <td>1449303</td>\n",
       "      <td>60</td>\n",
       "      <td>/ritter/share/data/UKBB/ukb_data/bids/sub-1449...</td>\n",
       "      <td>train</td>\n",
       "      <td>30.7923</td>\n",
       "      <td>17.0</td>\n",
       "      <td>13.0</td>\n",
       "      <td>7.0</td>\n",
       "      <td>27.0</td>\n",
       "      <td>0.0</td>\n",
       "      <td>0.0</td>\n",
       "      <td>0.0</td>\n",
       "      <td>1.0</td>\n",
       "      <td>0</td>\n",
       "      <td>0.0</td>\n",
       "      <td>-12.29960</td>\n",
       "      <td>3.90043</td>\n",
       "      <td>-0.868765</td>\n",
       "      <td>NaN</td>\n",
       "      <td>NaN</td>\n",
       "    </tr>\n",
       "    <tr>\n",
       "      <th>5898</th>\n",
       "      <td>1449311</td>\n",
       "      <td>69</td>\n",
       "      <td>/ritter/share/data/UKBB/ukb_data/bids/sub-1449...</td>\n",
       "      <td>test</td>\n",
       "      <td>27.6795</td>\n",
       "      <td>25.0</td>\n",
       "      <td>20.0</td>\n",
       "      <td>6.0</td>\n",
       "      <td>28.0</td>\n",
       "      <td>0.0</td>\n",
       "      <td>0.0</td>\n",
       "      <td>0.0</td>\n",
       "      <td>0.0</td>\n",
       "      <td>0</td>\n",
       "      <td>0.0</td>\n",
       "      <td>-15.04290</td>\n",
       "      <td>3.40042</td>\n",
       "      <td>-1.784880</td>\n",
       "      <td>0.0</td>\n",
       "      <td>35.578278</td>\n",
       "    </tr>\n",
       "    <tr>\n",
       "      <th>5899</th>\n",
       "      <td>1449335</td>\n",
       "      <td>61</td>\n",
       "      <td>/ritter/share/data/UKBB/ukb_data/bids/sub-1449...</td>\n",
       "      <td>train</td>\n",
       "      <td>28.5582</td>\n",
       "      <td>20.0</td>\n",
       "      <td>19.0</td>\n",
       "      <td>8.0</td>\n",
       "      <td>46.0</td>\n",
       "      <td>0.0</td>\n",
       "      <td>0.0</td>\n",
       "      <td>0.0</td>\n",
       "      <td>0.0</td>\n",
       "      <td>1</td>\n",
       "      <td>2.0</td>\n",
       "      <td>-10.48620</td>\n",
       "      <td>1.69986</td>\n",
       "      <td>-2.722550</td>\n",
       "      <td>NaN</td>\n",
       "      <td>NaN</td>\n",
       "    </tr>\n",
       "    <tr>\n",
       "      <th>5900</th>\n",
       "      <td>1449344</td>\n",
       "      <td>62</td>\n",
       "      <td>/ritter/share/data/UKBB/ukb_data/bids/sub-1449...</td>\n",
       "      <td>test</td>\n",
       "      <td>19.8645</td>\n",
       "      <td>22.0</td>\n",
       "      <td>20.0</td>\n",
       "      <td>6.0</td>\n",
       "      <td>30.0</td>\n",
       "      <td>0.0</td>\n",
       "      <td>0.0</td>\n",
       "      <td>0.0</td>\n",
       "      <td>0.0</td>\n",
       "      <td>0</td>\n",
       "      <td>NaN</td>\n",
       "      <td>-14.75190</td>\n",
       "      <td>4.25077</td>\n",
       "      <td>-3.152400</td>\n",
       "      <td>0.0</td>\n",
       "      <td>35.226307</td>\n",
       "    </tr>\n",
       "    <tr>\n",
       "      <th>5901</th>\n",
       "      <td>1449356</td>\n",
       "      <td>52</td>\n",
       "      <td>/ritter/share/data/UKBB/ukb_data/bids/sub-1449...</td>\n",
       "      <td>train</td>\n",
       "      <td>33.1680</td>\n",
       "      <td>15.0</td>\n",
       "      <td>10.0</td>\n",
       "      <td>3.0</td>\n",
       "      <td>30.0</td>\n",
       "      <td>0.0</td>\n",
       "      <td>0.0</td>\n",
       "      <td>0.0</td>\n",
       "      <td>0.0</td>\n",
       "      <td>0</td>\n",
       "      <td>0.0</td>\n",
       "      <td>-13.38490</td>\n",
       "      <td>4.56366</td>\n",
       "      <td>0.462483</td>\n",
       "      <td>NaN</td>\n",
       "      <td>NaN</td>\n",
       "    </tr>\n",
       "  </tbody>\n",
       "</table>\n",
       "<p>5902 rows × 20 columns</p>\n",
       "</div>"
      ],
      "text/plain": [
       "          eid  age                                     rfmri_ica25_ts  split  \\\n",
       "0     1000014   61  /ritter/share/data/UKBB/ukb_data/bids/sub-1000...  train   \n",
       "1     1000023   66  /ritter/share/data/UKBB/ukb_data/bids/sub-1000...  train   \n",
       "2     1000030   65  /ritter/share/data/UKBB/ukb_data/bids/sub-1000...  train   \n",
       "3     1000041   61  /ritter/share/data/UKBB/ukb_data/bids/sub-1000...  train   \n",
       "4     1000059   68  /ritter/share/data/UKBB/ukb_data/bids/sub-1000...    val   \n",
       "...       ...  ...                                                ...    ...   \n",
       "5897  1449303   60  /ritter/share/data/UKBB/ukb_data/bids/sub-1449...  train   \n",
       "5898  1449311   69  /ritter/share/data/UKBB/ukb_data/bids/sub-1449...   test   \n",
       "5899  1449335   61  /ritter/share/data/UKBB/ukb_data/bids/sub-1449...  train   \n",
       "5900  1449344   62  /ritter/share/data/UKBB/ukb_data/bids/sub-1449...   test   \n",
       "5901  1449356   52  /ritter/share/data/UKBB/ukb_data/bids/sub-1449...  train   \n",
       "\n",
       "          bmi  digit substitution  education  fluid intelligence  grip  \\\n",
       "0     23.4720                16.0       10.0                 8.0  18.0   \n",
       "1     30.7894                 NaN        7.0                 4.0  16.0   \n",
       "2     21.2569                 NaN       20.0                 8.0  18.0   \n",
       "3     22.7013                23.0       15.0                 3.0  38.0   \n",
       "4         NaN                22.0       20.0                 7.0   NaN   \n",
       "...       ...                 ...        ...                 ...   ...   \n",
       "5897  30.7923                17.0       13.0                 7.0  27.0   \n",
       "5898  27.6795                25.0       20.0                 6.0  28.0   \n",
       "5899  28.5582                20.0       19.0                 8.0  46.0   \n",
       "5900  19.8645                22.0       20.0                 6.0  30.0   \n",
       "5901  33.1680                15.0       10.0                 3.0  30.0   \n",
       "\n",
       "      depressive episode  all depression  recurrent depressive disorder  \\\n",
       "0                    NaN             NaN                            NaN   \n",
       "1                    NaN             NaN                            NaN   \n",
       "2                    1.0             1.0                            1.0   \n",
       "3                    0.0             0.0                            0.0   \n",
       "4                    0.0             0.0                            0.0   \n",
       "...                  ...             ...                            ...   \n",
       "5897                 0.0             0.0                            0.0   \n",
       "5898                 0.0             0.0                            0.0   \n",
       "5899                 0.0             0.0                            0.0   \n",
       "5900                 0.0             0.0                            0.0   \n",
       "5901                 0.0             0.0                            0.0   \n",
       "\n",
       "      multiple sclerosis  sex  weekly beer  genetic pc 1  genetic pc 2  \\\n",
       "0                    NaN    0          0.0      -9.69796       4.38910   \n",
       "1                    0.0    1          3.0     -13.23580       3.27728   \n",
       "2                    0.0    0          NaN     -10.69070       4.10909   \n",
       "3                    0.0    1         16.0     -13.54560       4.86490   \n",
       "4                    NaN    0          NaN     -11.27560       4.80936   \n",
       "...                  ...  ...          ...           ...           ...   \n",
       "5897                 1.0    0          0.0     -12.29960       3.90043   \n",
       "5898                 0.0    0          0.0     -15.04290       3.40042   \n",
       "5899                 0.0    1          2.0     -10.48620       1.69986   \n",
       "5900                 0.0    0          NaN     -14.75190       4.25077   \n",
       "5901                 0.0    0          0.0     -13.38490       4.56366   \n",
       "\n",
       "      genetic pc 3  batch_nb  predicted_age  \n",
       "0        -1.121000       NaN            NaN  \n",
       "1        -2.250050       NaN            NaN  \n",
       "2        -0.344172       NaN            NaN  \n",
       "3        -0.990955       NaN            NaN  \n",
       "4        -1.093500       4.0      35.748028  \n",
       "...            ...       ...            ...  \n",
       "5897     -0.868765       NaN            NaN  \n",
       "5898     -1.784880       0.0      35.578278  \n",
       "5899     -2.722550       NaN            NaN  \n",
       "5900     -3.152400       0.0      35.226307  \n",
       "5901      0.462483       NaN            NaN  \n",
       "\n",
       "[5902 rows x 20 columns]"
      ]
     },
     "execution_count": 9,
     "metadata": {},
     "output_type": "execute_result"
    }
   ],
   "source": [
    "data_overview_test5"
   ]
  },
  {
   "cell_type": "code",
   "execution_count": null,
   "id": "ca4a3a49-55df-428c-86f8-64e9af6df6c9",
   "metadata": {},
   "outputs": [],
   "source": []
  },
  {
   "cell_type": "code",
   "execution_count": null,
   "id": "667ad7c1-cba7-4fd5-a952-f0379567861d",
   "metadata": {},
   "outputs": [],
   "source": []
  },
  {
   "cell_type": "code",
   "execution_count": null,
   "id": "1bd0b402-c271-40a2-afaf-c5ab8832a734",
   "metadata": {},
   "outputs": [],
   "source": []
  },
  {
   "cell_type": "code",
   "execution_count": null,
   "id": "ba721b96-6865-40e0-812a-e49b38eb65d4",
   "metadata": {},
   "outputs": [],
   "source": []
  },
  {
   "cell_type": "code",
   "execution_count": null,
   "id": "ddfefc10-dcac-4e59-aad8-eb28d82a8f69",
   "metadata": {},
   "outputs": [],
   "source": []
  },
  {
   "cell_type": "code",
   "execution_count": 115,
   "id": "f4814cd6-c298-4e32-942a-4e64969b6145",
   "metadata": {
    "collapsed": true,
    "jupyter": {
     "outputs_hidden": true
    },
    "tags": []
   },
   "outputs": [
    {
     "data": {
      "text/plain": [
       "[1000059,\n",
       " 1000077,\n",
       " 1000264,\n",
       " 1000322,\n",
       " 1000345,\n",
       " 1000391,\n",
       " 1000410,\n",
       " 1000528,\n",
       " 1000544,\n",
       " 1000572,\n",
       " 1000682,\n",
       " 1000712,\n",
       " 1000866,\n",
       " 1000870,\n",
       " 1000892,\n",
       " 1000954,\n",
       " 1000993,\n",
       " 1001006,\n",
       " 1001085,\n",
       " 1001117,\n",
       " 1001136,\n",
       " 1001191,\n",
       " 1001214,\n",
       " 1001223,\n",
       " 1001262,\n",
       " 1001295,\n",
       " 1001311,\n",
       " 1001372,\n",
       " 1001389,\n",
       " 1001419,\n",
       " 1001476,\n",
       " 1001493,\n",
       " 1001510,\n",
       " 1001631,\n",
       " 1001647,\n",
       " 1001721,\n",
       " 1001757,\n",
       " 1001843,\n",
       " 1001913,\n",
       " 1001938,\n",
       " 1001946,\n",
       " 1001969,\n",
       " 1001981,\n",
       " 1002058,\n",
       " 1002080,\n",
       " 1002168,\n",
       " 1002194,\n",
       " 1002256,\n",
       " 1002314,\n",
       " 1002377,\n",
       " 1002443,\n",
       " 1002547,\n",
       " 1002607,\n",
       " 1002634,\n",
       " 1002724,\n",
       " 1002848,\n",
       " 1002860,\n",
       " 1003051,\n",
       " 1003065,\n",
       " 1003107,\n",
       " 1003249,\n",
       " 1003325,\n",
       " 1003360,\n",
       " 1003436,\n",
       " 1003480,\n",
       " 1003524,\n",
       " 1003575,\n",
       " 1003639,\n",
       " 1003653,\n",
       " 1003671,\n",
       " 1003702,\n",
       " 1003859,\n",
       " 1003990,\n",
       " 1004013,\n",
       " 1004069,\n",
       " 1004236,\n",
       " 1004302,\n",
       " 1004331,\n",
       " 1004396,\n",
       " 1004470,\n",
       " 1004598,\n",
       " 1004603,\n",
       " 1004656,\n",
       " 1004899,\n",
       " 1005200,\n",
       " 1005213,\n",
       " 1005252,\n",
       " 1005269,\n",
       " 1005365,\n",
       " 1005427,\n",
       " 1005439,\n",
       " 1005468,\n",
       " 1005645,\n",
       " 1005783,\n",
       " 1005856,\n",
       " 1005914,\n",
       " 1005962,\n",
       " 1006010,\n",
       " 1006034,\n",
       " 1006078,\n",
       " 1006116,\n",
       " 1006120,\n",
       " 1006165,\n",
       " 1006179,\n",
       " 1006198,\n",
       " 1006321,\n",
       " 1006392,\n",
       " 1006506,\n",
       " 1006568,\n",
       " 1006600,\n",
       " 1006669,\n",
       " 1006703,\n",
       " 1006744,\n",
       " 1006756,\n",
       " 1006772,\n",
       " 1006891,\n",
       " 1006964,\n",
       " 1006988,\n",
       " 1006996,\n",
       " 1007128,\n",
       " 1007240,\n",
       " 1007268,\n",
       " 1007310,\n",
       " 1007424,\n",
       " 1007446,\n",
       " 1007452,\n",
       " 1007469,\n",
       " 1007497,\n",
       " 1007554,\n",
       " 1007576,\n",
       " 1007630,\n",
       " 1007677,\n",
       " 1007765,\n",
       " 1007779,\n",
       " 1007873,\n",
       " 1007888,\n",
       " 1007917,\n",
       " 1007963,\n",
       " 1008028,\n",
       " 1008149,\n",
       " 1008192,\n",
       " 1008255,\n",
       " 1008368,\n",
       " 1008371,\n",
       " 1008429,\n",
       " 1008464,\n",
       " 1008562,\n",
       " 1008654,\n",
       " 1008687,\n",
       " 1008717,\n",
       " 1008722,\n",
       " 1008745,\n",
       " 1008763,\n",
       " 1008774,\n",
       " 1008791,\n",
       " 1008838,\n",
       " 1008951,\n",
       " 1009029,\n",
       " 1009119,\n",
       " 1009148,\n",
       " 1009154,\n",
       " 1009160,\n",
       " 1009193,\n",
       " 1009243,\n",
       " 1009279,\n",
       " 1009346,\n",
       " 1009435,\n",
       " 1009489,\n",
       " 1009517,\n",
       " 1009574,\n",
       " 1009580,\n",
       " 1009670,\n",
       " 1009692,\n",
       " 1009723,\n",
       " 1009730,\n",
       " 1009777,\n",
       " 1009871,\n",
       " 1009910,\n",
       " 1009942,\n",
       " 1009978,\n",
       " 1009983,\n",
       " 1010033,\n",
       " 1010057,\n",
       " 1010084,\n",
       " 1010103,\n",
       " 1010172,\n",
       " 1010190,\n",
       " 1010342,\n",
       " 1010413,\n",
       " 1010469,\n",
       " 1010548,\n",
       " 1010720,\n",
       " 1010743,\n",
       " 1010782,\n",
       " 1010802,\n",
       " 1010815,\n",
       " 1010831,\n",
       " 1010864,\n",
       " 1010958,\n",
       " 1011325,\n",
       " 1011332,\n",
       " 1011463,\n",
       " 1011480,\n",
       " 1011552,\n",
       " 1011808,\n",
       " 1011859,\n",
       " 1011877,\n",
       " 1011944,\n",
       " 1011967,\n",
       " 1012010,\n",
       " 1012026,\n",
       " 1012078,\n",
       " 1012137,\n",
       " 1012232,\n",
       " 1012321,\n",
       " 1012349,\n",
       " 1012357,\n",
       " 1012495,\n",
       " 1012539,\n",
       " 1012594,\n",
       " 1012711,\n",
       " 1012789,\n",
       " 1012790,\n",
       " 1012858,\n",
       " 1012863,\n",
       " 1012902,\n",
       " 1012915,\n",
       " 1012931,\n",
       " 1012947,\n",
       " 1012988,\n",
       " 1012996,\n",
       " 1013008,\n",
       " 1013138,\n",
       " 1013181,\n",
       " 1013215,\n",
       " 1013589,\n",
       " 1013616,\n",
       " 1013679,\n",
       " 1013698,\n",
       " 1013739,\n",
       " 1013821,\n",
       " 1013870,\n",
       " 1013884,\n",
       " 1014105,\n",
       " 1014133,\n",
       " 1014353,\n",
       " 1014429,\n",
       " 1014450,\n",
       " 1014508,\n",
       " 1014619,\n",
       " 1014693,\n",
       " 1014736,\n",
       " 1014758,\n",
       " 1014780,\n",
       " 1014813,\n",
       " 1014875,\n",
       " 1014897,\n",
       " 1014904,\n",
       " 1014943,\n",
       " 1015022,\n",
       " 1015074,\n",
       " 1015112,\n",
       " 1015194,\n",
       " 1015211,\n",
       " 1015244,\n",
       " 1015256,\n",
       " 1015267,\n",
       " 1015289,\n",
       " 1015341,\n",
       " 1015451,\n",
       " 1015550,\n",
       " 1015610,\n",
       " 1015642,\n",
       " 1015713,\n",
       " 1015966,\n",
       " 1016046,\n",
       " 1016052,\n",
       " 1016114,\n",
       " 1016217,\n",
       " 1016258,\n",
       " 1016291,\n",
       " 1016373,\n",
       " 1016470,\n",
       " 1016504,\n",
       " 1016543,\n",
       " 1016582,\n",
       " 1016635,\n",
       " 1016689,\n",
       " 1016748,\n",
       " 1016807,\n",
       " 1016861,\n",
       " 1016899,\n",
       " 1017047,\n",
       " 1017064,\n",
       " 1017237,\n",
       " 1017298,\n",
       " 1017456,\n",
       " 1017467,\n",
       " 1017490,\n",
       " 1017563,\n",
       " 1017670,\n",
       " 1017708,\n",
       " 1017714,\n",
       " 1017961,\n",
       " 1018093,\n",
       " 1018200,\n",
       " 1018275,\n",
       " 1018304,\n",
       " 1018343,\n",
       " 1018365,\n",
       " 1018398,\n",
       " 1018427,\n",
       " 1018471,\n",
       " 1018533,\n",
       " 1018566,\n",
       " 1018570,\n",
       " 1018622,\n",
       " 1018645,\n",
       " 1018658,\n",
       " 1018742,\n",
       " 1018755,\n",
       " 1018783,\n",
       " 1018811,\n",
       " 1018856,\n",
       " 1018890,\n",
       " 1018923,\n",
       " 1018986,\n",
       " 1019006,\n",
       " 1019012,\n",
       " 1019277,\n",
       " 1019419,\n",
       " 1019448,\n",
       " 1019476,\n",
       " 1019510,\n",
       " 1019647,\n",
       " 1019673,\n",
       " 1019688,\n",
       " 1019696,\n",
       " 1019851,\n",
       " 1019865,\n",
       " 1019900,\n",
       " 1019952,\n",
       " 1020067,\n",
       " 1020464,\n",
       " 1020523,\n",
       " 1020541,\n",
       " 1020559,\n",
       " 1020619,\n",
       " 1020654,\n",
       " 1020916,\n",
       " 1020998,\n",
       " 1021045,\n",
       " 1021063,\n",
       " 1021074,\n",
       " 1021080,\n",
       " 1021228,\n",
       " 1021314,\n",
       " 1021362,\n",
       " 1021443,\n",
       " 1021683,\n",
       " 1021724,\n",
       " 1021893,\n",
       " 1021957,\n",
       " 1022012,\n",
       " 1022027,\n",
       " 1022117,\n",
       " 1022214,\n",
       " 1022259,\n",
       " 1022277,\n",
       " 1022303,\n",
       " 1022372,\n",
       " 1022390,\n",
       " 1022460,\n",
       " 1022476,\n",
       " 1022688,\n",
       " 1022718,\n",
       " 1022733,\n",
       " 1022804,\n",
       " 1022851,\n",
       " 1022879,\n",
       " 1022946,\n",
       " 1022975,\n",
       " 1023019,\n",
       " 1023048,\n",
       " 1023060,\n",
       " 1023102,\n",
       " 1023150,\n",
       " 1023297,\n",
       " 1023316,\n",
       " 1023379,\n",
       " 1023439,\n",
       " 1023518,\n",
       " 1023617,\n",
       " 1023674,\n",
       " 1023680,\n",
       " 1023710,\n",
       " 1023742,\n",
       " 1023835,\n",
       " 1023923,\n",
       " 1023959,\n",
       " 1023995,\n",
       " 1024057,\n",
       " 1024070,\n",
       " 1024128,\n",
       " 1024135,\n",
       " 1024144,\n",
       " 1024326,\n",
       " 1024361,\n",
       " 1024399,\n",
       " 1024446,\n",
       " 1024481,\n",
       " 1024519,\n",
       " 1024554,\n",
       " 1024560,\n",
       " 1024587,\n",
       " 1024614,\n",
       " 1024659,\n",
       " 1024716,\n",
       " 1024720,\n",
       " 1024737,\n",
       " 1024743,\n",
       " 1024751,\n",
       " 1024864,\n",
       " 1024958,\n",
       " 1024974,\n",
       " 1025098,\n",
       " 1025107,\n",
       " 1025183,\n",
       " 1025218,\n",
       " 1025233,\n",
       " 1025348,\n",
       " 1025360,\n",
       " 1025422,\n",
       " 1025546,\n",
       " 1025671,\n",
       " 1025685,\n",
       " 1025702,\n",
       " 1025729,\n",
       " 1025972,\n",
       " 1026064,\n",
       " 1026073,\n",
       " 1026088,\n",
       " 1026125,\n",
       " 1026160,\n",
       " 1026204,\n",
       " 1026237,\n",
       " 1026251,\n",
       " 1026265,\n",
       " 1026279,\n",
       " 1026300,\n",
       " 1026375,\n",
       " 1026381,\n",
       " 1026397,\n",
       " 1026411,\n",
       " 1026428,\n",
       " 1026435,\n",
       " 1026456,\n",
       " 1026574,\n",
       " 1026684,\n",
       " 1026708,\n",
       " 1026827,\n",
       " 1026868,\n",
       " 1026910,\n",
       " 1026983,\n",
       " 1027000,\n",
       " 1027081,\n",
       " 1027195,\n",
       " 1027347,\n",
       " 1027350,\n",
       " 1027364,\n",
       " 1027418,\n",
       " 1027484,\n",
       " 1027635,\n",
       " 1027656,\n",
       " 1027725,\n",
       " 1027754,\n",
       " 1027776,\n",
       " 1027861,\n",
       " 1027883,\n",
       " 1027953,\n",
       " 1028095,\n",
       " 1028169,\n",
       " 1028250,\n",
       " 1028380,\n",
       " 1028426,\n",
       " 1028434,\n",
       " 1028461,\n",
       " 1028483,\n",
       " 1028528,\n",
       " 1028643,\n",
       " 1028712,\n",
       " 1028727,\n",
       " 1028884,\n",
       " 1028919,\n",
       " 1028932,\n",
       " 1028948,\n",
       " 1028960,\n",
       " 1029083,\n",
       " 1029137,\n",
       " 1029143,\n",
       " 1029151,\n",
       " 1029179,\n",
       " 1029366,\n",
       " 1029392,\n",
       " 1029408,\n",
       " 1029527,\n",
       " 1029539,\n",
       " 1029540,\n",
       " 1029553,\n",
       " 1029568,\n",
       " 1029624,\n",
       " 1029646,\n",
       " 1029711,\n",
       " 1029772,\n",
       " 1029858,\n",
       " 1029863,\n",
       " 1029891,\n",
       " 1030001,\n",
       " 1030275,\n",
       " 1030281,\n",
       " 1030297,\n",
       " 1030379,\n",
       " 1030439,\n",
       " 1030471,\n",
       " 1030494,\n",
       " 1030505,\n",
       " 1030566,\n",
       " 1030570,\n",
       " 1030617,\n",
       " 1030622,\n",
       " 1030663,\n",
       " 1030828,\n",
       " 1030995,\n",
       " 1031026,\n",
       " 1031042,\n",
       " 1031099,\n",
       " 1031179,\n",
       " 1031198,\n",
       " 1031225,\n",
       " 1031333,\n",
       " 1031392,\n",
       " 1031512,\n",
       " 1031585,\n",
       " 1031703,\n",
       " 1031756,\n",
       " 1031845,\n",
       " 1031988,\n",
       " 1032043,\n",
       " 1032270,\n",
       " 1032436,\n",
       " 1032445,\n",
       " 1032788,\n",
       " 1032862,\n",
       " 1032944,\n",
       " 1032956,\n",
       " 1033017,\n",
       " 1033022,\n",
       " 1033080,\n",
       " 1033244,\n",
       " 1033267,\n",
       " 1033308,\n",
       " 1033323,\n",
       " 1033359,\n",
       " 1033465,\n",
       " 1033564,\n",
       " 1033573,\n",
       " 1033596,\n",
       " 1033634,\n",
       " 1033683,\n",
       " 1033746,\n",
       " 1033887,\n",
       " 1033984,\n",
       " 1034002,\n",
       " 1034088,\n",
       " 1034193,\n",
       " 1034216,\n",
       " 1034251,\n",
       " 1034265,\n",
       " 1034279,\n",
       " 1034313,\n",
       " 1034369,\n",
       " 1034381,\n",
       " 1034456,\n",
       " 1034517,\n",
       " 1034522,\n",
       " 1034558,\n",
       " 1034670,\n",
       " 1035113,\n",
       " 1035138,\n",
       " 1035273,\n",
       " 1035296,\n",
       " 1035461,\n",
       " 1035499,\n",
       " 1035528,\n",
       " 1035572,\n",
       " 1035651,\n",
       " 1035771,\n",
       " 1035794,\n",
       " 1035821,\n",
       " 1035932,\n",
       " 1035987,\n",
       " 1036040,\n",
       " 1036094,\n",
       " 1036136,\n",
       " 1036180,\n",
       " 1036303,\n",
       " 1036401,\n",
       " 1036476,\n",
       " 1036487,\n",
       " 1036507,\n",
       " 1036534,\n",
       " 1036578,\n",
       " 1036583,\n",
       " 1036602,\n",
       " 1036629,\n",
       " 1036631,\n",
       " 1036664,\n",
       " 1036757,\n",
       " 1036900,\n",
       " 1036969,\n",
       " 1037089,\n",
       " 1037166,\n",
       " 1037170,\n",
       " 1037255,\n",
       " 1037385,\n",
       " 1037431,\n",
       " 1037473,\n",
       " 1037488,\n",
       " 1037586,\n",
       " 1037660,\n",
       " 1037687,\n",
       " 1037709,\n",
       " 1037800,\n",
       " 1037979,\n",
       " 1038066,\n",
       " 1038212,\n",
       " 1038268,\n",
       " 1038285,\n",
       " 1038326,\n",
       " 1038446,\n",
       " 1038532,\n",
       " 1038576,\n",
       " 1038677,\n",
       " 1038695,\n",
       " 1038765,\n",
       " 1038802,\n",
       " 1038831,\n",
       " 1038888,\n",
       " 1039013,\n",
       " 1039097,\n",
       " 1039141,\n",
       " 1039162,\n",
       " 1039186,\n",
       " 1039209,\n",
       " 1039217,\n",
       " 1039258,\n",
       " 1039466,\n",
       " 1039470,\n",
       " 1039516,\n",
       " 1039537,\n",
       " 1039579,\n",
       " 1039598,\n",
       " 1039689,\n",
       " 1039787,\n",
       " 1039810,\n",
       " 1039861,\n",
       " 1039878,\n",
       " 1039906,\n",
       " 1039939,\n",
       " 1039985,\n",
       " 1079035,\n",
       " 1079044,\n",
       " 1079072,\n",
       " 1079090,\n",
       " 1079149,\n",
       " 1079166,\n",
       " 1079170,\n",
       " 1079210,\n",
       " 1079261,\n",
       " 1079283,\n",
       " 1079299,\n",
       " 1079447,\n",
       " 1079530,\n",
       " 1079625,\n",
       " 1081431,\n",
       " 1081450,\n",
       " 1081464,\n",
       " 1081541,\n",
       " 1081619,\n",
       " 1081676,\n",
       " 1081687,\n",
       " 1081813,\n",
       " 1081937,\n",
       " 1081979,\n",
       " 1081998,\n",
       " 1083861,\n",
       " 1083883,\n",
       " 1083912,\n",
       " 1083927,\n",
       " 1084110,\n",
       " 1084284,\n",
       " 1084348,\n",
       " 1084376,\n",
       " 1084387,\n",
       " 1084422,\n",
       " 1086410,\n",
       " 1086528,\n",
       " 1086567,\n",
       " 1086620,\n",
       " 1086643,\n",
       " 1086727,\n",
       " 1086753,\n",
       " 1086805,\n",
       " 1086821,\n",
       " 1088804,\n",
       " 1088843,\n",
       " 1088879,\n",
       " 1088913,\n",
       " 1088981,\n",
       " 1089054,\n",
       " 1089076,\n",
       " 1091048,\n",
       " 1091102,\n",
       " 1091115,\n",
       " 1091147,\n",
       " 1091164,\n",
       " 1091213,\n",
       " 1091252,\n",
       " 1091485,\n",
       " 1091494,\n",
       " 1091505,\n",
       " 1093431,\n",
       " 1093464,\n",
       " 1093514,\n",
       " 1093717,\n",
       " 1093736,\n",
       " 1093943,\n",
       " 1093965,\n",
       " 1093979,\n",
       " 1095865,\n",
       " 1095946,\n",
       " 1095952,\n",
       " 1096005,\n",
       " 1096018,\n",
       " 1096172,\n",
       " 1096189,\n",
       " 1096206,\n",
       " 1096227,\n",
       " 1096239,\n",
       " 1096268,\n",
       " 1096271,\n",
       " 1096307,\n",
       " 1096342,\n",
       " 1096399,\n",
       " 1096413,\n",
       " 1098266,\n",
       " 1098292,\n",
       " 1098360,\n",
       " 1098376,\n",
       " 1098393,\n",
       " 1098409,\n",
       " 1098417,\n",
       " 1098474,\n",
       " 1098480,\n",
       " 1098575,\n",
       " 1098581,\n",
       " 1098653,\n",
       " 1098668,\n",
       " 1098702,\n",
       " 1098729,\n",
       " 1098747,\n",
       " 1098750,\n",
       " 1098764,\n",
       " 1098788,\n",
       " 1098796,\n",
       " 1100652,\n",
       " 1100675,\n",
       " 1100809,\n",
       " 1100836,\n",
       " 1100915,\n",
       " 1100929,\n",
       " 1100964,\n",
       " 1101072,\n",
       " 1101089,\n",
       " 1101118,\n",
       " 1101149,\n",
       " 1101184,\n",
       " 1101207,\n",
       " 1103052,\n",
       " 1103069,\n",
       " 1103108,\n",
       " 1103114,\n",
       " 1105444,\n",
       " 1105517,\n",
       " 1105522,\n",
       " 1212830,\n",
       " 1212935,\n",
       " 1212944,\n",
       " 1212989,\n",
       " 1213009,\n",
       " 1213045,\n",
       " 1213074,\n",
       " 1213091,\n",
       " 1213106,\n",
       " 1213112,\n",
       " 1213235,\n",
       " 1213289,\n",
       " 1213308,\n",
       " 1213323,\n",
       " 1213362,\n",
       " 1213420,\n",
       " 1215231,\n",
       " 1215322,\n",
       " 1215336,\n",
       " 1215358,\n",
       " 1215363,\n",
       " 1215407,\n",
       " 1215442,\n",
       " 1215499,\n",
       " 1215567,\n",
       " 1215590,\n",
       " 1215620,\n",
       " 1215706,\n",
       " 1215712,\n",
       " 1215768,\n",
       " 1217654,\n",
       " 1217709,\n",
       " 1217717,\n",
       " 1217824,\n",
       " 1217897,\n",
       " 1217951,\n",
       " 1217965,\n",
       " 1218033,\n",
       " 1218057,\n",
       " 1218103,\n",
       " 1218111,\n",
       " 1218135,\n",
       " 1218156,\n",
       " 1218172,\n",
       " 1220047,\n",
       " 1220132,\n",
       " 1220154,\n",
       " 1220193,\n",
       " 1220324,\n",
       " 1220580,\n",
       " 1220621,\n",
       " 1222433,\n",
       " 1222582,\n",
       " 1222644,\n",
       " 1224844,\n",
       " 1224867,\n",
       " 1224941,\n",
       " 1224995,\n",
       " 1225034,\n",
       " 1225078,\n",
       " 1225143,\n",
       " 1225151,\n",
       " 1225182,\n",
       " 1225198,\n",
       " 1225260,\n",
       " 1225276,\n",
       " 1225318,\n",
       " 1225321,\n",
       " 1225333,\n",
       " 1225357,\n",
       " 1225423,\n",
       " 1227241,\n",
       " 1227286,\n",
       " 1227372,\n",
       " 1227432,\n",
       " 1227578,\n",
       " 1227583,\n",
       " 1227688,\n",
       " 1227696,\n",
       " 1227721,\n",
       " 1227749,\n",
       " 1227757,\n",
       " 1229702,\n",
       " 1229729,\n",
       " 1229764,\n",
       " 1229773,\n",
       " 1229911,\n",
       " 1229928,\n",
       " 1229944,\n",
       " 1229967,\n",
       " 1230033,\n",
       " 1230092,\n",
       " 1230111,\n",
       " 1230172,\n",
       " 1230206,\n",
       " 1230227,\n",
       " 1232042,\n",
       " 1232099,\n",
       " 1232116,\n",
       " 1232120,\n",
       " 1232293,\n",
       " 1232392,\n",
       " 1232408,\n",
       " 1232441,\n",
       " 1232495,\n",
       " 1232512,\n",
       " 1232540,\n",
       " 1232571,\n",
       " 1232600,\n",
       " 1234595,\n",
       " 1234758,\n",
       " 1234800,\n",
       " 1234824,\n",
       " 1234875,\n",
       " 1234982,\n",
       " 1236883,\n",
       " 1236899,\n",
       " 1237031,\n",
       " 1237050,\n",
       " 1237088,\n",
       " 1237132,\n",
       " 1237160,\n",
       " 1237216,\n",
       " 1237369,\n",
       " 1237397,\n",
       " 1239259,\n",
       " 1239344,\n",
       " 1239389,\n",
       " 1239425,\n",
       " 1239448,\n",
       " 1239476,\n",
       " 1239507,\n",
       " 1239510,\n",
       " 1239534,\n",
       " 1239631,\n",
       " 1239820,\n",
       " 1317874,\n",
       " 1317880,\n",
       " 1317996,\n",
       " 1318051,\n",
       " 1318065,\n",
       " 1318079,\n",
       " 1318110,\n",
       " 1318126,\n",
       " 1318134,\n",
       " 1318233,\n",
       " 1318417,\n",
       " 1320296,\n",
       " 1320374,\n",
       " 1320426,\n",
       " 1320434,\n",
       " 1320483,\n",
       " 1320503,\n",
       " 1320544,\n",
       " 1320616,\n",
       " 1320643,\n",
       " 1320651,\n",
       " 1320682,\n",
       " 1322655,\n",
       " 1322832,\n",
       " 1322860,\n",
       " 1322921,\n",
       " 1322966,\n",
       " 1322984,\n",
       " 1325048,\n",
       " 1325115,\n",
       " 1325129,\n",
       " 1325200,\n",
       " 1325246,\n",
       " 1325269,\n",
       " 1325343,\n",
       " 1325379,\n",
       " 1325412,\n",
       " 1325471,\n",
       " 1325549,\n",
       " 1325557,\n",
       " 1327452,\n",
       " 1327576,\n",
       " 1327662,\n",
       " 1327720,\n",
       " 1327765,\n",
       " 1328028,\n",
       " 1329868,\n",
       " 1329894,\n",
       " 1329942,\n",
       " 1330004,\n",
       " 1330107,\n",
       " 1330161,\n",
       " 1330199,\n",
       " 1330284,\n",
       " 1330319,\n",
       " 1332252,\n",
       " 1332398,\n",
       " 1332427,\n",
       " 1332440,\n",
       " 1332549,\n",
       " 1332609,\n",
       " 1332726,\n",
       " 1332799,\n",
       " 1332803,\n",
       " 1334652,\n",
       " 1334817,\n",
       " 1334902,\n",
       " 1334915,\n",
       " 1335044,\n",
       " ...]"
      ]
     },
     "execution_count": 115,
     "metadata": {},
     "output_type": "execute_result"
    }
   ],
   "source": [
    "valtest_sorted = list(valtest_overview['eid'])\n",
    "valtest_sorted"
   ]
  },
  {
   "cell_type": "code",
   "execution_count": 102,
   "id": "60f72e91-e6af-4611-88eb-523f24a9b890",
   "metadata": {},
   "outputs": [
    {
     "name": "stdout",
     "output_type": "stream",
     "text": [
      "[0, 1, 2, 3]\n",
      "[2, 1, 0, 3]\n"
     ]
    }
   ],
   "source": [
    "indices = [0,1,2,3]\n",
    "print(indices)\n",
    "np.random.shuffle(indices)\n",
    "print(indices)"
   ]
  },
  {
   "cell_type": "code",
   "execution_count": 87,
   "id": "e55e5dcc-858d-487c-8504-3a473bfdb1c5",
   "metadata": {},
   "outputs": [
    {
     "data": {
      "text/plain": [
       "array([5, 7, 9])"
      ]
     },
     "execution_count": 87,
     "metadata": {},
     "output_type": "execute_result"
    }
   ],
   "source": [
    "np.asarray([1,2,3])+np.asarray([4,5,6])"
   ]
  },
  {
   "cell_type": "code",
   "execution_count": 104,
   "id": "ea549f2e-720c-4fcd-8d18-70c10d23551a",
   "metadata": {},
   "outputs": [
    {
     "data": {
      "text/plain": [
       "[2, 1, 0, 3]"
      ]
     },
     "execution_count": 104,
     "metadata": {},
     "output_type": "execute_result"
    }
   ],
   "source": [
    "indices"
   ]
  },
  {
   "cell_type": "code",
   "execution_count": 19,
   "id": "ebb7e30a-4e34-437a-a03b-ac7f4a73d83a",
   "metadata": {},
   "outputs": [
    {
     "name": "stderr",
     "output_type": "stream",
     "text": [
      "/tmp/ipykernel_149396/647575333.py:1: UserWarning: Boolean Series key will be reindexed to match DataFrame index.\n",
      "  data_overview[data_overview['predicted_age'].notna()][data_overview['split'] != 'train']\n"
     ]
    },
    {
     "data": {
      "text/html": [
       "<div>\n",
       "<style scoped>\n",
       "    .dataframe tbody tr th:only-of-type {\n",
       "        vertical-align: middle;\n",
       "    }\n",
       "\n",
       "    .dataframe tbody tr th {\n",
       "        vertical-align: top;\n",
       "    }\n",
       "\n",
       "    .dataframe thead th {\n",
       "        text-align: right;\n",
       "    }\n",
       "</style>\n",
       "<table border=\"1\" class=\"dataframe\">\n",
       "  <thead>\n",
       "    <tr style=\"text-align: right;\">\n",
       "      <th></th>\n",
       "      <th>eid</th>\n",
       "      <th>age</th>\n",
       "      <th>rfmri_ica25_ts</th>\n",
       "      <th>split</th>\n",
       "      <th>bmi</th>\n",
       "      <th>digit substitution</th>\n",
       "      <th>education</th>\n",
       "      <th>fluid intelligence</th>\n",
       "      <th>grip</th>\n",
       "      <th>depressive episode</th>\n",
       "      <th>all depression</th>\n",
       "      <th>recurrent depressive disorder</th>\n",
       "      <th>multiple sclerosis</th>\n",
       "      <th>sex</th>\n",
       "      <th>weekly beer</th>\n",
       "      <th>genetic pc 1</th>\n",
       "      <th>genetic pc 2</th>\n",
       "      <th>genetic pc 3</th>\n",
       "      <th>batch_nb</th>\n",
       "      <th>predicted_age</th>\n",
       "    </tr>\n",
       "  </thead>\n",
       "  <tbody>\n",
       "    <tr>\n",
       "      <th>30</th>\n",
       "      <td>1000322</td>\n",
       "      <td>66</td>\n",
       "      <td>/ritter/share/data/UKBB/ukb_data/bids/sub-1000...</td>\n",
       "      <td>test</td>\n",
       "      <td>23.2550</td>\n",
       "      <td>NaN</td>\n",
       "      <td>7.0</td>\n",
       "      <td>6.0</td>\n",
       "      <td>22.0</td>\n",
       "      <td>0.0</td>\n",
       "      <td>0.0</td>\n",
       "      <td>0.0</td>\n",
       "      <td>0.0</td>\n",
       "      <td>0</td>\n",
       "      <td>0.0</td>\n",
       "      <td>-14.4092</td>\n",
       "      <td>0.637092</td>\n",
       "      <td>-3.417730</td>\n",
       "      <td>4.0</td>\n",
       "      <td>34.406738</td>\n",
       "    </tr>\n",
       "    <tr>\n",
       "      <th>50</th>\n",
       "      <td>1000528</td>\n",
       "      <td>74</td>\n",
       "      <td>/ritter/share/data/UKBB/ukb_data/bids/sub-1000...</td>\n",
       "      <td>val</td>\n",
       "      <td>27.3324</td>\n",
       "      <td>NaN</td>\n",
       "      <td>NaN</td>\n",
       "      <td>NaN</td>\n",
       "      <td>32.0</td>\n",
       "      <td>NaN</td>\n",
       "      <td>NaN</td>\n",
       "      <td>NaN</td>\n",
       "      <td>0.0</td>\n",
       "      <td>1</td>\n",
       "      <td>NaN</td>\n",
       "      <td>-10.7470</td>\n",
       "      <td>0.469403</td>\n",
       "      <td>-0.459010</td>\n",
       "      <td>3.0</td>\n",
       "      <td>34.025490</td>\n",
       "    </tr>\n",
       "    <tr>\n",
       "      <th>66</th>\n",
       "      <td>1000712</td>\n",
       "      <td>60</td>\n",
       "      <td>/ritter/share/data/UKBB/ukb_data/bids/sub-1000...</td>\n",
       "      <td>test</td>\n",
       "      <td>26.8636</td>\n",
       "      <td>31.0</td>\n",
       "      <td>13.0</td>\n",
       "      <td>10.0</td>\n",
       "      <td>48.0</td>\n",
       "      <td>0.0</td>\n",
       "      <td>0.0</td>\n",
       "      <td>0.0</td>\n",
       "      <td>0.0</td>\n",
       "      <td>1</td>\n",
       "      <td>5.0</td>\n",
       "      <td>-11.1523</td>\n",
       "      <td>5.381880</td>\n",
       "      <td>-2.806790</td>\n",
       "      <td>3.0</td>\n",
       "      <td>32.626896</td>\n",
       "    </tr>\n",
       "    <tr>\n",
       "      <th>84</th>\n",
       "      <td>1000954</td>\n",
       "      <td>71</td>\n",
       "      <td>/ritter/share/data/UKBB/ukb_data/bids/sub-1000...</td>\n",
       "      <td>test</td>\n",
       "      <td>31.2450</td>\n",
       "      <td>NaN</td>\n",
       "      <td>15.0</td>\n",
       "      <td>7.0</td>\n",
       "      <td>22.0</td>\n",
       "      <td>0.0</td>\n",
       "      <td>0.0</td>\n",
       "      <td>0.0</td>\n",
       "      <td>NaN</td>\n",
       "      <td>0</td>\n",
       "      <td>NaN</td>\n",
       "      <td>-16.4391</td>\n",
       "      <td>4.371210</td>\n",
       "      <td>-3.187160</td>\n",
       "      <td>2.0</td>\n",
       "      <td>35.849377</td>\n",
       "    </tr>\n",
       "    <tr>\n",
       "      <th>110</th>\n",
       "      <td>1001223</td>\n",
       "      <td>73</td>\n",
       "      <td>/ritter/share/data/UKBB/ukb_data/bids/sub-1001...</td>\n",
       "      <td>test</td>\n",
       "      <td>27.8893</td>\n",
       "      <td>NaN</td>\n",
       "      <td>15.0</td>\n",
       "      <td>7.0</td>\n",
       "      <td>32.0</td>\n",
       "      <td>0.0</td>\n",
       "      <td>0.0</td>\n",
       "      <td>0.0</td>\n",
       "      <td>NaN</td>\n",
       "      <td>1</td>\n",
       "      <td>3.0</td>\n",
       "      <td>-15.4253</td>\n",
       "      <td>4.762750</td>\n",
       "      <td>-3.316360</td>\n",
       "      <td>8.0</td>\n",
       "      <td>35.549061</td>\n",
       "    </tr>\n",
       "    <tr>\n",
       "      <th>...</th>\n",
       "      <td>...</td>\n",
       "      <td>...</td>\n",
       "      <td>...</td>\n",
       "      <td>...</td>\n",
       "      <td>...</td>\n",
       "      <td>...</td>\n",
       "      <td>...</td>\n",
       "      <td>...</td>\n",
       "      <td>...</td>\n",
       "      <td>...</td>\n",
       "      <td>...</td>\n",
       "      <td>...</td>\n",
       "      <td>...</td>\n",
       "      <td>...</td>\n",
       "      <td>...</td>\n",
       "      <td>...</td>\n",
       "      <td>...</td>\n",
       "      <td>...</td>\n",
       "      <td>...</td>\n",
       "      <td>...</td>\n",
       "    </tr>\n",
       "    <tr>\n",
       "      <th>5780</th>\n",
       "      <td>1442182</td>\n",
       "      <td>72</td>\n",
       "      <td>/ritter/share/data/UKBB/ukb_data/bids/sub-1442...</td>\n",
       "      <td>val</td>\n",
       "      <td>25.9264</td>\n",
       "      <td>16.0</td>\n",
       "      <td>20.0</td>\n",
       "      <td>7.0</td>\n",
       "      <td>39.0</td>\n",
       "      <td>0.0</td>\n",
       "      <td>0.0</td>\n",
       "      <td>0.0</td>\n",
       "      <td>0.0</td>\n",
       "      <td>1</td>\n",
       "      <td>2.0</td>\n",
       "      <td>-13.3796</td>\n",
       "      <td>3.010550</td>\n",
       "      <td>-0.013104</td>\n",
       "      <td>5.0</td>\n",
       "      <td>36.260040</td>\n",
       "    </tr>\n",
       "    <tr>\n",
       "      <th>5828</th>\n",
       "      <td>1444496</td>\n",
       "      <td>51</td>\n",
       "      <td>/ritter/share/data/UKBB/ukb_data/bids/sub-1444...</td>\n",
       "      <td>val</td>\n",
       "      <td>23.2873</td>\n",
       "      <td>29.0</td>\n",
       "      <td>20.0</td>\n",
       "      <td>9.0</td>\n",
       "      <td>46.0</td>\n",
       "      <td>0.0</td>\n",
       "      <td>0.0</td>\n",
       "      <td>0.0</td>\n",
       "      <td>0.0</td>\n",
       "      <td>1</td>\n",
       "      <td>1.0</td>\n",
       "      <td>-13.2645</td>\n",
       "      <td>4.110280</td>\n",
       "      <td>-3.233230</td>\n",
       "      <td>0.0</td>\n",
       "      <td>33.601398</td>\n",
       "    </tr>\n",
       "    <tr>\n",
       "      <th>5851</th>\n",
       "      <td>1444745</td>\n",
       "      <td>59</td>\n",
       "      <td>/ritter/share/data/UKBB/ukb_data/bids/sub-1444...</td>\n",
       "      <td>test</td>\n",
       "      <td>26.4595</td>\n",
       "      <td>16.0</td>\n",
       "      <td>15.0</td>\n",
       "      <td>4.0</td>\n",
       "      <td>29.0</td>\n",
       "      <td>0.0</td>\n",
       "      <td>0.0</td>\n",
       "      <td>0.0</td>\n",
       "      <td>NaN</td>\n",
       "      <td>0</td>\n",
       "      <td>1.0</td>\n",
       "      <td>-11.9136</td>\n",
       "      <td>3.370400</td>\n",
       "      <td>-2.356050</td>\n",
       "      <td>6.0</td>\n",
       "      <td>34.330582</td>\n",
       "    </tr>\n",
       "    <tr>\n",
       "      <th>5863</th>\n",
       "      <td>1444875</td>\n",
       "      <td>71</td>\n",
       "      <td>/ritter/share/data/UKBB/ukb_data/bids/sub-1444...</td>\n",
       "      <td>val</td>\n",
       "      <td>27.7734</td>\n",
       "      <td>20.0</td>\n",
       "      <td>20.0</td>\n",
       "      <td>9.0</td>\n",
       "      <td>40.0</td>\n",
       "      <td>0.0</td>\n",
       "      <td>0.0</td>\n",
       "      <td>0.0</td>\n",
       "      <td>0.0</td>\n",
       "      <td>1</td>\n",
       "      <td>NaN</td>\n",
       "      <td>-12.8297</td>\n",
       "      <td>3.845490</td>\n",
       "      <td>-1.918140</td>\n",
       "      <td>8.0</td>\n",
       "      <td>34.833977</td>\n",
       "    </tr>\n",
       "    <tr>\n",
       "      <th>5888</th>\n",
       "      <td>1446939</td>\n",
       "      <td>75</td>\n",
       "      <td>/ritter/share/data/UKBB/ukb_data/bids/sub-1446...</td>\n",
       "      <td>test</td>\n",
       "      <td>27.3814</td>\n",
       "      <td>10.0</td>\n",
       "      <td>19.0</td>\n",
       "      <td>5.0</td>\n",
       "      <td>30.0</td>\n",
       "      <td>0.0</td>\n",
       "      <td>0.0</td>\n",
       "      <td>0.0</td>\n",
       "      <td>0.0</td>\n",
       "      <td>1</td>\n",
       "      <td>NaN</td>\n",
       "      <td>-14.9886</td>\n",
       "      <td>4.669970</td>\n",
       "      <td>-1.887130</td>\n",
       "      <td>5.0</td>\n",
       "      <td>33.259953</td>\n",
       "    </tr>\n",
       "  </tbody>\n",
       "</table>\n",
       "<p>248 rows × 20 columns</p>\n",
       "</div>"
      ],
      "text/plain": [
       "          eid  age                                     rfmri_ica25_ts split  \\\n",
       "30    1000322   66  /ritter/share/data/UKBB/ukb_data/bids/sub-1000...  test   \n",
       "50    1000528   74  /ritter/share/data/UKBB/ukb_data/bids/sub-1000...   val   \n",
       "66    1000712   60  /ritter/share/data/UKBB/ukb_data/bids/sub-1000...  test   \n",
       "84    1000954   71  /ritter/share/data/UKBB/ukb_data/bids/sub-1000...  test   \n",
       "110   1001223   73  /ritter/share/data/UKBB/ukb_data/bids/sub-1001...  test   \n",
       "...       ...  ...                                                ...   ...   \n",
       "5780  1442182   72  /ritter/share/data/UKBB/ukb_data/bids/sub-1442...   val   \n",
       "5828  1444496   51  /ritter/share/data/UKBB/ukb_data/bids/sub-1444...   val   \n",
       "5851  1444745   59  /ritter/share/data/UKBB/ukb_data/bids/sub-1444...  test   \n",
       "5863  1444875   71  /ritter/share/data/UKBB/ukb_data/bids/sub-1444...   val   \n",
       "5888  1446939   75  /ritter/share/data/UKBB/ukb_data/bids/sub-1446...  test   \n",
       "\n",
       "          bmi  digit substitution  education  fluid intelligence  grip  \\\n",
       "30    23.2550                 NaN        7.0                 6.0  22.0   \n",
       "50    27.3324                 NaN        NaN                 NaN  32.0   \n",
       "66    26.8636                31.0       13.0                10.0  48.0   \n",
       "84    31.2450                 NaN       15.0                 7.0  22.0   \n",
       "110   27.8893                 NaN       15.0                 7.0  32.0   \n",
       "...       ...                 ...        ...                 ...   ...   \n",
       "5780  25.9264                16.0       20.0                 7.0  39.0   \n",
       "5828  23.2873                29.0       20.0                 9.0  46.0   \n",
       "5851  26.4595                16.0       15.0                 4.0  29.0   \n",
       "5863  27.7734                20.0       20.0                 9.0  40.0   \n",
       "5888  27.3814                10.0       19.0                 5.0  30.0   \n",
       "\n",
       "      depressive episode  all depression  recurrent depressive disorder  \\\n",
       "30                   0.0             0.0                            0.0   \n",
       "50                   NaN             NaN                            NaN   \n",
       "66                   0.0             0.0                            0.0   \n",
       "84                   0.0             0.0                            0.0   \n",
       "110                  0.0             0.0                            0.0   \n",
       "...                  ...             ...                            ...   \n",
       "5780                 0.0             0.0                            0.0   \n",
       "5828                 0.0             0.0                            0.0   \n",
       "5851                 0.0             0.0                            0.0   \n",
       "5863                 0.0             0.0                            0.0   \n",
       "5888                 0.0             0.0                            0.0   \n",
       "\n",
       "      multiple sclerosis  sex  weekly beer  genetic pc 1  genetic pc 2  \\\n",
       "30                   0.0    0          0.0      -14.4092      0.637092   \n",
       "50                   0.0    1          NaN      -10.7470      0.469403   \n",
       "66                   0.0    1          5.0      -11.1523      5.381880   \n",
       "84                   NaN    0          NaN      -16.4391      4.371210   \n",
       "110                  NaN    1          3.0      -15.4253      4.762750   \n",
       "...                  ...  ...          ...           ...           ...   \n",
       "5780                 0.0    1          2.0      -13.3796      3.010550   \n",
       "5828                 0.0    1          1.0      -13.2645      4.110280   \n",
       "5851                 NaN    0          1.0      -11.9136      3.370400   \n",
       "5863                 0.0    1          NaN      -12.8297      3.845490   \n",
       "5888                 0.0    1          NaN      -14.9886      4.669970   \n",
       "\n",
       "      genetic pc 3  batch_nb  predicted_age  \n",
       "30       -3.417730       4.0      34.406738  \n",
       "50       -0.459010       3.0      34.025490  \n",
       "66       -2.806790       3.0      32.626896  \n",
       "84       -3.187160       2.0      35.849377  \n",
       "110      -3.316360       8.0      35.549061  \n",
       "...            ...       ...            ...  \n",
       "5780     -0.013104       5.0      36.260040  \n",
       "5828     -3.233230       0.0      33.601398  \n",
       "5851     -2.356050       6.0      34.330582  \n",
       "5863     -1.918140       8.0      34.833977  \n",
       "5888     -1.887130       5.0      33.259953  \n",
       "\n",
       "[248 rows x 20 columns]"
      ]
     },
     "execution_count": 19,
     "metadata": {},
     "output_type": "execute_result"
    }
   ],
   "source": [
    "data_overview[data_overview['predicted_age'].notna()][data_overview['split'] != 'train']"
   ]
  },
  {
   "cell_type": "code",
   "execution_count": 121,
   "id": "b15105a2-c0ae-4e8a-9f0e-4d5cdeffb1a6",
   "metadata": {},
   "outputs": [],
   "source": [
    "def get_split_index(split_ratio, dataset_size):\n",
    "    return int(np.floor(split_ratio * dataset_size))"
   ]
  },
  {
   "cell_type": "code",
   "execution_count": 130,
   "id": "b2a796a7-1c41-4e74-a186-381474e13512",
   "metadata": {},
   "outputs": [],
   "source": [
    "indices = list(data_overview['eid'])\n",
    "dataset_size = len(indices)\n",
    "#np.random.shuffle(indices)\n",
    "#indices = list(indices)\n",
    "# get list of split indices, feed to samplers\n",
    "split_index = get_split_index(0.8, dataset_size)\n",
    "train_idx, remain_idx = indices[:split_index], indices[split_index:]\n",
    "remain_split_index = get_split_index(0.5, len(remain_idx))\n",
    "val_idx, test_idx = remain_idx[:remain_split_index], remain_idx[remain_split_index:]"
   ]
  },
  {
   "cell_type": "code",
   "execution_count": 131,
   "id": "2645ca73-17e4-4c8b-8bae-8ccf9df5e433",
   "metadata": {},
   "outputs": [
    {
     "data": {
      "text/plain": [
       "4721"
      ]
     },
     "execution_count": 131,
     "metadata": {},
     "output_type": "execute_result"
    }
   ],
   "source": [
    "split_index"
   ]
  },
  {
   "cell_type": "code",
   "execution_count": 128,
   "id": "1aa9ed65-fa64-4d57-8384-ba20455a3e37",
   "metadata": {},
   "outputs": [
    {
     "name": "stdout",
     "output_type": "stream",
     "text": [
      "590\n",
      "591\n",
      "1181\n"
     ]
    }
   ],
   "source": [
    "print(len(val_idx))\n",
    "print(len(test_idx))\n",
    "print(len(val_idx+test_idx))"
   ]
  },
  {
   "cell_type": "code",
   "execution_count": null,
   "id": "09c86d63-3f78-4981-9a63-f6b6e0bbf542",
   "metadata": {},
   "outputs": [],
   "source": []
  }
 ],
 "metadata": {
  "kernelspec": {
   "display_name": "Python 3 (ipykernel)",
   "language": "python",
   "name": "python3"
  },
  "language_info": {
   "codemirror_mode": {
    "name": "ipython",
    "version": 3
   },
   "file_extension": ".py",
   "mimetype": "text/x-python",
   "name": "python",
   "nbconvert_exporter": "python",
   "pygments_lexer": "ipython3",
   "version": "3.10.9"
  }
 },
 "nbformat": 4,
 "nbformat_minor": 5
}
