{
 "cells": [
  {
   "cell_type": "markdown",
   "id": "8a1152ce-5ed5-45e2-94cf-cbc670cc0dd0",
   "metadata": {},
   "source": [
    "# Parallelising agents"
   ]
  },
  {
   "cell_type": "code",
   "execution_count": null,
   "id": "faadd30b-c576-480d-a8e6-fe2e57c94567",
   "metadata": {},
   "outputs": [],
   "source": [
    "# standard modules\n",
    "import importlib\n",
    "\n",
    "# PyTorch modules\n",
    "import torch\n",
    "from torch import optim, nn\n",
    "import pytorch_lightning as pl\n",
    "from pytorch_lightning.loggers import WandbLogger\n",
    "\n",
    "# Weights and Biases, argparse\n",
    "import wandb\n",
    "import argparse\n",
    " \n",
    "# import data + model modules\n",
    "from ukbb_package import ukbb_data\n",
    "from ukbb_package import ukbb_ica_models\n",
    "# in case of changes \n",
    "importlib.reload(ukbb_data)\n",
    "importlib.reload(ukbb_ica_models)\n",
    "\n",
    "# import custom functions\n",
    "from ukbb_package import utils\n",
    "# in case of changes\n",
    "importlib.reload(utils)"
   ]
  },
  {
   "cell_type": "code",
   "execution_count": null,
   "id": "8acb62cb-6063-4435-8c0d-a9c256237ee3",
   "metadata": {},
   "outputs": [],
   "source": [
    "# increase reproducibility\n",
    "utils.make_reproducible()\n",
    "\n",
    "# make sure only one CPU thread is used\n",
    "torch.set_num_threads(1)"
   ]
  },
  {
   "cell_type": "code",
   "execution_count": null,
   "id": "c79479b1-ced9-4e2b-b0fd-49490ef27acc",
   "metadata": {},
   "outputs": [],
   "source": [
    "wandb.login()"
   ]
  },
  {
   "cell_type": "code",
   "execution_count": null,
   "id": "a3ccba30-f4f6-43fd-8e45-f9cd530b8d38",
   "metadata": {},
   "outputs": [],
   "source": [
    "sweep_id = "
   ]
  },
  {
   "cell_type": "code",
   "execution_count": null,
   "id": "2d58a101-4a50-4aab-b7fe-16c5b6ad2731",
   "metadata": {},
   "outputs": [],
   "source": [
    "# run the sweep agent\n",
    "wandb.agent(sweep_id, function=utils.model_run)"
   ]
  },
  {
   "cell_type": "code",
   "execution_count": null,
   "id": "af502d92-6b25-4bd3-b880-2d5baf2efe9d",
   "metadata": {},
   "outputs": [],
   "source": [
    "# is this needed after sweep?\n",
    "wandb.finish()"
   ]
  }
 ],
 "metadata": {
  "kernelspec": {
   "display_name": "Python 3 (ipykernel)",
   "language": "python",
   "name": "python3"
  },
  "language_info": {
   "codemirror_mode": {
    "name": "ipython",
    "version": 3
   },
   "file_extension": ".py",
   "mimetype": "text/x-python",
   "name": "python",
   "nbconvert_exporter": "python",
   "pygments_lexer": "ipython3",
   "version": "3.10.9"
  }
 },
 "nbformat": 4,
 "nbformat_minor": 5
}
